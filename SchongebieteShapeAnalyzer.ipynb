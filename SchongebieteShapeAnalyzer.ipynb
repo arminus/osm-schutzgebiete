{
 "cells": [
  {
   "cell_type": "code",
   "execution_count": 1,
   "metadata": {},
   "outputs": [
    {
     "name": "stdout",
     "output_type": "stream",
     "text": [
      "Number of ways: 234\n",
      "Number of tagged ways: 225\n",
      "Tags: {'Bitte den gesamten Winter nicht betreten oder befahren!', 'Skitouren- und Schneeschuhgeher: Bitte nicht betreten oder befahren!', 'Skitouren- und Schneeschuhgeher: Bitte vom 1.4. bis 31.5. nicht betreten oder befahren!'}\n"
     ]
    }
   ],
   "source": [
    "import osmium\r\n",
    "import geopandas\r\n",
    "import folium\r\n",
    "\r\n",
    "class CounterHandler(osmium.SimpleHandler):\r\n",
    "    def __init__(self):\r\n",
    "        super(CounterHandler, self).__init__()\r\n",
    "        self.num_ways = 0\r\n",
    "        self.num_tagged_ways = 0\r\n",
    "        self.values = set()\r\n",
    "\r\n",
    "    def count(self, tags):\r\n",
    "        self.num_ways += 1\r\n",
    "        if tags.get('Regelung'):\r\n",
    "            self.num_tagged_ways += 1\r\n",
    "            self.values.add(tags.get('Regelung'))\r\n",
    "\r\n",
    "    def way(self, w):\r\n",
    "        self.count(w.tags)\r\n",
    "\r\n",
    "    # def node(self, n):\r\n",
    "    #     self.count(n.tags)\r\n",
    "\r\n",
    "    # def relation(self, r):\r\n",
    "    #     self.count(r.tags)\r\n",
    "\r\n",
    "h = CounterHandler()\r\n",
    "h.apply_file(\"data/Schongebiete.shp.osm\")\r\n",
    "print(\"Number of ways: %d\" % h.num_ways)    \r\n",
    "print(\"Number of tagged ways: %d\" % h.num_tagged_ways)    \r\n",
    "print(f\"Tags: {h.values}\")"
   ]
  },
  {
   "cell_type": "code",
   "execution_count": 2,
   "metadata": {},
   "outputs": [],
   "source": [
    "myshpfile = geopandas.read_file('data/Schongebiete/Schongebiete.shp')\r\n",
    "# print(f\"Input crs: {myshpfile.crs}\")\r\n",
    "myshpfile = myshpfile.to_crs(\"EPSG:4326\")\r\n",
    "myshpfile.to_file('data/Schongebiete.geojson', driver='GeoJSON')\r\n",
    "with open(\"data/Schongebiete.geojson\", \"r\") as text_file:\r\n",
    "    geojson = text_file.read()"
   ]
  },
  {
   "cell_type": "code",
   "execution_count": 3,
   "metadata": {},
   "outputs": [],
   "source": [
    "def style_function(feature):\r\n",
    "    if feature ['properties']['Regelung']:\r\n",
    "        return {\r\n",
    "            \"fillOpacity\": 0.5,\r\n",
    "            \"fillColor\": \"yellow\"\r\n",
    "        }\r\n",
    "    else:\r\n",
    "        return {\r\n",
    "            \"fillOpacity\": 0.5,\r\n",
    "            \"fillColor\": \"red\"\r\n",
    "        }\r\n",
    "\r\n",
    "m = folium.Map(\r\n",
    "    location=[47.68, 11.98],\r\n",
    "    zoom_start=12,\r\n",
    ")\r\n",
    "folium.GeoJson(\r\n",
    "    geojson, \r\n",
    "    name=\"geojson\", \r\n",
    "    style_function=style_function,\r\n",
    "    popup = folium.GeoJsonPopup(\r\n",
    "        fields=['Regelung'],\r\n",
    "        aliases=['Regelung']\r\n",
    "    )    \r\n",
    ").add_to(m)\r\n",
    "m.save(\"SchongebieteTags.html\")"
   ]
  }
 ],
 "metadata": {
  "kernelspec": {
   "display_name": "Python 3",
   "language": "python",
   "name": "python3"
  },
  "language_info": {
   "codemirror_mode": {
    "name": "ipython",
    "version": 3
   },
   "file_extension": ".py",
   "mimetype": "text/x-python",
   "name": "python",
   "nbconvert_exporter": "python",
   "pygments_lexer": "ipython3",
   "version": "3.8.2"
  },
  "orig_nbformat": 2
 },
 "nbformat": 4,
 "nbformat_minor": 2
}