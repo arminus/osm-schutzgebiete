{
 "cells": [
  {
   "cell_type": "code",
   "execution_count": null,
   "metadata": {},
   "outputs": [],
   "source": [
    "import json, glob\r\n",
    "from pandas import DataFrame\r\n",
    "import pandas as pd"
   ]
  },
  {
   "cell_type": "code",
   "execution_count": null,
   "metadata": {},
   "outputs": [],
   "source": [
    "dir=\"Q:/osm/scripts/python/statistics\"\r\n",
    "entries = []\r\n",
    "for file in glob.glob(f\"{dir}/*.json\"):\r\n",
    "    with open(file) as f:\r\n",
    "        data = json.load(f)\r\n",
    "        typeDict = {'date': data['lastUpdate']}\r\n",
    "        for i in range(0,7):\r\n",
    "            type = \"type\"+str(i+1)\r\n",
    "            typeDict[type] = data['typeStats'][i][type]\r\n",
    "        entries.append(typeDict)"
   ]
  },
  {
   "cell_type": "code",
   "execution_count": null,
   "metadata": {},
   "outputs": [],
   "source": [
    "df = DataFrame(entries)\r\n",
    "df['date'] = pd.to_datetime(df['date'], format=\"%d.%m.%Y %H:%M:%S\")\r\n",
    "df.set_index('date', inplace=True)\r\n",
    "df.sort_values(by=\"date\", inplace=True)\r\n",
    "df.loc[:,'Total'] = df.sum(axis=1)\r\n",
    "plot = df.plot(y='Total',title='Schutzgebiete')\r\n",
    "plot.figure.patch.set_facecolor('xkcd:white')\r\n",
    "plot.figure.savefig('stats.png')"
   ]
  }
 ],
 "metadata": {
  "kernelspec": {
   "display_name": "Python 3.8.2 64-bit",
   "metadata": {
    "interpreter": {
     "hash": "2db524e06e9f5f4ffedc911c917cb75e12dbc923643829bf417064a77eb14d37"
    }
   },
   "name": "python3"
  },
  "language_info": {
   "codemirror_mode": {
    "name": "ipython",
    "version": 3
   },
   "file_extension": ".py",
   "mimetype": "text/x-python",
   "name": "python",
   "nbconvert_exporter": "python",
   "pygments_lexer": "ipython3",
   "version": "3.8.2"
  },
  "orig_nbformat": 2
 },
 "nbformat": 4,
 "nbformat_minor": 2
}