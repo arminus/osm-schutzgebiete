{
 "cells": [
  {
   "cell_type": "code",
   "execution_count": 1,
   "metadata": {},
   "outputs": [
    {
     "name": "stdout",
     "output_type": "stream",
     "text": [
      "478\n"
     ]
    }
   ],
   "source": [
    "import fiona\r\n",
    "import pyproj\r\n",
    "from shapely.ops import transform\r\n",
    "from shapely.geometry import shape, mapping\r\n",
    "\r\n",
    "oldFeatures = []\r\n",
    "geoJson = 'E:/OSM/Schutzgebiete/Schongebiete.geojson'\r\n",
    "with fiona.open(geoJson) as input:\r\n",
    "    oldCrs = input.crs\r\n",
    "    for feat in input:\r\n",
    "        if feat['geometry'] != None:\r\n",
    "            oldFeatures.append(feat)\r\n",
    "print(len(oldFeatures))"
   ]
  },
  {
   "cell_type": "code",
   "execution_count": 2,
   "metadata": {},
   "outputs": [
    {
     "name": "stdout",
     "output_type": "stream",
     "text": [
      "477\n"
     ]
    }
   ],
   "source": [
    "# FIXME: convert to 3D for comparison with the provided shape files?\r\n",
    "project = pyproj.Transformer.from_proj(\r\n",
    "    pyproj.Proj(init='epsg:4326'), # source coordinate system\r\n",
    "    pyproj.Proj(init='epsg:31468')) # destination coordinate system\r\n",
    "\r\n",
    "count = 0\r\n",
    "for feat in oldFeatures:    \r\n",
    "    g = None\r\n",
    "    try:\r\n",
    "        oldGeom = shape(feat['geometry'])\r\n",
    "        g = transform(project.transform, oldGeom)\r\n",
    "    except:\r\n",
    "        pass\r\n",
    "    if g:\r\n",
    "        feat['geometry'] = mapping(g)\r\n",
    "        count += 1\r\n",
    "print(count)"
   ]
  },
  {
   "cell_type": "code",
   "execution_count": 3,
   "metadata": {},
   "outputs": [
    {
     "name": "stdout",
     "output_type": "stream",
     "text": [
      "{'init': 'epsg:4326'}\n"
     ]
    }
   ],
   "source": [
    "print(input.crs)"
   ]
  },
  {
   "cell_type": "code",
   "execution_count": 4,
   "metadata": {},
   "outputs": [],
   "source": [
    "# schema = {'geometry': 'LineString','properties': {'boundary': 'str:20'}}\r\n",
    "# epsg:31468\r\n",
    "# TODO: add relevant properties\r\n",
    "schema = {'geometry': 'Polygon'}\r\n",
    "with fiona.open('E:/OSM/Schutzgebiete/OSM/osm-shapes.shp', 'w', crs={'init':'epsg:31468'}, driver='ESRI Shapefile',schema=schema) as out:\r\n",
    "    for feat in oldFeatures:\r\n",
    "        myFeat = {}\r\n",
    "        myFeat['geometry'] = feat['geometry']\r\n",
    "        out.write(myFeat)"
   ]
  }
 ],
 "metadata": {
  "kernelspec": {
   "display_name": "Python 3.8.2 64-bit ('.env')",
   "metadata": {
    "interpreter": {
     "hash": "c1583a91ba8d9042e6938cef4a38a2659d1132ba00553427a7e20d2e070e8f70"
    }
   },
   "name": "python3"
  },
  "language_info": {
   "codemirror_mode": {
    "name": "ipython",
    "version": 3
   },
   "file_extension": ".py",
   "mimetype": "text/x-python",
   "name": "python",
   "nbconvert_exporter": "python",
   "pygments_lexer": "ipython3",
   "version": "3.8.2"
  },
  "orig_nbformat": 2
 },
 "nbformat": 4,
 "nbformat_minor": 2
}