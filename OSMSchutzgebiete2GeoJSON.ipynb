{
 "cells": [
  {
   "cell_type": "markdown",
   "metadata": {},
   "source": [
    "# [DE:Betretungsverbote für Gebiete im Winter](https://wiki.openstreetmap.org/wiki/DE:Betretungsverbote_für_Gebiete_im_Winter)\r\n",
    "\r\n",
    "* Extracts all ways via Overpass and filter/analyze further based on the definition above\r\n",
    "* perform some basic analyis (multiple types, untyped)\r\n",
    "* create a GeoJSON with feature properties set to type<1-8> for direct rendering\r\n",
    "  * style properties are set for https://geojson.io\r\n",
    "\r\n",
    "## ToDo:\r\n",
    "\r\n",
    "* support for relations\r\n",
    "* adjust style properties for types (within limits of both https://geojson.io and leaflet)\r\n",
    "* visualize geojson in Notebook\r\n",
    "* direct import for geojson.io via API?\r\n"
   ]
  },
  {
   "cell_type": "markdown",
   "metadata": {},
   "source": [
    "## Overpass Basis-Query"
   ]
  },
  {
   "cell_type": "code",
   "execution_count": 1,
   "metadata": {},
   "outputs": [
    {
     "name": "stdout",
     "output_type": "stream",
     "text": [
      "retrieved 319 ways and relations\n"
     ]
    }
   ],
   "source": [
    "import sys, re, os\r\n",
    "# https://github.com/jazzband/geojson\r\n",
    "import geojson\r\n",
    "# https://python-overpy.readthedocs.io/en/latest/index.html\r\n",
    "import overpy\r\n",
    "from IPython.core.display import display, HTML\r\n",
    "\r\n",
    "silent = False\r\n",
    "if sys.argv[1] == \"silent\":\r\n",
    "    silent = True\r\n",
    "\r\n",
    "api = overpy.Overpass()\r\n",
    "\r\n",
    "# http://norbertrenner.de/osm/bbox.html\r\n",
    "bbox = \"47.378,11.078,47.768,13.111\"\r\n",
    "# [bbox:{bbox}];\r\n",
    "query = f\"\"\"\r\n",
    "(\r\n",
    "way[\"boundary\"=\"protected_area\"][\"protect_class\"=\"14\"];\r\n",
    "relation[\"boundary\"=\"protected_area\"][\"protect_class\"=\"14\"];\r\n",
    ");\r\n",
    "(._;>;);\r\n",
    "out body;\r\n",
    "\"\"\"\r\n",
    "\r\n",
    "result = api.query(query)\r\n",
    "\r\n",
    "allResults = []         # this will be a list of relations and ways which are not part of a relation - i.e. the list we want to check\r\n",
    "allRelationWayIds = []  # list of wayIds which are part of a relation (which can be skipped form result.ways here)\r\n",
    "\r\n",
    "for rel in result.relations:\r\n",
    "    allResults.append(rel)\r\n",
    "    for member in rel.members:\r\n",
    "        if (type(member) == overpy.RelationWay):\r\n",
    "            way = result.get_way(member.ref, resolve_missing=True)\r\n",
    "            allRelationWayIds.append(way.id)\r\n",
    "\r\n",
    "for way in result.ways:\r\n",
    "    if not way.id in allRelationWayIds:\r\n",
    "        allResults.append(way)\r\n",
    "\r\n",
    "if not silent:\r\n",
    "    print (f\"retrieved {len(allResults)} ways and relations\")"
   ]
  },
  {
   "cell_type": "code",
   "execution_count": 2,
   "metadata": {},
   "outputs": [],
   "source": [
    "# transform all tags into the names used in the \"SQL-like\" queries in the Wiki\r\n",
    "def get_tags(tags):\r\n",
    "    seasonal = tags.get(\"seasonal\")\r\n",
    "    ski = tags.get(\"ski\")\r\n",
    "    ski_conditional = tags.get(\"ski:conditional\") or \"\"\r\n",
    "    access = tags.get(\"access\")\r\n",
    "    access_conditional = tags.get(\"access:conditional\") or \"\"\r\n",
    "    access_offroad = tags.get(\"access:offroad\") or \"\"\r\n",
    "    access_offroad_conditional = tags.get(\"access:offroad:conditional\") or \"\"\r\n",
    "    \r\n",
    "    return seasonal, ski, ski_conditional, access, access_conditional, access_offroad, access_offroad_conditional"
   ]
  },
  {
   "cell_type": "markdown",
   "metadata": {},
   "source": [
    "## 1 - [Ganzjähriges Befahrungsverbot für Skifahrer](https://wiki.openstreetmap.org/wiki/DE:Betretungsverbote_f%C3%BCr_Gebiete_im_Winter#Ganzj.C3.A4hriges_Befahrungsverbot_f.C3.BCr_Skifahrer)\r\n"
   ]
  },
  {
   "cell_type": "code",
   "execution_count": 3,
   "metadata": {},
   "outputs": [
    {
     "name": "stdout",
     "output_type": "stream",
     "text": [
      "type1 = 30\n"
     ]
    }
   ],
   "source": [
    "# Note: in a non-notebook script, all queries should be done in a single loop\r\n",
    "allTypes= [] # this will be a list[0-7][], i.e. 8 lists, grouped by types\r\n",
    "wayRels = []\r\n",
    "for wayRel in allResults:\r\n",
    "    seasonal, ski, ski_conditional, access, access_conditional, access_offroad, access_offroad_conditional = get_tags(wayRel.tags)\r\n",
    "    \r\n",
    "    if (\r\n",
    "        seasonal is None\r\n",
    "        or seasonal == 'no'\r\n",
    "    ) and (\r\n",
    "        ski in ['no', 'private'] or (\r\n",
    "            access in ['no','private'] and (\r\n",
    "                ski is None\r\n",
    "                or not ski in ['yes','designated','permissive']\r\n",
    "            )\r\n",
    "        )\r\n",
    "    ):\r\n",
    "        wayRels.append(wayRel)\r\n",
    "if not silent:        \r\n",
    "    print(f\"type1 = {len(wayRels)}\")\r\n",
    "allTypes.append(wayRels)"
   ]
  },
  {
   "cell_type": "markdown",
   "metadata": {},
   "source": [
    "## 2 - [Monatsabhängiges oder saisonales Befahrungsverbot für Skifahrer](https://wiki.openstreetmap.org/wiki/DE:Betretungsverbote_f%C3%BCr_Gebiete_im_Winter#Monatsabh.C3.A4ngiges_oder_saisonales_Befahrungsverbot_f.C3.BCr_Skifahrer)"
   ]
  },
  {
   "cell_type": "code",
   "execution_count": 4,
   "metadata": {},
   "outputs": [
    {
     "name": "stdout",
     "output_type": "stream",
     "text": [
      "type2 = 12\n"
     ]
    }
   ],
   "source": [
    "wayRels = []\r\n",
    "for wayRel in allResults:\r\n",
    "    seasonal, ski, ski_conditional, access, access_conditional, access_offroad, access_offroad_conditional = get_tags(wayRel.tags)\r\n",
    "\r\n",
    "    if (\r\n",
    "        (\r\n",
    "            (\r\n",
    "                not (seasonal is None or seasonal == 'no')\r\n",
    "            ) and (\r\n",
    "                ski in ['no', 'private']\r\n",
    "                or re.match('(no|private) *@ *\\(?(Jan|Feb|Mar|Apr|May|Jun|Jul|Aug|Sep|Oct|Nov|Dec) *[0-9]* *[-,\\,]? *(Jan|Feb|Mar|Apr|May|Jun|Jul|Aug|Sep|Oct|Nov|Dec)* *[0-9]*\\)?', ski_conditional)\r\n",
    "                or (\r\n",
    "                    (\r\n",
    "                        access in ['no','private']\r\n",
    "                        or re.match('(no|private) *@ *\\(?(Jan|Feb|Mar|Apr|May|Jun|Jul|Aug|Sep|Oct|Nov|Dec) *[0-9]* *[-,\\,]? *(Jan|Feb|Mar|Apr|May|Jun|Jul|Aug|Sep|Oct|Nov|Dec)* *[0-9]*\\)?', access_conditional)\r\n",
    "                    ) and (\r\n",
    "                        ski is None\r\n",
    "                        or not ski in ['yes','designated','permissive']\r\n",
    "                    )\r\n",
    "                )\r\n",
    "            )\r\n",
    "            ) or (\r\n",
    "                re.match('(no|private) *@ *\\(?(Jan|Feb|Mar|Apr|May|Jun|Jul|Aug|Sep|Oct|Nov|Dec) *[0-9]* *[-,\\,]? *(Jan|Feb|Mar|Apr|May|Jun|Jul|Aug|Sep|Oct|Nov|Dec)* *[0-9]*\\)?', ski_conditional)\r\n",
    "                or (\r\n",
    "                    (\r\n",
    "                        re.match('(no|private) *@ *\\(?(Jan|Feb|Mar|Apr|May|Jun|Jul|Aug|Sep|Oct|Nov|Dec) *[0-9]* *[-,\\,]? *(Jan|Feb|Mar|Apr|May|Jun|Jul|Aug|Sep|Oct|Nov|Dec)* *[0-9]*\\)?', access_conditional)\r\n",
    "                    ) and (\r\n",
    "                        ski is None\r\n",
    "                    )\r\n",
    "                )\r\n",
    "            )\r\n",
    "        ):\r\n",
    "        wayRels.append(wayRel)\r\n",
    "if not silent:        \r\n",
    "    print(f\"type2 = {len(wayRels)}\")        \r\n",
    "allTypes.append(wayRels)"
   ]
  },
  {
   "cell_type": "markdown",
   "metadata": {},
   "source": [
    "## 3 - [Ganzjährige \"Bitte um Nichtbefahrung\" für Skifahrer](https://wiki.openstreetmap.org/wiki/DE:Betretungsverbote_f%C3%BCr_Gebiete_im_Winter#Ganzj.C3.A4hrige_.22Bitte_um_Nichtbefahrung.22_f.C3.BCr_Skifahrer)"
   ]
  },
  {
   "cell_type": "code",
   "execution_count": 5,
   "metadata": {},
   "outputs": [
    {
     "name": "stdout",
     "output_type": "stream",
     "text": [
      "type3 = 0\n"
     ]
    }
   ],
   "source": [
    "wayRels = []\r\n",
    "for wayRel in allResults:\r\n",
    "    seasonal, ski, ski_conditional, access, access_conditional, access_offroad, access_offroad_conditional = get_tags(wayRel.tags)\r\n",
    "    \r\n",
    "    if ( \r\n",
    "        seasonal is None\r\n",
    "        or seasonal == 'no'\r\n",
    "    ) and (\r\n",
    "        ski == 'discouraged'\r\n",
    "        or (\r\n",
    "            access == 'discouraged' and (\r\n",
    "                ski is None\r\n",
    "                or not ski in ['yes','designated','permissive']\r\n",
    "            )\r\n",
    "        )\r\n",
    "    ):\r\n",
    "        wayRels.append(wayRel)\r\n",
    "if not silent:\r\n",
    "    print(f\"type3 = {len(wayRels)}\")\r\n",
    "allTypes.append(wayRels)"
   ]
  },
  {
   "cell_type": "markdown",
   "metadata": {},
   "source": [
    "## 4 - [Monatsabhängige oder saisonale \"Bitte um Nichtbefahrung\" für Skifahrer](https://wiki.openstreetmap.org/wiki/DE:Betretungsverbote_f%C3%BCr_Gebiete_im_Winter#Monatsabh.C3.A4ngige_oder_saisonale_.22Bitte_um_Nichtbefahrung.22_f.C3.BCr_Skifahrer)"
   ]
  },
  {
   "cell_type": "code",
   "execution_count": 6,
   "metadata": {},
   "outputs": [
    {
     "name": "stdout",
     "output_type": "stream",
     "text": [
      "type4 = 121\n"
     ]
    }
   ],
   "source": [
    "wayRels = []\r\n",
    "for wayRel in allResults:\r\n",
    "    seasonal, ski, ski_conditional, access, access_conditional, access_offroad, access_offroad_conditional = get_tags(wayRel.tags)\r\n",
    "\r\n",
    "    if (\r\n",
    "        (\r\n",
    "            (\r\n",
    "                not (seasonal is None or seasonal == 'no') \r\n",
    "            ) and (\r\n",
    "                ski == 'discouraged'\r\n",
    "                or re.match('(discouraged) *@ *\\(?(Jan|Feb|Mar|Apr|May|Jun|Jul|Aug|Sep|Oct|Nov|Dec) *[0-9]* *[-,\\,]? *(Jan|Feb|Mar|Apr|May|Jun|Jul|Aug|Sep|Oct|Nov|Dec)* *[0-9]*\\)?', ski_conditional)\r\n",
    "                or (\r\n",
    "                    (\r\n",
    "                        access == 'discouraged' \r\n",
    "                        or re.match('(discouraged) *@ *\\(?(Jan|Feb|Mar|Apr|May|Jun|Jul|Aug|Sep|Oct|Nov|Dec) *[0-9]* *[-,\\,]? *(Jan|Feb|Mar|Apr|May|Jun|Jul|Aug|Sep|Oct|Nov|Dec)* *[0-9]*\\)?', access_conditional)\r\n",
    "                    ) and (\r\n",
    "                        ski is None\r\n",
    "                        or not ski in ['yes','designated','permissive']\r\n",
    "                    )\r\n",
    "                )\r\n",
    "            )\r\n",
    "        ) or (\r\n",
    "            re.match('(discouraged) *@ *\\(?(Jan|Feb|Mar|Apr|May|Jun|Jul|Aug|Sep|Oct|Nov|Dec) *[0-9]* *[-,\\,]? *(Jan|Feb|Mar|Apr|May|Jun|Jul|Aug|Sep|Oct|Nov|Dec)* *[0-9]*\\)?', ski_conditional)\r\n",
    "            or (\r\n",
    "                (\r\n",
    "                    re.match('(discouraged) *@ *\\(?(Jan|Feb|Mar|Apr|May|Jun|Jul|Aug|Sep|Oct|Nov|Dec) *[0-9]* *[-,\\,]? *(Jan|Feb|Mar|Apr|May|Jun|Jul|Aug|Sep|Oct|Nov|Dec)* *[0-9]*\\)?', access_conditional)\r\n",
    "                ) and (\r\n",
    "                    ski is None\r\n",
    "                )\r\n",
    "            )        \r\n",
    "        )\r\n",
    "    ):\r\n",
    "        wayRels.append(wayRel)\r\n",
    "if not silent:\r\n",
    "    print(f\"type4 = {len(wayRels)}\")\r\n",
    "allTypes.append(wayRels)"
   ]
  },
  {
   "cell_type": "markdown",
   "metadata": {},
   "source": [
    "## 5 - [Ganzjähriges Skibefahrungsverbot auf der Fläche außerhalb der Wege (Wegegebot)](https://wiki.openstreetmap.org/wiki/DE:Betretungsverbote_f%C3%BCr_Gebiete_im_Winter#Ganzj.C3.A4hriges_Skibefahrungsverbot_auf_der_Fl.C3.A4che_au.C3.9Ferhalb_der_Wege_.28Wegegebot.29)"
   ]
  },
  {
   "cell_type": "code",
   "execution_count": 7,
   "metadata": {},
   "outputs": [
    {
     "name": "stdout",
     "output_type": "stream",
     "text": [
      "type5 = 13\n"
     ]
    }
   ],
   "source": [
    "wayRels = []\r\n",
    "for wayRel in allResults:\r\n",
    "    seasonal, ski, ski_conditional, access, access_conditional, access_offroad, access_offroad_conditional = get_tags(wayRel.tags)\r\n",
    "\r\n",
    "    if ( \r\n",
    "        seasonal is None \r\n",
    "        or seasonal == 'no' \r\n",
    "    ) and (\r\n",
    "        access_offroad in ['no','private'] and (\r\n",
    "            ski is None\r\n",
    "            or not ski in ['yes','designated','permissive']\r\n",
    "        )\r\n",
    "    ):\r\n",
    "        wayRels.append(wayRel)\r\n",
    "if not silent:\r\n",
    "    print(f\"type5 = {len(wayRels)}\")\r\n",
    "allTypes.append(wayRels)"
   ]
  },
  {
   "cell_type": "markdown",
   "metadata": {},
   "source": [
    "## 6 - [Monatsabhängiges oder saisonales Skibefahrungsverbot auf der Fläche außerhalb der Wege (saisonales Wegegebot)](https://wiki.openstreetmap.org/wiki/DE:Betretungsverbote_f%C3%BCr_Gebiete_im_Winter#Monatsabh.C3.A4ngiges_oder_saisonales_Skibefahrungsverbot_auf_der_Fl.C3.A4che_au.C3.9Ferhalb_der_Wege_.28saisonales_Wegegebot.29)"
   ]
  },
  {
   "cell_type": "code",
   "execution_count": 8,
   "metadata": {},
   "outputs": [
    {
     "name": "stdout",
     "output_type": "stream",
     "text": [
      "type6 = 3\n"
     ]
    }
   ],
   "source": [
    "wayRels = []\r\n",
    "for wayRel in allResults:\r\n",
    "    seasonal, ski, ski_conditional, access, access_conditional, access_offroad, access_offroad_conditional = get_tags(wayRel.tags)\r\n",
    "    if (\r\n",
    "        (\r\n",
    "            (\r\n",
    "                not (seasonal is None or seasonal == 'no')\r\n",
    "            ) and (\r\n",
    "                access_offroad in ['no','private']\r\n",
    "                or re.match('(no|private) *@ *\\(?(Jan|Feb|Mar|Apr|May|Jun|Jul|Aug|Sep|Oct|Nov|Dec) *[0-9]* *[-,\\,]? *(Jan|Feb|Mar|Apr|May|Jun|Jul|Aug|Sep|Oct|Nov|Dec)* *[0-9]*\\)?', access_offroad_conditional)\r\n",
    "            ) and (\r\n",
    "                ski is None\r\n",
    "                or not ski in ('yes','designated','permissive')\r\n",
    "            )\r\n",
    "        )\r\n",
    "    ) or (\r\n",
    "        re.match('(no|private) *@ *\\(?(Jan|Feb|Mar|Apr|May|Jun|Jul|Aug|Sep|Oct|Nov|Dec) *[0-9]* *[-,\\,]? *(Jan|Feb|Mar|Apr|May|Jun|Jul|Aug|Sep|Oct|Nov|Dec)* *[0-9]*\\)?', access_offroad_conditional)\r\n",
    "        and (\r\n",
    "            ski is None\r\n",
    "        )\r\n",
    "    ):\r\n",
    "        wayRels.append(wayRel)\r\n",
    "if not silent:\r\n",
    "    print(f\"type6 = {len(wayRels)}\")\r\n",
    "allTypes.append(wayRels)"
   ]
  },
  {
   "cell_type": "markdown",
   "metadata": {},
   "source": [
    "## 7 - [Ganzjährige \"Bitte um Nichtbefahrung\" der Fläche außerhalb der Wege](https://wiki.openstreetmap.org/wiki/DE:Betretungsverbote_f%C3%BCr_Gebiete_im_Winter#Ganzj.C3.A4hrige_.22Bitte_um_Nichtbefahrung.22_der_Fl.C3.A4che_au.C3.9Ferhalb_der_Wege)"
   ]
  },
  {
   "cell_type": "code",
   "execution_count": 9,
   "metadata": {},
   "outputs": [
    {
     "name": "stdout",
     "output_type": "stream",
     "text": [
      "type7 = 1\n"
     ]
    }
   ],
   "source": [
    "wayRels = []\r\n",
    "for wayRel in allResults:\r\n",
    "    seasonal, ski, ski_conditional, access, access_conditional, access_offroad, access_offroad_conditional = get_tags(wayRel.tags)\r\n",
    "\r\n",
    "    if ( \r\n",
    "        seasonal is None \r\n",
    "        or seasonal == 'no'\r\n",
    "    ) and (\r\n",
    "        access_offroad == 'discouraged' and (\r\n",
    "            ski is None\r\n",
    "            or not ski in ['yes','designated','permissive']\r\n",
    "        )\r\n",
    "    ):\r\n",
    "        wayRels.append(wayRel)\r\n",
    "if not silent:\r\n",
    "    print(f\"type7 = {len(wayRels)}\")\r\n",
    "allTypes.append(wayRels)"
   ]
  },
  {
   "cell_type": "markdown",
   "metadata": {},
   "source": [
    "## 8 - [Monatsabhängige oder saisonale \"Bitte um Nichtbefahrung\" auf der Fläche außerhalb der Wege](https://wiki.openstreetmap.org/wiki/DE:Betretungsverbote_f%C3%BCr_Gebiete_im_Winter#Monatsabh.C3.A4ngige_oder_saisonale_.22Bitte_um_Nichtbefahrung.22_auf_der_Fl.C3.A4che_au.C3.9Ferhalb_der_Wege)"
   ]
  },
  {
   "cell_type": "code",
   "execution_count": 10,
   "metadata": {},
   "outputs": [
    {
     "name": "stdout",
     "output_type": "stream",
     "text": [
      "type8 = 0\n"
     ]
    }
   ],
   "source": [
    "wayRels = []\r\n",
    "for wayRel in allResults:\r\n",
    "    seasonal, ski, ski_conditional, access, access_conditional, access_offroad, access_offroad_conditional = get_tags(wayRel.tags)\r\n",
    "\r\n",
    "    if (\r\n",
    "        (\r\n",
    "            (\r\n",
    "                not (seasonal is None or seasonal == 'no')\r\n",
    "            ) and (\r\n",
    "                access_offroad == 'discouraged' \r\n",
    "                or re.match('(discouraged) *@ *\\(?(Jan|Feb|Mar|Apr|May|Jun|Jul|Aug|Sep|Oct|Nov|Dec) *[0-9]* *[-,\\,]? *(Jan|Feb|Mar|Apr|May|Jun|Jul|Aug|Sep|Oct|Nov|Dec)* *[0-9]*\\)?', access_offroad_conditional)\r\n",
    "            ) and (\r\n",
    "                ski is None\r\n",
    "                or not ski in ['yes','designated','permissive']\r\n",
    "            )\r\n",
    "        )\r\n",
    "    ) or (\r\n",
    "        re.match('(discouraged) *@ *\\(?(Jan|Feb|Mar|Apr|May|Jun|Jul|Aug|Sep|Oct|Nov|Dec) *[0-9]* *[-,\\,]? *(Jan|Feb|Mar|Apr|May|Jun|Jul|Aug|Sep|Oct|Nov|Dec)* *[0-9]*\\)?', access_offroad_conditional)\r\n",
    "        and (\r\n",
    "            ski is None\r\n",
    "        )\r\n",
    "    ):\r\n",
    "        wayRels.append(wayRel)\r\n",
    "if not silent:\r\n",
    "    print(f\"type8 = {len(wayRels)}\")\r\n",
    "allTypes.append(wayRels)"
   ]
  },
  {
   "cell_type": "markdown",
   "metadata": {},
   "source": [
    "## Tags af Basis der einzelnen Listen setzen"
   ]
  },
  {
   "cell_type": "code",
   "execution_count": 11,
   "metadata": {},
   "outputs": [],
   "source": [
    "multiClassifieds = []\r\n",
    "unclassifieds = []\r\n",
    "typeCount = [0,0,0,0,0,0,0,0]\r\n",
    "\r\n",
    "for wayRel in allResults:\r\n",
    "    types = []\r\n",
    "    for i in range(0, 7):\r\n",
    "        if wayRel in allTypes[i]:\r\n",
    "            types.append(f\"type{i+1}\")\r\n",
    "            typeCount[i] += 1\r\n",
    "    if len(types) == 1:\r\n",
    "        wayRel.tags['classification'] = types[0]\r\n",
    "    else:\r\n",
    "        wayRel.tags['classification'] = ','.join(types)\r\n",
    "    if type(wayRel) == overpy.Relation:\r\n",
    "        wayRel.tags[\"@id\"] = f\"relation/{wayRel.id}\"\r\n",
    "    else:\r\n",
    "        wayRel.tags[\"@id\"] = f\"way/{wayRel.id}\"\r\n",
    "\r\n",
    "    if len(types) > 1:\r\n",
    "        multiClassifieds.append(wayRel)\r\n",
    "\r\n",
    "    if len(types) == 0:\r\n",
    "        unclassifieds.append(wayRel)"
   ]
  },
  {
   "cell_type": "markdown",
   "metadata": {},
   "source": [
    "## Ergebnisse:"
   ]
  },
  {
   "cell_type": "code",
   "execution_count": 12,
   "metadata": {},
   "outputs": [
    {
     "data": {
      "text/html": "<h3>Type overview [180]</h3><ul><li>1: 30</li><li>2: 12</li><li>3: 0</li><li>4: 121</li><li>5: 13</li><li>6: 3</li><li>7: 1</li></u>",
      "text/plain": "<IPython.core.display.HTML object>"
     },
     "metadata": {
      "transient": {}
     },
     "output_type": "display_data"
    },
    {
     "data": {
      "text/html": "<h3>Unclassified [139]</h3><ul><li><a href='https://www.openstreetmap.org/way/58172'>58172</a> -> {'boundary': 'protected_area', 'landuse': 'forest', 'leaf_type': 'mixed', 'protect_class': '14', 'type': 'multipolygon', 'classification': '', '@id': 'relation/58172'}</li><li><a href='https://www.openstreetmap.org/way/2632380'>2632380</a> -> {'addr:city': 'Natchitoches', 'addr:country': 'US', 'addr:housenumber': '615', 'addr:postcode': '71457', 'addr:state': 'LA', 'addr:street': 'South Dr', 'boundary': 'protected_area', 'name': 'Natchitoches National Fish Hatchery', 'protect_class': '14', 'type': 'multipolygon', 'classification': '', '@id': 'relation/2632380'}</li><li><a href='https://www.openstreetmap.org/way/3080149'>3080149</a> -> {'boundary': 'protected_area', 'operator': 'Parc National des Calanques', 'protect_class': '14', 'protection_title': 'Zone de non-prélèvement', 'seamark:name': 'Zone de non-prélèvement Devenson', 'seamark:precautionary_area:restriction': 'no_fishing', 'seamark:type': 'precautionary_area', 'type': 'boundary', 'classification': '', '@id': 'relation/3080149'}</li><li><a href='https://www.openstreetmap.org/way/3080150'>3080150</a> -> {'boundary': 'protected_area', 'operator': 'Parc National des Calanques', 'protect_class': '14', 'protection_title': 'Zone de non-prélèvement', 'seamark:name': 'Zone de non-prélèvement Sormiou', 'seamark:precautionary_area:restriction': 'no_fishing', 'seamark:type': 'precautionary_area', 'type': 'boundary', 'classification': '', '@id': 'relation/3080150'}</li><li><a href='https://www.openstreetmap.org/way/3080152'>3080152</a> -> {'boundary': 'protected_area', 'operator': 'Parc National des Calanques', 'protect_class': '14', 'protection_title': 'Zone de non-prélèvement', 'seamark:name': 'Zone de non-prélèvement Cacau', 'seamark:precautionary_area:restriction': 'no_fishing', 'seamark:type': 'precautionary_area', 'type': 'boundary', 'classification': '', '@id': 'relation/3080152'}</li><li><a href='https://www.openstreetmap.org/way/3080153'>3080153</a> -> {'boundary': 'protected_area', 'operator': 'Parc National des Calanques', 'protect_class': '14', 'protection_title': 'Zone de non-prélèvement', 'seamark:name': 'Zone de non-prélèvement Cap Soubeyran', 'seamark:precautionary_area:restriction': 'no_fishing', 'seamark:type': 'precautionary_area', 'type': 'boundary', 'classification': '', '@id': 'relation/3080153'}</li><li><a href='https://www.openstreetmap.org/way/4243710'>4243710</a> -> {'boundary': 'protected_area', 'operator': 'КРООиР', 'protect_class': '14', 'protection_title': 'Воспроизводственный участок КРООиР', 'type': 'boundary', 'classification': '', '@id': 'relation/4243710'}</li><li><a href='https://www.openstreetmap.org/way/5011504'>5011504</a> -> {'boundary': 'protected_area', 'name': 'Дорогучинское', 'operator': 'ООО «Дорогучинское»', 'phone': '+7 8364 433438', 'protect_class': '14', 'protection_title': 'охотничье хозяйство', 'type': 'boundary', 'classification': '', '@id': 'relation/5011504'}</li><li><a href='https://www.openstreetmap.org/way/5011505'>5011505</a> -> {'boundary': 'protected_area', 'name': 'Дубрава', 'name:en': 'Dubrava', 'operator': 'Охотничий клуб «Дубрава»', 'phone': '8-83632-6-30-43', 'protect_class': '14', 'protection_title': 'охотничье хозяйство', 'type': 'boundary', 'classification': '', '@id': 'relation/5011505'}</li><li><a href='https://www.openstreetmap.org/way/5011506'>5011506</a> -> {'boundary': 'protected_area', 'email': 'Les-p05@mail.ru', 'name': 'Руткинское', 'operator': 'Лесное предприятие', 'phone': '+7 83632 91867', 'protect_class': '14', 'protection_title': 'охотничье хозяйство', 'type': 'boundary', 'classification': '', '@id': 'relation/5011506'}</li><li><a href='https://www.openstreetmap.org/way/5208163'>5208163</a> -> {'boundary': 'protected_area', 'email': 'gupptk@mari-el.ru', 'name': 'Ветлужское', 'operator': 'Марий Эл Дорстрой', 'phone': '+7 83632 71123', 'protect_class': '14', 'protection_title': 'охотничье хозяйство', 'type': 'boundary', 'classification': '', '@id': 'relation/5208163'}</li><li><a href='https://www.openstreetmap.org/way/5208167'>5208167</a> -> {'boundary': 'protected_area', 'name': 'Кромское', 'operator': 'ООО «Кромское»', 'phone': '+7 8362 630448', 'protect_class': '14', 'protection_title': 'охотничье хозяйство', 'type': 'boundary', 'classification': '', '@id': 'relation/5208167'}</li><li><a href='https://www.openstreetmap.org/way/5208172'>5208172</a> -> {'boundary': 'protected_area', 'email': 'kzmi@mail.ru', 'name': 'Юркинское', 'operator': 'Краснооктябрьский завод металлоизделий', 'phone': '+7 8362 533925', 'protect_class': '14', 'protection_title': 'охотничье хозяйство', 'type': 'boundary', 'classification': '', '@id': 'relation/5208172'}</li><li><a href='https://www.openstreetmap.org/way/5214490'>5214490</a> -> {'boundary': 'protected_area', 'email': 'robot@marspes.ru', 'name': 'Тёплая речка', 'operator': 'Тёплая речка', 'phone': '+7 8362 416921', 'protect_class': '14', 'protection_title': 'охотничье хозяйство', 'type': 'boundary', 'classification': '', '@id': 'relation/5214490'}</li><li><a href='https://www.openstreetmap.org/way/5214516'>5214516</a> -> {'boundary': 'protected_area', 'email': 'skkedr@list.ru', 'name': 'Строительный двор «Усадьба»', 'operator': 'Строительный двор «Усадьба»', 'phone': '+7 8352 458068', 'protect_class': '14', 'protection_title': 'охотничье хозяйство', 'type': 'boundary', 'classification': '', '@id': 'relation/5214516'}</li><li><a href='https://www.openstreetmap.org/way/5280425'>5280425</a> -> {'boundary': 'protected_area', 'name': 'Кужолок', 'name:en': 'Kuzholok', 'operator': 'Охотничье хозяйство «Кужолок»', 'phone': '+7 8362 413888', 'protect_class': '14', 'protection_title': 'охотничье хозяйство', 'type': 'boundary', 'classification': '', '@id': 'relation/5280425'}</li><li><a href='https://www.openstreetmap.org/way/5281109'>5281109</a> -> {'boundary': 'protected_area', 'email': 'losik15@yandex.ru', 'name': 'Лесовод', 'operator': 'ООО «Лесовод»', 'phone': '+7 83643 23170', 'protect_class': '14', 'protection_title': 'охотничье хозяйство', 'type': 'boundary', 'classification': '', '@id': 'relation/5281109'}</li><li><a href='https://www.openstreetmap.org/way/5281321'>5281321</a> -> {'boundary': 'protected_area', 'email': 'alexey_yola@mail.ru', 'name': 'Дубовское', 'name:en': 'Dubovskoe', 'operator': 'ООО «Дубовское»', 'protect_class': '14', 'protection_title': 'охотничье хозяйство', 'type': 'boundary', 'classification': '', '@id': 'relation/5281321'}</li><li><a href='https://www.openstreetmap.org/way/5282039'>5282039</a> -> {'boundary': 'protected_area', 'email': 'maxx9@mail.ru', 'name': 'Ардинское', 'name:en': 'Ardinskoe', 'operator': 'ООО «Тайга»', 'phone': '+7 917 7160302', 'protect_class': '14', 'protection_title': 'охотничье хозяйство', 'type': 'boundary', 'classification': '', '@id': 'relation/5282039'}</li><li><a href='https://www.openstreetmap.org/way/5287193'>5287193</a> -> {'boundary': 'protected_area', 'email': 'ptichidvor@mail.ru', 'name': 'Лужьярское', 'name:en': 'Luzhyarskoye', 'operator': 'ООО «Лужьярское охотобщество»', 'phone': '+7 8362 728430', 'protect_class': '14', 'protection_title': 'охотничье хозяйство', 'type': 'boundary', 'classification': '', '@id': 'relation/5287193'}</li><li><a href='https://www.openstreetmap.org/way/5291176'>5291176</a> -> {'boundary': 'protected_area', 'email': 'opera1275@mail.ru', 'name': 'Куплонгское', 'operator': 'ООО «ОкнаПроф»', 'phone': '+7 8352 731999', 'protect_class': '14', 'protection_title': 'охотничье хозяйство', 'type': 'boundary', 'classification': '', '@id': 'relation/5291176'}</li><li><a href='https://www.openstreetmap.org/way/5291314'>5291314</a> -> {'boundary': 'protected_area', 'email': 'lhnarat@yandex.ru', 'name': 'Нарат', 'name:en': 'Narat', 'operator': 'ООО «НАРАТ»', 'phone': '+7 8362 991412', 'protect_class': '14', 'protection_title': 'охотничье хозяйство', 'type': 'boundary', 'classification': '', '@id': 'relation/5291314'}</li><li><a href='https://www.openstreetmap.org/way/5360788'>5360788</a> -> {'boundary': 'protected_area', 'email': 'kontakt@mari-el.ru', 'name': 'Контакт', 'name:ru': 'Контакт', 'operator': 'ОАО «Контакт»', 'phone': '+7 8362 688621', 'protect_class': '14', 'protection_title': 'охотничье хозяйство', 'type': 'boundary', 'classification': '', '@id': 'relation/5360788'}</li><li><a href='https://www.openstreetmap.org/way/5457390'>5457390</a> -> {'boundary': 'protected_area', 'email': 'mnpz@marnpz.ru', 'name': 'Луговое II', 'name:en': 'Lugovoe II', 'operator': 'Марийский нефтеперегонный завод', 'phone': '+7 8362 681010', 'protect_class': '14', 'protection_title': 'охотничье хозяйство', 'type': 'boundary', 'classification': '', '@id': 'relation/5457390'}</li><li><a href='https://www.openstreetmap.org/way/5457391'>5457391</a> -> {'boundary': 'protected_area', 'email': 'mnpz@marnpz.ru', 'name': 'Луговое', 'name:en': 'Lugovoe', 'name:ru': 'Луговое', 'operator': 'Марийский нефтеперегонный завод', 'phone': '+7 8362 681010', 'protect_class': '14', 'protection_title': 'охотничье хозяйство', 'type': 'boundary', 'classification': '', '@id': 'relation/5457391'}</li><li><a href='https://www.openstreetmap.org/way/5776291'>5776291</a> -> {'boundary': 'protected_area', 'description': 'Former game parc (used for hunting by president and his guests only), today safari parc for tourists (no hunting)', 'name': 'Parc Sarakawa', 'protect_class': '14', 'protection_title': 'Game Preserve', 'source': 'bing', 'tourism': 'attraction', 'type': 'multipolygon', 'classification': '', '@id': 'relation/5776291'}</li><li><a href='https://www.openstreetmap.org/way/6047805'>6047805</a> -> {'boundary': 'protected_area', 'leisure': 'nature_reserve', 'name': 'Lánská obora', 'name:cs': 'Lánská obora', 'name:de': 'Laner Tiergarten', 'protect_class': '14', 'type': 'multipolygon', 'wikidata': 'Q12034519', 'wikipedia': 'cs:Lánská obora', 'classification': '', '@id': 'relation/6047805'}</li><li><a href='https://www.openstreetmap.org/way/6656287'>6656287</a> -> {'boundary': 'protected_area', 'email': 'rp_ohota@bk.ru', 'name': 'Ресурс-Поволжье', 'name:ru': 'Ресурс-Поволжье', 'operator': 'ООО «Ресурс-Поволжье»', 'phone': '+7 843 2350252', 'protect_class': '14', 'protection_title': 'охотничье хозяйство', 'type': 'boundary', 'classification': '', '@id': 'relation/6656287'}</li><li><a href='https://www.openstreetmap.org/way/6658295'>6658295</a> -> {'boundary': 'protected_area', 'email': 'a.zimut@mail.ru', 'name': 'Азимут', 'operator': 'ООО «Азимут»', 'protect_class': '14', 'protection_title': 'охотничье хозяйство', 'type': 'boundary', 'classification': '', '@id': 'relation/6658295'}</li><li><a href='https://www.openstreetmap.org/way/6658296'>6658296</a> -> {'boundary': 'protected_area', 'email': 'teplica@mail.ru', 'name': 'Полевое', 'name:ru': 'Полевое', 'operator': 'ООО «Тепличное»', 'phone': '+7 8362 584670', 'protect_class': '14', 'protection_title': 'охотничье хозяйство', 'type': 'boundary', 'classification': '', '@id': 'relation/6658296'}</li><li><a href='https://www.openstreetmap.org/way/6658297'>6658297</a> -> {'boundary': 'protected_area', 'name': 'Сухоречье', 'name:ru': 'Сухоречье', 'operator': 'Охотничий клуб Республики Марий Эл', 'phone': '+7 8362 967635', 'protect_class': '14', 'protection_title': 'охотничье хозяйство', 'type': 'boundary', 'classification': '', '@id': 'relation/6658297'}</li><li><a href='https://www.openstreetmap.org/way/6658430'>6658430</a> -> {'boundary': 'protected_area', 'email': 'hoyavto@mail.ru', 'name': 'Восточное', 'name:ru': 'Восточное', 'operator': 'ИП Ведерников Александр Леонидович', 'phone': '+7 83633 97680', 'protect_class': '14', 'protection_title': 'охотничье хозяйство', 'type': 'boundary', 'classification': '', '@id': 'relation/6658430'}</li><li><a href='https://www.openstreetmap.org/way/6661171'>6661171</a> -> {'boundary': 'protected_area', 'name': '백두산종보존', 'name:en': 'Paektusan Species Preserve', 'name:ko': '백두산종보존', 'protect_class': '14', 'protection_title': '종보존', 'type': 'boundary', 'classification': '', '@id': 'relation/6661171'}</li><li><a href='https://www.openstreetmap.org/way/6661727'>6661727</a> -> {'boundary': 'protected_area', 'email': 'ooogabit@yandex.ru', 'name': 'Габит', 'operator': 'ООО «Габит»', 'phone': '+7 83639 41136', 'protect_class': '14', 'protection_title': 'охотничье хозяйство', 'type': 'boundary', 'classification': '', '@id': 'relation/6661727'}</li><li><a href='https://www.openstreetmap.org/way/6661731'>6661731</a> -> {'boundary': 'protected_area', 'email': 'Kuzh-ohota@mail.ru', 'name': 'Шойское', 'name:ru': 'Шойское', 'operator': 'ООО «Леспромстрой»', 'protect_class': '14', 'protection_title': 'охотничье хозяйство', 'type': 'boundary', 'classification': '', '@id': 'relation/6661731'}</li><li><a href='https://www.openstreetmap.org/way/6676435'>6676435</a> -> {'boundary': 'protected_area', 'name': 'Мариец', 'name:ru': 'Мариец', 'operator': 'ООО «Русский ружейный релоад»', 'phone': '+7 8362 967635', 'protect_class': '14', 'protection_title': 'охотничье хозяйство', 'type': 'boundary', 'classification': '', '@id': 'relation/6676435'}</li><li><a href='https://www.openstreetmap.org/way/6676436'>6676436</a> -> {'boundary': 'protected_area', 'email': 'kirpich2004@pochta.ru', 'name': 'Стэлс', 'name:ru': 'Стэлс', 'operator': 'Марийский завод силикатного кирпича', 'phone': '+7 8362 536724', 'protect_class': '14', 'protection_title': 'охотничье хозяйство', 'type': 'boundary', 'classification': '', '@id': 'relation/6676436'}</li><li><a href='https://www.openstreetmap.org/way/9075633'>9075633</a> -> {'boundary': 'protected_area', 'leisure': 'nature_reserve', 'name': 'West Island Encounter Bay Aquatic Reserve', 'note': 'coastline boundaries are Mean High Water Mark from DEWNR, they can be glued to the OSM mean high water mark coastline', 'operator': 'PIRSA Fisheries & Aquaculture', 'operator_type': 'government', 'protect_class': '14', 'protection_title': 'Aquatic Reserve', 'type': 'boundary', 'wikidata': 'Q28224309', 'wikipedia': 'en:West Island Encounter Bay Aquatic Reserve', 'classification': '', '@id': 'relation/9075633'}</li><li><a href='https://www.openstreetmap.org/way/9075634'>9075634</a> -> {'boundary': 'protected_area', 'leisure': 'nature_reserve', 'name': 'Barker Inlet-St Kilda Aquatic Reserve', 'note': 'coastline boundaries are Mean High Water Mark from DEWNR, they can be glued to the OSM mean high water mark coastline', 'operator': 'PIRSA Fisheries & Aquaculture', 'operator_type': 'government', 'protect_class': '14', 'protection_title': 'Aquatic Reserve', 'type': 'boundary', 'wikidata': 'Q28224331', 'wikipedia': 'en:Barker Inlet-St Kilda Aquatic Reserve', 'classification': '', '@id': 'relation/9075634'}</li><li><a href='https://www.openstreetmap.org/way/9205343'>9205343</a> -> {'boundary': 'protected_area', 'hunting': 'permit', 'landuse': 'hunting_preserve', 'name': 'Waterfowl Hunting Area A', 'note': 'Area A - access by boat only from the Refuge boat ramp located opposite Parking Lot 1 (vehicles and trailers must be parked in Lot 1) or from off-refuge sites. Check tide times to avoid being stranded on the marsh by a lowtide.', 'protect_class': '14', 'source:name': 'https://www.fws.gov/uploadedFiles/Region_5/NWRS/North_Zone/Parker_River_Complex/Parker_River/ParkerRiverMap.pdf', 'source:note': 'https://www.fws.gov/uploadedFiles/Region_5/NWRS/North_Zone/Parker_River_Complex/Parker_River/WaterfowlHunting.pdf', 'type': 'multipolygon', 'classification': '', '@id': 'relation/9205343'}</li><li><a href='https://www.openstreetmap.org/way/9205350'>9205350</a> -> {'boundary': 'protected_area', 'hunting': 'permit', 'landuse': 'hunting_preserve', 'name': 'Waterfowl Hunting Area B', 'note': 'Area B - access by either boat from the refuge ramp opposite parking lot 1 orfrom off-refuge sites, or by foot from the parking lot via Newbury Neck Road and Marsh Avenue. Hunting isallowed only in the area marked by“Public Hunting Area” signs.', 'note:2': 'From the parking lot this area is located approximately 0.3 miles to the left of the trail’s end. Jump shooting is prohibited. Each hunter must set out a minimum of 6 waterfowl decoys and hunt within 50 yards of these decoys.', 'protect_class': '14', 'source:name': 'https://www.fws.gov/uploadedFiles/Region_5/NWRS/North_Zone/Parker_River_Complex/Parker_River/ParkerRiverMap.pdf', 'source:note': 'https://www.fws.gov/uploadedFiles/Region_5/NWRS/North_Zone/Parker_River_Complex/Parker_River/WaterfowlHunting.pdf', 'classification': '', '@id': 'relation/9205350'}</li><li><a href='https://www.openstreetmap.org/way/9205356'>9205356</a> -> {'boundary': 'protected_area', 'hunting': 'permit', 'landuse': 'hunting_preserve', 'name': 'Waterfowl Hunting Area C', 'note': 'Area C (Nelson Island) - foot access only. Access from the parking lot off Stackyard Road. Hunting within 150 feet of the parking area is prohibited.', 'protect_class': '14', 'source:note': 'https://www.fws.gov/uploadedFiles/Region_5/NWRS/North_Zone/Parker_River_Complex/Parker_River/WaterfowlHunting.pdf', 'classification': '', '@id': 'relation/9205356'}</li><li><a href='https://www.openstreetmap.org/way/9622518'>9622518</a> -> {'boundary': 'protected_area', 'name': 'Parque Marinho Luiz Saldanha - Zona de Protecção Parcial', 'note': 'DO NOT Erase', 'protect_class': '14', 'protection_object': 'habitat, wildlife', 'protection_title': 'sealife sanctuary', 'type': 'boundary', 'classification': '', '@id': 'relation/9622518'}</li><li><a href='https://www.openstreetmap.org/way/10051540'>10051540</a> -> {'boundary': 'protected_area', 'name': 'Pulau Payar Marine Park', 'protect_class': '14', 'type': 'boundary', 'classification': '', '@id': 'relation/10051540'}</li><li><a href='https://www.openstreetmap.org/way/10423813'>10423813</a> -> {'boundary': 'protected_area', 'governance_type': 'government', 'name': 'Bulago Island LPA', 'note': 'Planned LPA, not enacted by Uganda parliament', 'operator': 'The Lake Conservatory or KUOKOA', 'proposed': 'protected_area', 'protect_class': '14', 'protection_title': 'Lacustrine Protected Area (LPA)', 'resource': 'http://www.oneminutesouth.com/the-conservatory-introduction/', 'start_date': '2016-05-01', 'type': 'boundary', 'classification': '', '@id': 'relation/10423813'}</li><li><a href='https://www.openstreetmap.org/way/10726003'>10726003</a> -> {'boundary': 'protected_area', 'name': 'Reserva de la tortuga Carranchina', 'operator': 'WCS Colombia', 'protect_class': '14', 'protection_title': 'Reserva privada', 'site_ownership': 'private', 'start_date': '2020', 'type': 'boundary', 'website': 'https://colombia.wcs.org/', 'classification': '', '@id': 'relation/10726003'}</li><li><a href='https://www.openstreetmap.org/way/11303570'>11303570</a> -> {'boundary': 'protected_area', 'landuse': 'forest', 'name': 'The Hartwood Club Inc', 'protect_class': '14', 'protection_title': 'hunting preserve', 'type': 'multipolygon', 'classification': '', '@id': 'relation/11303570'}</li><li><a href='https://www.openstreetmap.org/way/11523715'>11523715</a> -> {'boundary': 'protected_area', 'name': \"O'Leary-Sipos Hunting Preserve\", 'protect_class': '14', 'protection_title': 'hunting preserve', 'type': 'multipolygon', 'classification': '', '@id': 'relation/11523715'}</li><li><a href='https://www.openstreetmap.org/way/11523717'>11523717</a> -> {'boundary': 'protected_area', 'name': 'Stone Hunting/Fishing Preserve', 'operator': 'Jesse Stone', 'protect_class': '14', 'protection_title': 'hunting preserve', 'type': 'multipolygon', 'classification': '', '@id': 'relation/11523717'}</li><li><a href='https://www.openstreetmap.org/way/11523719'>11523719</a> -> {'boundary': 'protected_area', 'description': 'mine', 'name': 'Orange & Rockland Utilities Eagle Habitat', 'operator': 'Orange & Rockland Utilities Inc', 'protect_class': '14', 'protection_title': 'eagle habitat', 'type': 'multipolygon', 'classification': '', '@id': 'relation/11523719'}</li><li><a href='https://www.openstreetmap.org/way/11523720'>11523720</a> -> {'boundary': 'protected_area', 'description': 'mine', 'name': 'Mongaup Valley WMA Eagle Habitat', 'operator': 'New York State Department of Environmental Conservation', 'protect_class': '14', 'protection_title': 'eagle habitat', 'type': 'multipolygon', 'classification': '', '@id': 'relation/11523720'}</li><li><a href='https://www.openstreetmap.org/way/11532539'>11532539</a> -> {'boundary': 'protected_area', 'leisure': 'nature_reserve', 'protect_class': '14', 'type': 'multipolygon', 'classification': '', '@id': 'relation/11532539'}</li><li><a href='https://www.openstreetmap.org/way/11590401'>11590401</a> -> {'boundary': 'protected_area', 'name': 'Stag Gun Club Inc', 'note': '78.-1-9', 'operator': 'John J Perri', 'protect_class': '14', 'protection_title': 'hunting preserve', 'type': 'multipolygon', 'classification': '', '@id': 'relation/11590401'}</li><li><a href='https://www.openstreetmap.org/way/11590403'>11590403</a> -> {'boundary': 'protected_area', 'name': 'Mamakating Hunting Club Inc', 'operator': 'Michael Blackburn', 'protect_class': '14', 'protection_title': 'hunting preserve', 'type': 'multipolygon', 'classification': '', '@id': 'relation/11590403'}</li><li><a href='https://www.openstreetmap.org/way/11590405'>11590405</a> -> {'boundary': 'protected_area', 'landuse': 'forest', 'name': 'Delaware Hunting Club Inc', 'operator': 'Brian Lowe', 'protect_class': '14', 'protection_title': 'hunting preserve', 'type': 'multipolygon', 'classification': '', '@id': 'relation/11590405'}</li><li><a href='https://www.openstreetmap.org/way/11590406'>11590406</a> -> {'boundary': 'protected_area', 'name': 'Baby Bear Hunting Club Inc', 'operator': 'Ken Dlugolecki', 'protect_class': '14', 'protection_title': 'hunting preserve', 'type': 'multipolygon', 'classification': '', '@id': 'relation/11590406'}</li><li><a href='https://www.openstreetmap.org/way/11590407'>11590407</a> -> {'boundary': 'protected_area', 'name': 'Bluestone Quarry Road Conservation Club LLC', 'note': '28.-1-3.1', 'operator': 'William H. Hellings', 'protect_class': '14', 'protection_title': 'hunting preserve', 'type': 'multipolygon', 'classification': '', '@id': 'relation/11590407'}</li><li><a href='https://www.openstreetmap.org/way/11590408'>11590408</a> -> {'boundary': 'protected_area', 'landuse': 'forest', 'name': 'Antler Hunting', 'note': '26.-1-2', 'operator': 'James Smith', 'protect_class': '14', 'protection_title': 'hunting preserve', 'type': 'multipolygon', 'classification': '', '@id': 'relation/11590408'}</li><li><a href='https://www.openstreetmap.org/way/11590409'>11590409</a> -> {'boundary': 'protected_area', 'landuse': 'forest', 'name': 'Barbers Eddy Eddy Gun Club', 'note': '26.-1-1', 'protect_class': '14', 'protection_title': 'hunting preserve', 'type': 'multipolygon', 'classification': '', '@id': 'relation/11590409'}</li><li><a href='https://www.openstreetmap.org/way/11647969'>11647969</a> -> {'boundary': 'protected_area', 'name': 'Westbrookville Rod & Gun Club', 'protect_class': '14', 'protection_title': 'hunting preserve', 'type': 'multipolygon', 'classification': '', '@id': 'relation/11647969'}</li><li><a href='https://www.openstreetmap.org/way/11648219'>11648219</a> -> {'boundary': 'protected_area', 'name': 'Cahoonzie Club, Inc', 'operator': 'Daniel Corcoran', 'protect_class': '14', 'protection_title': 'hunting preserve', 'type': 'multipolygon', 'classification': '', '@id': 'relation/11648219'}</li><li><a href='https://www.openstreetmap.org/way/11786046'>11786046</a> -> {'boundary': 'protected_area', 'name': 'State Fish Hatchery', 'note': '16.-1-26', 'protect_class': '14', 'protection_title': 'fish hatchery', 'type': 'multipolygon', 'classification': '', '@id': 'relation/11786046'}</li><li><a href='https://www.openstreetmap.org/way/11916964'>11916964</a> -> {'boundary': 'protected_area', 'name': 'Tri States Rod & Gun Club Inc', 'note': '52-1-54.2', 'protect_class': '14', 'protection_title': 'hunting', 'type': 'multipolygon', 'classification': '', '@id': 'relation/11916964'}</li><li><a href='https://www.openstreetmap.org/way/11916966'>11916966</a> -> {'boundary': 'protected_area', 'name': 'Tri States Rod & Gun Club Inc', 'protect_class': '14', 'protection_title': 'hunting', 'type': 'multipolygon', 'classification': '', '@id': 'relation/11916966'}</li><li><a href='https://www.openstreetmap.org/way/24237438'>24237438</a> -> {'boundary': 'protected_area', 'landuse': 'forest', 'leaf_cycle': 'deciduous', 'leaf_type': 'broadleaved', 'protect_class': '14', 'protection_title': 'Wildruhezone', 'classification': '', '@id': 'way/24237438'}</li><li><a href='https://www.openstreetmap.org/way/36850336'>36850336</a> -> {'boundary': 'protected_area', 'name': 'Wild-Ruhezone', 'protect_class': '14', 'protection_title': 'Wild-Ruhezone', 'source': 'https://www.ebersberger-forst.com/Freizeitipps-Ebersberger-Forst-2019.pdf', 'classification': '', '@id': 'way/36850336'}</li><li><a href='https://www.openstreetmap.org/way/49225335'>49225335</a> -> {'boundary': 'protected_area', 'fixme': 'Boundary estimated', 'leisure': 'nature_reserve', 'name': 'Spineflower Habitat Protection Zone', 'protect_class': '14', 'classification': '', '@id': 'way/49225335'}</li><li><a href='https://www.openstreetmap.org/way/107398878'>107398878</a> -> {'boundary': 'protected_area', 'protect_class': '14', 'protection_title': 'Wildruhezone', 'source': 'Geocaching-Handbuch.de', 'classification': '', '@id': 'way/107398878'}</li><li><a href='https://www.openstreetmap.org/way/107398879'>107398879</a> -> {'boundary': 'protected_area', 'protect_class': '14', 'protection_title': 'Wildruhezone', 'source': 'Geocaching-Handbuch.de', 'classification': '', '@id': 'way/107398879'}</li><li><a href='https://www.openstreetmap.org/way/107398881'>107398881</a> -> {'boundary': 'protected_area', 'protect_class': '14', 'protection_title': 'Wildruhezone', 'source': 'Geocaching-Handbuch.de', 'classification': '', '@id': 'way/107398881'}</li><li><a href='https://www.openstreetmap.org/way/124322905'>124322905</a> -> {'boundary': 'protected_area', 'name': 'Wildschutzgeb.(15.11.bis30.4.)', 'protect_class': '14', 'protection_title': 'Wildschutzgebiet', 'classification': '', '@id': 'way/124322905'}</li><li><a href='https://www.openstreetmap.org/way/132735443'>132735443</a> -> {'boundary': 'protected_area', 'protect_class': '14', 'protection_title': 'Wildruhezone', 'classification': '', '@id': 'way/132735443'}</li><li><a href='https://www.openstreetmap.org/way/154246543'>154246543</a> -> {'boundary': 'protected_area', 'name': 'Parque Ecológico Municipal de Campo Cerrado Doutor Alfredo Usteri', 'operator': 'Prefeitura do Município de São Paulo', 'protect_class': '14', 'source': 'Decreto Municipal 51.563 de 18/06/2010', 'website': 'https://www.prefeitura.sp.gov.br/cidade/secretarias/meio_ambiente/parques/regiao_centrooeste/index.php?p=48428', 'classification': '', '@id': 'way/154246543'}</li><li><a href='https://www.openstreetmap.org/way/158264685'>158264685</a> -> {'boundary': 'protected_area', 'landuse': 'forest', 'protect_class': '14', 'protection_title': 'Wildruhezone', 'classification': '', '@id': 'way/158264685'}</li><li><a href='https://www.openstreetmap.org/way/158264755'>158264755</a> -> {'boundary': 'protected_area', 'natural': 'scrub', 'protect_class': '14', 'protection_title': 'Wildruhezone', 'classification': '', '@id': 'way/158264755'}</li><li><a href='https://www.openstreetmap.org/way/203803289'>203803289</a> -> {'boundary': 'protected_area', 'protect_class': '14', 'protection_title': 'Wildruhezone', 'classification': '', '@id': 'way/203803289'}</li><li><a href='https://www.openstreetmap.org/way/203871051'>203871051</a> -> {'boundary': 'protected_area', 'protect_class': '14', 'classification': '', '@id': 'way/203871051'}</li><li><a href='https://www.openstreetmap.org/way/226885914'>226885914</a> -> {'boundary': 'protected_area', 'fixme': 'kann wood hier raus? sonst doppelt wg. Schönbuch-Forest, daher Bäume auf Lichtungen', 'note': 'kurzes Stück der Grenze ungesichert (südlich Trinkwasserbehälter)', 'protect_class': '14', 'protection_title': 'Wildruhezone', 'source': 'survey', 'classification': '', '@id': 'way/226885914'}</li><li><a href='https://www.openstreetmap.org/way/228288456'>228288456</a> -> {'boundary': 'protected_area', 'end_date': '2014-12-31', 'protect_class': '14', 'seamark:name': 'Zone réglementée des récifs artificiels de la baie du Prado', 'seamark:precautionary_area:restriction': 'no_anchoring;no_fishing;no_diving', 'seamark:type': 'precautionary_area', 'source': 'Arrêté du Préfet de la Région PACA n°2012349-0001 du 14 décembre 2012 & Arrêté du du Préfet Maritime n°229/2012 du 21 décembre 2012', 'classification': '', '@id': 'way/228288456'}</li><li><a href='https://www.openstreetmap.org/way/229726332'>229726332</a> -> {'boundary': 'protected_area', 'operator': 'Parc National des Calanques', 'protect_class': '14', 'protection_title': 'Zone de protection renforcée', 'seamark:name': 'Zone de protection renforcée Cassidaigne', 'seamark:precautionary_area:restriction': 'restricted_fishing', 'seamark:type': 'precautionary_area', 'classification': '', '@id': 'way/229726332'}</li><li><a href='https://www.openstreetmap.org/way/229726333'>229726333</a> -> {'boundary': 'protected_area', 'operator': 'Parc National des Calanques', 'protect_class': '14', 'protection_title': 'Zone de non-prélèvement', 'seamark:name': 'Zone de non-prélèvement Cassidaigne Ouest', 'seamark:precautionary_area:restriction': 'no_fishing', 'seamark:type': 'precautionary_area', 'classification': '', '@id': 'way/229726333'}</li><li><a href='https://www.openstreetmap.org/way/229726337'>229726337</a> -> {'boundary': 'protected_area', 'operator': 'Parc National des Calanques', 'protect_class': '14', 'protection_title': 'Zone de non-prélèvement', 'seamark:name': 'Zone de non-prélèvement Planier/Veyron', 'seamark:precautionary_area:restriction': 'no_fishing', 'seamark:type': 'precautionary_area', 'classification': '', '@id': 'way/229726337'}</li><li><a href='https://www.openstreetmap.org/way/231688318'>231688318</a> -> {'boundary': 'protected_area', 'protect_class': '14', 'protection_title': 'Wildruhezone', 'source': 'knowledge', 'classification': '', '@id': 'way/231688318'}</li><li><a href='https://www.openstreetmap.org/way/243685204'>243685204</a> -> {'boundary': 'protected_area', 'note': 'Ostkante nicht vollständig abgelaufen, kurzes Stück am Wildgatterzaun südlich unpräziese', 'protect_class': '14', 'protection_title': 'Wildruhezone', 'classification': '', '@id': 'way/243685204'}</li><li><a href='https://www.openstreetmap.org/way/251114201'>251114201</a> -> {'boundary': 'protected_area', 'natural': 'wetland', 'protect_class': '14', 'source': 'DigitalGlobe, NextView', 'wetland': 'mangrove', 'classification': '', '@id': 'way/251114201'}</li><li><a href='https://www.openstreetmap.org/way/251114205'>251114205</a> -> {'boundary': 'protected_area', 'natural': 'wetland', 'protect_class': '14', 'source': 'DigitalGlobe, NextView', 'wetland': 'mangrove', 'classification': '', '@id': 'way/251114205'}</li><li><a href='https://www.openstreetmap.org/way/251114207'>251114207</a> -> {'boundary': 'protected_area', 'natural': 'wetland', 'protect_class': '14', 'source': 'DigitalGlobe, NextView', 'wetland': 'mangrove', 'classification': '', '@id': 'way/251114207'}</li><li><a href='https://www.openstreetmap.org/way/251114209'>251114209</a> -> {'boundary': 'protected_area', 'natural': 'wetland', 'protect_class': '14', 'source': 'DigitalGlobe, NextView', 'wetland': 'mangrove', 'classification': '', '@id': 'way/251114209'}</li><li><a href='https://www.openstreetmap.org/way/257270789'>257270789</a> -> {'boundary': 'protected_area', 'natural': 'wood', 'protect_class': '14', 'protection_title': 'Wildruhezone', 'classification': '', '@id': 'way/257270789'}</li><li><a href='https://www.openstreetmap.org/way/301937424'>301937424</a> -> {'boundary': 'protected_area', 'description': 'Von 1. November bis 15. Mai ist das Verlassen der öffentlichen Wege verboten.', 'note': 'Lage nur geschätzt', 'protect_class': '14', 'protection_title': 'Wildschutzgebiet', 'classification': '', '@id': 'way/301937424'}</li><li><a href='https://www.openstreetmap.org/way/326367407'>326367407</a> -> {'boundary': 'protected_area', 'fixme': 'protect_class und protection_title fehlen..', 'leisure': 'nature_reserve', 'protect_class': '14', 'classification': '', '@id': 'way/326367407'}</li><li><a href='https://www.openstreetmap.org/way/335288462'>335288462</a> -> {'boundary': 'protected_area', 'name': 'Maple River State Game Area', 'operator': 'Michigan Department of Natural Resources', 'protect_class': '14', 'classification': '', '@id': 'way/335288462'}</li><li><a href='https://www.openstreetmap.org/way/356751716'>356751716</a> -> {'boundary': 'protected_area', 'name': 'Fischschonbezirk Meldorfer Hafen', 'protect_class': '14', 'protection_title': 'Fischschonbezirk', 'seamark:information': '01.10.-31.12. Fischschonbezirk Meldorfer Hafen', 'seamark:name': 'Fischschonbezirk Meldorfer Hafen', 'seamark:restricted_area:restriction': 'restricted_fishing', 'seamark:type': 'restricted_area', 'source': 'KüFO', 'classification': '', '@id': 'way/356751716'}</li><li><a href='https://www.openstreetmap.org/way/356757464'>356757464</a> -> {'boundary': 'protected_area', 'protect_class': '14', 'protection_title': 'Fischschonbezirk', 'seamark:information': '01.10.-31.12. Fischschonbezirk Holmersiel', 'seamark:name': 'Fischschonbezirk Holmersiel', 'seamark:restricted_area:restriction': 'restricted_fishing', 'seamark:type': 'restricted_area', 'source': 'KüFO', 'classification': '', '@id': 'way/356757464'}</li><li><a href='https://www.openstreetmap.org/way/365968478'>365968478</a> -> {'FIXME': 'teilweise ungenau', 'boundary': 'protected_area', 'description': 'Wildruhezone nach §38 LWaldG', 'protect_class': '14', 'protection_title': 'Wildruhezone', 'classification': '', '@id': 'way/365968478'}</li><li><a href='https://www.openstreetmap.org/way/404867928'>404867928</a> -> {'access:conditional': 'no', 'area': 'yes', 'boundary': 'protected_area', 'description': 'Bereich mit Edelstahlbojen markiert, die nach dem Winter aufgesteckte, grüne Schilder \"Ruhezone für Vögel und Fische - Befahren + Schwimmen verboten 1.3-31.7\" haben. Laut Landratsamt Traunstein gilt das Verbot von 1. März bis 31. Juli (SG 16', 'name': 'Ruhezone für Vögel und Fische', 'protect_class': '14', 'protection_title': 'Gebietsverbot', 'seamark:restricted_area:category': 'nature_reserve', 'seamark:restricted_area:restriction': 'no_entry', 'seamark:type': 'restricted_area', 'source': 'survey', 'classification': '', '@id': 'way/404867928'}</li><li><a href='https://www.openstreetmap.org/way/405270171'>405270171</a> -> {'access:conditional': 'no', 'area': 'yes', 'boundary': 'protected_area', 'description': 'Bereich mit Edelstahlbojen markiert, die nach dem Winter aufgesteckte, grüne Schilder \"Ruhezone für Vögel und Fische - Befahren + Schwimmen verboten 1.3-31.7\" haben. Laut Landratsamt Traunstein gilt das Verbot von 1. März bis 31. Juli (SG 16', 'name': 'Ruhezone für Vögel und Fische', 'protect_class': '14', 'protection_title': 'Gebietsverbot', 'seamark:restricted_area:category': 'nature_reserve', 'seamark:restricted_area:restriction': 'no_entry', 'seamark:type': 'restricted_area', 'source': 'survey', 'classification': '', '@id': 'way/405270171'}</li><li><a href='https://www.openstreetmap.org/way/421653995'>421653995</a> -> {'boundary': 'protected_area', 'description': 'Uferschutzzone des Landschaftsschutzgebietes Tüttensee', 'operator': 'Landkreis Traunstein', 'protect_class': '14', 'protection_title': 'Gebietsverbot', 'classification': '', '@id': 'way/421653995'}</li><li><a href='https://www.openstreetmap.org/way/434363711'>434363711</a> -> {'boundary': 'protected_area', 'name': 'Luyongbaybay Marine Sanctuary', 'note': '10 hectares', 'protect_class': '14', 'protection_title': 'marine sanctuary', 'classification': '', '@id': 'way/434363711'}</li><li><a href='https://www.openstreetmap.org/way/436327656'>436327656</a> -> {'area': 'yes', 'boundary': 'protected_area', 'name': 'Area 31A ( Bow Hunting Only )', 'protect_class': '14', 'classification': '', '@id': 'way/436327656'}</li><li><a href='https://www.openstreetmap.org/way/436488911'>436488911</a> -> {'area': 'yes', 'boundary': 'protected_area', 'name': 'c', 'protect_class': '14', 'classification': '', '@id': 'way/436488911'}</li><li><a href='https://www.openstreetmap.org/way/436490849'>436490849</a> -> {'area': 'yes', 'boundary': 'protected_area', 'name': 'Area 31B ( Bow Hunting Only )', 'protect_class': '14', 'classification': '', '@id': 'way/436490849'}</li><li><a href='https://www.openstreetmap.org/way/463491903'>463491903</a> -> {'boundary': 'protected_area', 'leisure': 'nature_reserve', 'name': 'Bird Island Marine Protected Area', 'protect_class': '14', 'protection_ban': 'No fishing;No taking', 'protection_title': 'Marine Protected Area', 'classification': '', '@id': 'way/463491903'}</li><li><a href='https://www.openstreetmap.org/way/466421960'>466421960</a> -> {'boundary': 'protected_area', 'name': 'Burunge Wildlife Management Area', 'protect_class': '14', 'protection_title': 'Wildlife Management Area', 'classification': '', '@id': 'way/466421960'}</li><li><a href='https://www.openstreetmap.org/way/467615318'>467615318</a> -> {'boundary': 'protected_area', 'leisure': 'nature_reserve', 'name': 'Brut- und Rastgebiet Kniephaken', 'protect_class': '14', 'classification': '', '@id': 'way/467615318'}</li><li><a href='https://www.openstreetmap.org/way/493503953'>493503953</a> -> {'boundary': 'protected_area', 'leisure': 'nature_reserve', 'name': 'Parque Marinho Luiz Saldanha - Zona Protecção Parcial', 'protect_class': '14', 'protection_object': 'habitat, wildlife', 'protection_title': 'sealife sanctuary', 'related_law': 'Decreto Regulamentar n.º 23/98de 14 de Outubro com asalterações introduzidas peloDecreto Regulamentar n.º11/2003de 8 de Maio (Reclassificação doParque Natural da Arrábida /Criação do Parque MarinhoProfessor Luiz Saldanha).', 'classification': '', '@id': 'way/493503953'}</li><li><a href='https://www.openstreetmap.org/way/538863045'>538863045</a> -> {'boundary': 'protected_area', 'name': 'Parque Marinho Luiz Saldanha - Zona Protecção Complementar', 'note': 'DO NOT Erase', 'protect_class': '14', 'protection_object': 'habitat, wildlife', 'protection_title': 'sealife sanctuary', 'classification': '', '@id': 'way/538863045'}</li><li><a href='https://www.openstreetmap.org/way/539442616'>539442616</a> -> {'area': 'yes', 'boundary': 'protected_area', 'name': 'Parque Marinho Luiz Saldanha - Zona de Protecção Parcial', 'note': 'Do Not Erase', 'protect_class': '14', 'protection_object': 'habitat, wildlife', 'protection_title': 'sealife sanctuary', 'classification': '', '@id': 'way/539442616'}</li><li><a href='https://www.openstreetmap.org/way/539442618'>539442618</a> -> {'area': 'yes', 'boundary': 'protected_area', 'name': 'Parque Marinho Luiz Saldanha - Zona de Protecção Parcial', 'note': 'Do Not Erase', 'protect_class': '14', 'protection_object': 'habitat, wildlife', 'protection_title': 'sealife sanctuary', 'classification': '', '@id': 'way/539442618'}</li><li><a href='https://www.openstreetmap.org/way/539448845'>539448845</a> -> {'area': 'yes', 'boundary': 'protected_area', 'name': 'Parque Marinho Luiz Saldanha - Zona de Protecção Complementar', 'note': 'Do Not Erase', 'protect_class': '14', 'protection_object': 'habitat, wildlife', 'protection_title': 'sealife sanctuary', 'classification': '', '@id': 'way/539448845'}</li><li><a href='https://www.openstreetmap.org/way/552902983'>552902983</a> -> {'boundary': 'protected_area', 'leisure': 'nature_reserve', 'name': 'Zona de caça turística da Quinta da Marinha', 'operator': 'Cabo Raso - Sociedade de Empreendimentos Turísticos, S. A.', 'protect_class': '14', 'classification': '', '@id': 'way/552902983'}</li><li><a href='https://www.openstreetmap.org/way/570790229'>570790229</a> -> {'boundary': 'protected_area', 'protect_class': '14', 'protection_title': 'Wildruhegebiet', 'classification': '', '@id': 'way/570790229'}</li><li><a href='https://www.openstreetmap.org/way/570790230'>570790230</a> -> {'boundary': 'protected_area', 'protect_class': '14', 'protection_title': 'Wildruhegebiet', 'classification': '', '@id': 'way/570790230'}</li><li><a href='https://www.openstreetmap.org/way/572131081'>572131081</a> -> {'boundary': 'protected_area', 'name': 'Rhino Sanctuary', 'operator': 'African Parks Network', 'protect_class': '14', 'protection_title': 'wildlife sanctuary', 'classification': '', '@id': 'way/572131081'}</li><li><a href='https://www.openstreetmap.org/way/576485170'>576485170</a> -> {'boundary': 'protected_area', 'protect_class': '14', 'protection_title': 'Wildruhegebiet', 'classification': '', '@id': 'way/576485170'}</li><li><a href='https://www.openstreetmap.org/way/586429634'>586429634</a> -> {'area': 'yes', 'boundary': 'protected_area', 'name': 'Parque Marinho Luiz Saldanha - Proteccção Complementar', 'note': 'DO NOT Erase', 'protect_class': '14', 'protection_object': 'habitat, wildlife', 'protection_title': 'sealife sanctuary', 'classification': '', '@id': 'way/586429634'}</li><li><a href='https://www.openstreetmap.org/way/586973092'>586973092</a> -> {'area': 'yes', 'boundary': 'protected_area', 'name': 'Parque Marinho Luiz Saldanha - Zona de Protecção Total', 'note': 'Do Not Ersae', 'protect_class': '14', 'protection_object': 'habitat, wildlife', 'protection_title': 'sealife sanctuary', 'classification': '', '@id': 'way/586973092'}</li><li><a href='https://www.openstreetmap.org/way/600171481'>600171481</a> -> {'boundary': 'protected_area', 'denotation': 'natural_monument', 'description': 'Trockenrasen mit ua. Iris pumila, Amelanchier ovalis, Stpa pennata, Muscari racemosum, Allium flavum, Sempervivum, Polygonatum officinalis, Convulvulus cantabrica, Doricnium herbaceum,, Quercus cerris, Prunus mahaleb, Pulsatilla sp.', 'fixme': 'genaue Lage der Grenzen', 'image': 'https://de.wikipedia.org/wiki/Liste_der_Naturdenkmäler_im_Bezirk_Baden#/media/Datei:ND_Iriswiese_Pfaffstätten_01.jpg', 'name': 'Iriswiese', 'protect_class': '14', 'protection_title': 'Naturdenkmal', 'source': 'survey', 'start_date': '1979-12-06', 'website': 'http://www.noe.gv.at/natural_monuments/f336b13c-7e02-4997-88f8-0e1c03790373.pdf', 'wikipedia': 'de:Liste der Naturdenkmäler im Bezirk Baden', 'classification': '', '@id': 'way/600171481'}</li><li><a href='https://www.openstreetmap.org/way/651867747'>651867747</a> -> {'boundary': 'protected_area', 'name': 'Onkaparinga River Sanctuary Zone', 'protect_class': '14', 'protection_title': 'Sanctuary Zone', 'source': 'survey/sign', 'classification': '', '@id': 'way/651867747'}</li><li><a href='https://www.openstreetmap.org/way/651867750'>651867750</a> -> {'boundary': 'protected_area', 'leisure': 'nature_reserve', 'name': 'Port Noarlunga Reef Sanctuary Zone', 'protect_class': '14', 'protection_title': 'Sanctuary Zone', 'source': 'survey/sign', 'classification': '', '@id': 'way/651867750'}</li><li><a href='https://www.openstreetmap.org/way/652141882'>652141882</a> -> {'boundary': 'protected_area', 'leisure': 'nature_reserve', 'name': 'Coobowie Aquatic Reserve', 'note': 'coastline boundaries are Mean High Water Mark from DEWNR, they can be glued to the OSM mean high water mark coastline', 'operator': 'PIRSA Fisheries & Aquaculture', 'operator_type': 'government', 'protect_class': '14', 'protection_title': 'Aquatic Reserve', 'wikidata': 'Q28428314', 'wikipedia': 'en:Coobowie Aquatic Reserve', 'classification': '', '@id': 'way/652141882'}</li><li><a href='https://www.openstreetmap.org/way/652141885'>652141885</a> -> {'boundary': 'protected_area', 'leisure': 'nature_reserve', 'name': 'Troubridge Hill Aquatic Reserve', 'note': 'coastline boundaries are Mean High Water Mark from DEWNR, they can be glued to the OSM mean high water mark coastline', 'operator': 'PIRSA Fisheries & Aquaculture', 'operator_type': 'government', 'protect_class': '14', 'protection_title': 'Aquatic Reserve', 'wikidata': 'Q28224287', 'wikipedia': 'en:Troubridge Hill Aquatic Reserve', 'classification': '', '@id': 'way/652141885'}</li><li><a href='https://www.openstreetmap.org/way/652141886'>652141886</a> -> {'boundary': 'protected_area', 'leisure': 'nature_reserve', 'name': 'St Kilda-Chapman Creek Aquatic Reserve', 'note': 'coastline boundaries are Mean High Water Mark from DEWNR, they can be glued to the OSM mean high water mark coastline', 'operator': 'PIRSA Fisheries & Aquaculture', 'operator_type': 'government', 'protect_class': '14', 'protection_title': 'Aquatic Reserve', 'wikidata': 'Q28224333', 'wikipedia': 'en:St Kilda – Chapman Creek Aquatic Reserve', 'classification': '', '@id': 'way/652141886'}</li><li><a href='https://www.openstreetmap.org/way/668170699'>668170699</a> -> {'boundary': 'protected_area', 'email': 'wfsc@frontiernet.net', 'landuse': 'recreation_ground', 'name': 'Woodbury Field & Stream Club', 'natural': 'wood', 'phone': '845-928-3477', 'protect_class': '14', 'website': 'http://www.wfsclub.com', 'classification': '', '@id': 'way/668170699'}</li><li><a href='https://www.openstreetmap.org/way/694694910'>694694910</a> -> {'area': 'yes', 'boundary': 'protected_area', 'name': 'Wildruhezone Fischerholz', 'protect_class': '14', 'source': 'Beschilderung vor Ort', 'title': 'Wildruhezone Fischerholz', 'classification': '', '@id': 'way/694694910'}</li><li><a href='https://www.openstreetmap.org/way/721707445'>721707445</a> -> {'boundary': 'protected_area', 'name': 'Угодья Кыштымского охотхозяйства', 'protect_class': '14', 'protection_title': 'охотугодья', 'classification': '', '@id': 'way/721707445'}</li><li><a href='https://www.openstreetmap.org/way/765721926'>765721926</a> -> {'alt_name': 'Karopani Natural Deer Park', 'boundary': 'protected_area', 'name': 'Karopani Blackbuck Conservation Area', 'natural': 'grassland', 'protect_class': '14', 'classification': '', '@id': 'way/765721926'}</li><li><a href='https://www.openstreetmap.org/way/770278010'>770278010</a> -> {'boundary': 'protected_area', 'leisure': 'nature_reserve', 'name': 'Howard Springs Hunting Reserve', 'protect_class': '14', 'classification': '', '@id': 'way/770278010'}</li><li><a href='https://www.openstreetmap.org/way/772513433'>772513433</a> -> {'boundary': 'protected_area', 'name': 'Lachsgang', 'protect_class': '14', 'protection_title': 'Wiesenbrütergebiet', 'source': 'Landratsamtverordnung', 'url': 'https://www.traunstein.com/sites/default/files/wiesenbruetergebiet_lachsgang.pdf', 'classification': '', '@id': 'way/772513433'}</li><li><a href='https://www.openstreetmap.org/way/786302190'>786302190</a> -> {'boundary': 'protected_area', 'name': 'Grabenstätter Moos', 'protect_class': '14', 'protection_title': 'Wiesenbrütergebiet', 'source': 'Landratsamtverordnung', 'url': 'https://www.traunstein.com/sites/default/files/wiesenbruetergebiet_grabenstaetter_moos.pdf', 'classification': '', '@id': 'way/786302190'}</li><li><a href='https://www.openstreetmap.org/way/813054513'>813054513</a> -> {'boundary': 'protected_area', 'protect_class': '14', 'protection_title': 'Fågelskyddområde', 'classification': '', '@id': 'way/813054513'}</li><li><a href='https://www.openstreetmap.org/way/817610691'>817610691</a> -> {'boundary': 'protected_area', 'landuse': 'forest', 'name': 'Pole Bridge Hunting Club Inc', 'protect_class': '14', 'protection_title': 'hunting_preserve', 'classification': '', '@id': 'way/817610691'}</li><li><a href='https://www.openstreetmap.org/way/820359283'>820359283</a> -> {'alt_name': 'Zone natürlicher Entwicklung', 'boundary': 'protected_area', 'leisure': 'nature_reserve', 'name': 'Biosphärenreservat Pfälzerwald - Kernzone - Enkenbachtal', 'note': 'Grenzen des Gebietes anhand von Schildern grob umrissen', 'protect_class': '14', 'ref': 'NTP-073-094', 'source': 'Landesverordnung über den “Naturpark Pfälzerwald” als deutscher Teil des Biosphärenreservats Pfälzerwald-Nordvogesen Vom 22. Januar 2007; Grenzen der Zonen für die natürliche Entwicklung (Kernzonen); Schilder vor Ort', 'classification': '', '@id': 'way/820359283'}</li><li><a href='https://www.openstreetmap.org/way/827095060'>827095060</a> -> {'boundary': 'protected_area', 'name': 'Canton WMA Waterfowl Refuge Portion', 'protect_class': '14', 'protection_title': 'Waterfowl Refuge', 'site_ownership': 'state', 'website': 'https://www.wildlifedepartment.com/hunting/wma/northwest/canton', 'classification': '', '@id': 'way/827095060'}</li><li><a href='https://www.openstreetmap.org/way/871923914'>871923914</a> -> {'boundary': 'protected_area', 'name': 'Black Meadow Club Inc', 'protect_class': '14', 'protection_title': 'hunting', 'classification': '', '@id': 'way/871923914'}</li><li><a href='https://www.openstreetmap.org/way/874727345'>874727345</a> -> {'boundary': 'protected_area', 'club': 'hunting', 'landuse': 'recreation_ground', 'name': 'RockTavern Rod & Gun Club', 'note': '26-1-16', 'protect_class': '14', 'source': 'ocgis.orangecountygov.com OC_PARCELS_2.zip retrieved 10/21/20', 'sport': 'shooting', 'classification': '', '@id': 'way/874727345'}</li><li><a href='https://www.openstreetmap.org/way/878450136'>878450136</a> -> {'boundary': 'protected_area', 'name': \"Monroe-Chester Sportsmen's Club\", 'note': '15-1-52', 'protect_class': '14', 'protection_title': 'hunting', 'source': 'ocgis.orangecountygov.com OC_PARCELS_2.zip retrieved 10/21/20', 'classification': '', '@id': 'way/878450136'}</li><li><a href='https://www.openstreetmap.org/way/878755624'>878755624</a> -> {'boundary': 'protected_area', 'name': \"Walker Valley Sportsman's Association\", 'natural': 'wood', 'note': '98.4-2-20.110', 'protect_class': '14', 'protection_title': 'hunting', 'classification': '', '@id': 'way/878755624'}</li><li><a href='https://www.openstreetmap.org/way/879581935'>879581935</a> -> {'alt_name': 'Kernzone Neue Letzbach', 'boundary': 'protected_area', 'fixme': 'protect_class unsicher', 'leisure': 'nature_reserve', 'name': 'Naturpark Pfälzerwald - Kernzone - Humberg', 'name:source': 'Datum der Rechtsverordnung 20.01.2007', 'note': 'Grenzen des Gebietes anhand von Schildern grob umrissen', 'protect_class': '14', 'ref': 'NTP-073-083', 'classification': '', '@id': 'way/879581935'}</li></u>",
      "text/plain": "<IPython.core.display.HTML object>"
     },
     "metadata": {
      "transient": {}
     },
     "output_type": "display_data"
    }
   ],
   "source": [
    "def href(id):\r\n",
    "    return f\"<a href='https://www.openstreetmap.org/way/{id}'>{id}</a>\"\r\n",
    "\r\n",
    "coverage = sum(typeCount) + len(unclassifieds)\r\n",
    "if coverage != len(allResults):\r\n",
    "    display(HTML(f\"Coverage {coverage} != {len(allResults)} - only ok if Multiple Classifications != 0 !!!\"))\r\n",
    "\r\n",
    "html = f\"<h3>Type overview [{sum(typeCount)}]</h3><ul>\"\r\n",
    "for i in range(0, 7):\r\n",
    "    html += f\"<li>{i+1}: {typeCount[i]}</li>\"\r\n",
    "display(HTML(f\"{html}</u>\"))\r\n",
    "\r\n",
    "if len(multiClassifieds) > 0:\r\n",
    "    html = f\"<h3>Multiple Classifications [{len(multiClassifieds)}]</h3><ul>\"\r\n",
    "    for way in multiClassifieds:\r\n",
    "        wayId = href(way.id)\r\n",
    "        html += f\"<li>{wayId} -> {way.tags['classification']}</li>\"\r\n",
    "    display(HTML(f\"{html}</u>\"))\r\n",
    "\r\n",
    "html = f\"<h3>Unclassified [{len(unclassifieds)}]</h3><ul>\"\r\n",
    "for way in unclassifieds:\r\n",
    "    wayId = href(way.id)\r\n",
    "    html += f\"<li>{wayId} -> {way.tags}</li>\"\r\n",
    "display(HTML(f\"{html}</u>\"))"
   ]
  },
  {
   "cell_type": "markdown",
   "metadata": {},
   "source": [
    "## Create a geojson with explicit tags for the 8 types\r\n",
    "* tag of the property is s_type, values are type1 ... type8\r\n",
    "* styling is still work in progress, for now, there's one single style for all types\r\n",
    "  * for http://geojson.io this is limited by what styling capabilities are available there\r\n",
    "  * TBD for leaflet (and a \"reference\" map)"
   ]
  },
  {
   "cell_type": "code",
   "execution_count": 13,
   "metadata": {},
   "outputs": [
    {
     "name": "stdout",
     "output_type": "stream",
     "text": [
      "Unsupported relation 10051540 of relations\n",
      "Unsupported relation 10051540 of relations\n",
      "Unsupported relation 10051540 of relations\n",
      "Unsupported relation 11916966 of relations\n"
     ]
    }
   ],
   "source": [
    "import utils.ovp2geojson as o2p\r\n",
    "\r\n",
    "# beware: changing this file requires a jupyter kernel restart!\r\n",
    "o2p.create(result, allResults, f\"data/Schongebiete.geojson\")"
   ]
  }
 ],
 "metadata": {
  "kernelspec": {
   "display_name": "Python 3",
   "language": "python",
   "name": "python3"
  },
  "language_info": {
   "codemirror_mode": {
    "name": "ipython",
    "version": 3
   },
   "file_extension": ".py",
   "mimetype": "text/x-python",
   "name": "python",
   "nbconvert_exporter": "python",
   "pygments_lexer": "ipython3",
   "version": "3.8.2"
  },
  "orig_nbformat": 2
 },
 "nbformat": 4,
 "nbformat_minor": 2
}