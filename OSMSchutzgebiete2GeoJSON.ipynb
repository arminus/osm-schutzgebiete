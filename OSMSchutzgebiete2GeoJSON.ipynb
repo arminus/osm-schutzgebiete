{
 "cells": [
  {
   "cell_type": "markdown",
   "metadata": {},
   "source": [
    "# [DE:Betretungsverbote für Gebiete im Winter](https://wiki.openstreetmap.org/wiki/DE:Betretungsverbote_für_Gebiete_im_Winter)\r\n",
    "\r\n",
    "* Extracts all ways via Overpass and filter/analyze further based on the definition above\r\n",
    "* perform some basic analyis (multiple types, untyped)\r\n",
    "* create a GeoJSON with feature properties set to type<1-8> for direct rendering\r\n",
    "  * style properties are set for https://geojson.io\r\n",
    "\r\n",
    "## ToDo:\r\n",
    "\r\n",
    "* support for relations\r\n",
    "* investigate reports on multi types and unclassified (cross-check with query defnition)\r\n",
    "* adjust style properties for types (within limits of both https://geojson.io and leaflet)\r\n",
    "* visualize geojsons in Notebook\r\n",
    "* direct import for geojson.io via API\r\n"
   ]
  },
  {
   "cell_type": "markdown",
   "metadata": {},
   "source": [
    "## Overpass Basis-Query"
   ]
  },
  {
   "cell_type": "code",
   "execution_count": null,
   "metadata": {},
   "outputs": [],
   "source": [
    "import sys, re\r\n",
    "from IPython.core.display import display, HTML\r\n",
    "\r\n",
    "silent = False\r\n",
    "if sys.argv[1] == \"silent\":\r\n",
    "    silent = True\r\n",
    "\r\n",
    "# https://python-overpy.readthedocs.io/en/latest/index.html\r\n",
    "import overpy\r\n",
    "\r\n",
    "api = overpy.Overpass()\r\n",
    "\r\n",
    "# http://norbertrenner.de/osm/bbox.html\r\n",
    "bbox = \"47.378,11.078,47.768,13.111\"\r\n",
    "# [bbox:{bbox}];\r\n",
    "query = f\"\"\"\r\n",
    "way[\"boundary\"=\"protected_area\"][\"protect_class\"=\"14\"];\r\n",
    "(._;>;);\r\n",
    "out body;\r\n",
    "\"\"\"\r\n",
    "\r\n",
    "result = api.query(query)\r\n",
    "if not silent:\r\n",
    "    print (f\"retrieved {len(result.ways)} ways\")"
   ]
  },
  {
   "cell_type": "code",
   "execution_count": null,
   "metadata": {},
   "outputs": [],
   "source": [
    "# transform all tags into the names used in the \"SQL-like\" queries in the Wiki\r\n",
    "def get_tags(tags):\r\n",
    "    seasonal = way.tags.get(\"seasonal\")\r\n",
    "    ski = way.tags.get(\"ski\")\r\n",
    "    ski_conditional = way.tags.get(\"ski:conditional\") or \"\"\r\n",
    "    access = way.tags.get(\"access\")\r\n",
    "    access_conditional = way.tags.get(\"access:conditional\") or \"\"\r\n",
    "    access_offroad = way.tags.get(\"access:offroad\") or \"\"\r\n",
    "    access_offroad_conditional = way.tags.get(\"access:offroad:conditional\") or \"\"\r\n",
    "    \r\n",
    "    return seasonal, ski, ski_conditional, access, access_conditional, access_offroad, access_offroad_conditional"
   ]
  },
  {
   "cell_type": "markdown",
   "metadata": {},
   "source": [
    "## 1 - [Ganzjähriges Befahrungsverbot für Skifahrer](https://wiki.openstreetmap.org/wiki/DE:Betretungsverbote_f%C3%BCr_Gebiete_im_Winter#Ganzj.C3.A4hriges_Befahrungsverbot_f.C3.BCr_Skifahrer)\r\n"
   ]
  },
  {
   "cell_type": "code",
   "execution_count": null,
   "metadata": {},
   "outputs": [],
   "source": [
    "allTypes= []\r\n",
    "ways = []\r\n",
    "for way in result.ways:\r\n",
    "    seasonal, ski, ski_conditional, access, access_conditional, access_offroad, access_offroad_conditional = get_tags(way.tags)\r\n",
    "    \r\n",
    "    if (\r\n",
    "        seasonal is None\r\n",
    "        or seasonal == 'no'\r\n",
    "    ) and (\r\n",
    "        ski in ['no', 'private'] or (\r\n",
    "            access in ['no','private'] and (\r\n",
    "                ski is None\r\n",
    "                or not ski in ['yes','designated','permissive']\r\n",
    "            )\r\n",
    "        )\r\n",
    "    ):\r\n",
    "        ways.append(way)\r\n",
    "allTypes.append(ways)"
   ]
  },
  {
   "cell_type": "markdown",
   "metadata": {},
   "source": [
    "## 2 - [Monatsabhängiges oder saisonales Befahrungsverbot für Skifahrer](https://wiki.openstreetmap.org/wiki/DE:Betretungsverbote_f%C3%BCr_Gebiete_im_Winter#Monatsabh.C3.A4ngiges_oder_saisonales_Befahrungsverbot_f.C3.BCr_Skifahrer)"
   ]
  },
  {
   "cell_type": "code",
   "execution_count": null,
   "metadata": {},
   "outputs": [],
   "source": [
    "ways = []\r\n",
    "for way in result.ways:\r\n",
    "    seasonal, ski, ski_conditional, access, access_conditional, access_offroad, access_offroad_conditional = get_tags(way.tags)\r\n",
    "\r\n",
    "    if (\r\n",
    "        (\r\n",
    "            (\r\n",
    "                not (seasonal is None or seasonal == 'no')\r\n",
    "            ) and (\r\n",
    "                ski in ['no', 'private']\r\n",
    "                or re.match('(no|private) *@ *\\(?(Jan|Feb|Mar|Apr|May|Jun|Jul|Aug|Sep|Oct|Nov|Dec) *[0-9]* *[-,\\,]? *(Jan|Feb|Mar|Apr|May|Jun|Jul|Aug|Sep|Oct|Nov|Dec)* *[0-9]*\\)?', ski_conditional)\r\n",
    "                or (\r\n",
    "                    (\r\n",
    "                        access in ['no','private']\r\n",
    "                        or re.match('(no|private) *@ *\\(?(Jan|Feb|Mar|Apr|May|Jun|Jul|Aug|Sep|Oct|Nov|Dec) *[0-9]* *[-,\\,]? *(Jan|Feb|Mar|Apr|May|Jun|Jul|Aug|Sep|Oct|Nov|Dec)* *[0-9]*\\)?', access_conditional)\r\n",
    "                    ) and (\r\n",
    "                        ski is None\r\n",
    "                        or not ski in ['yes','designated','permissive']\r\n",
    "                    )\r\n",
    "                )\r\n",
    "            )\r\n",
    "            ) or (\r\n",
    "                re.match('(no|private) *@ *\\(?(Jan|Feb|Mar|Apr|May|Jun|Jul|Aug|Sep|Oct|Nov|Dec) *[0-9]* *[-,\\,]? *(Jan|Feb|Mar|Apr|May|Jun|Jul|Aug|Sep|Oct|Nov|Dec)* *[0-9]*\\)?', ski_conditional)\r\n",
    "                or (\r\n",
    "                    (\r\n",
    "                        re.match('(no|private) *@ *\\(?(Jan|Feb|Mar|Apr|May|Jun|Jul|Aug|Sep|Oct|Nov|Dec) *[0-9]* *[-,\\,]? *(Jan|Feb|Mar|Apr|May|Jun|Jul|Aug|Sep|Oct|Nov|Dec)* *[0-9]*\\)?', access_conditional)\r\n",
    "                    ) and (\r\n",
    "                        ski is None\r\n",
    "                    )\r\n",
    "                )\r\n",
    "            )\r\n",
    "        ):\r\n",
    "        ways.append(way)\r\n",
    "allTypes.append(ways)"
   ]
  },
  {
   "cell_type": "markdown",
   "metadata": {},
   "source": [
    "## 3 - [Ganzjährige \"Bitte um Nichtbefahrung\" für Skifahrer](https://wiki.openstreetmap.org/wiki/DE:Betretungsverbote_f%C3%BCr_Gebiete_im_Winter#Ganzj.C3.A4hrige_.22Bitte_um_Nichtbefahrung.22_f.C3.BCr_Skifahrer)"
   ]
  },
  {
   "cell_type": "code",
   "execution_count": null,
   "metadata": {},
   "outputs": [],
   "source": [
    "ways = []\r\n",
    "for way in result.ways:\r\n",
    "    seasonal, ski, ski_conditional, access, access_conditional, access_offroad, access_offroad_conditional = get_tags(way.tags)\r\n",
    "    \r\n",
    "    if ( \r\n",
    "        seasonal is None\r\n",
    "        or seasonal == 'no'\r\n",
    "    ) and (\r\n",
    "        ski == 'discouraged'\r\n",
    "        or (\r\n",
    "            access == 'discouraged' and (\r\n",
    "                ski is None\r\n",
    "                or not ski in ['yes','designated','permissive']\r\n",
    "            )\r\n",
    "        )\r\n",
    "    ):\r\n",
    "        ways.append(way)\r\n",
    "allTypes.append(ways)"
   ]
  },
  {
   "cell_type": "markdown",
   "metadata": {},
   "source": [
    "## 4 - [Monatsabhängige oder saisonale \"Bitte um Nichtbefahrung\" für Skifahrer](https://wiki.openstreetmap.org/wiki/DE:Betretungsverbote_f%C3%BCr_Gebiete_im_Winter#Monatsabh.C3.A4ngige_oder_saisonale_.22Bitte_um_Nichtbefahrung.22_f.C3.BCr_Skifahrer)"
   ]
  },
  {
   "cell_type": "code",
   "execution_count": null,
   "metadata": {},
   "outputs": [],
   "source": [
    "ways = []\r\n",
    "for way in result.ways:\r\n",
    "    seasonal, ski, ski_conditional, access, access_conditional, access_offroad, access_offroad_conditional = get_tags(way.tags)\r\n",
    "\r\n",
    "    if (\r\n",
    "        (\r\n",
    "            (\r\n",
    "                not (seasonal is None or seasonal == 'no') \r\n",
    "            ) and (\r\n",
    "                ski == 'discouraged'\r\n",
    "                or re.match('(discouraged) *@ *\\(?(Jan|Feb|Mar|Apr|May|Jun|Jul|Aug|Sep|Oct|Nov|Dec) *[0-9]* *[-,\\,]? *(Jan|Feb|Mar|Apr|May|Jun|Jul|Aug|Sep|Oct|Nov|Dec)* *[0-9]*\\)?', ski_conditional)\r\n",
    "                or (\r\n",
    "                    (\r\n",
    "                        access == 'discouraged' \r\n",
    "                        or re.match('(discouraged) *@ *\\(?(Jan|Feb|Mar|Apr|May|Jun|Jul|Aug|Sep|Oct|Nov|Dec) *[0-9]* *[-,\\,]? *(Jan|Feb|Mar|Apr|May|Jun|Jul|Aug|Sep|Oct|Nov|Dec)* *[0-9]*\\)?', access_conditional)\r\n",
    "                    ) and (\r\n",
    "                        ski is None\r\n",
    "                        or not ski in ['yes','designated','permissive']\r\n",
    "                    )\r\n",
    "                )\r\n",
    "            )\r\n",
    "        ) or (\r\n",
    "            re.match('(discouraged) *@ *\\(?(Jan|Feb|Mar|Apr|May|Jun|Jul|Aug|Sep|Oct|Nov|Dec) *[0-9]* *[-,\\,]? *(Jan|Feb|Mar|Apr|May|Jun|Jul|Aug|Sep|Oct|Nov|Dec)* *[0-9]*\\)?', ski_conditional)\r\n",
    "            or (\r\n",
    "                (\r\n",
    "                    re.match('(discouraged) *@ *\\(?(Jan|Feb|Mar|Apr|May|Jun|Jul|Aug|Sep|Oct|Nov|Dec) *[0-9]* *[-,\\,]? *(Jan|Feb|Mar|Apr|May|Jun|Jul|Aug|Sep|Oct|Nov|Dec)* *[0-9]*\\)?', access_conditional)\r\n",
    "                ) and (\r\n",
    "                    ski is None\r\n",
    "                )\r\n",
    "            )        \r\n",
    "        )\r\n",
    "    ):\r\n",
    "        ways.append(way)\r\n",
    "allTypes.append(ways)"
   ]
  },
  {
   "cell_type": "markdown",
   "metadata": {},
   "source": [
    "## 5 - [Ganzjähriges Skibefahrungsverbot auf der Fläche außerhalb der Wege (Wegegebot)](https://wiki.openstreetmap.org/wiki/DE:Betretungsverbote_f%C3%BCr_Gebiete_im_Winter#Ganzj.C3.A4hriges_Skibefahrungsverbot_auf_der_Fl.C3.A4che_au.C3.9Ferhalb_der_Wege_.28Wegegebot.29)"
   ]
  },
  {
   "cell_type": "code",
   "execution_count": null,
   "metadata": {},
   "outputs": [],
   "source": [
    "ways = []\r\n",
    "for way in result.ways:\r\n",
    "    seasonal, ski, ski_conditional, access, access_conditional, access_offroad, access_offroad_conditional = get_tags(way.tags)\r\n",
    "\r\n",
    "    if ( \r\n",
    "        seasonal is None \r\n",
    "        or seasonal == 'no' \r\n",
    "    ) and (\r\n",
    "        access_offroad in ['no','private'] and (\r\n",
    "            ski is None\r\n",
    "            or not ski in ['yes','designated','permissive']\r\n",
    "        )\r\n",
    "    ):\r\n",
    "        ways.append(way)\r\n",
    "allTypes.append(ways)"
   ]
  },
  {
   "cell_type": "markdown",
   "metadata": {},
   "source": [
    "## 6 - [Monatsabhängiges oder saisonales Skibefahrungsverbot auf der Fläche außerhalb der Wege (saisonales Wegegebot)](https://wiki.openstreetmap.org/wiki/DE:Betretungsverbote_f%C3%BCr_Gebiete_im_Winter#Monatsabh.C3.A4ngiges_oder_saisonales_Skibefahrungsverbot_auf_der_Fl.C3.A4che_au.C3.9Ferhalb_der_Wege_.28saisonales_Wegegebot.29)"
   ]
  },
  {
   "cell_type": "code",
   "execution_count": null,
   "metadata": {},
   "outputs": [],
   "source": [
    "ways = []\r\n",
    "for way in result.ways:\r\n",
    "    seasonal, ski, ski_conditional, access, access_conditional, access_offroad, access_offroad_conditional = get_tags(way.tags)\r\n",
    "    if (\r\n",
    "        (\r\n",
    "            (\r\n",
    "                not (seasonal is None or seasonal == 'no')\r\n",
    "            ) and (\r\n",
    "                access_offroad in ['no','private']\r\n",
    "                or re.match('(no|private) *@ *\\(?(Jan|Feb|Mar|Apr|May|Jun|Jul|Aug|Sep|Oct|Nov|Dec) *[0-9]* *[-,\\,]? *(Jan|Feb|Mar|Apr|May|Jun|Jul|Aug|Sep|Oct|Nov|Dec)* *[0-9]*\\)?', access_offroad_conditional)\r\n",
    "            ) and (\r\n",
    "                ski is None\r\n",
    "                or not ski in ('yes','designated','permissive')\r\n",
    "            )\r\n",
    "        )\r\n",
    "    ) or (\r\n",
    "        re.match('(no|private) *@ *\\(?(Jan|Feb|Mar|Apr|May|Jun|Jul|Aug|Sep|Oct|Nov|Dec) *[0-9]* *[-,\\,]? *(Jan|Feb|Mar|Apr|May|Jun|Jul|Aug|Sep|Oct|Nov|Dec)* *[0-9]*\\)?', access_offroad_conditional)\r\n",
    "        and (\r\n",
    "            ski is None\r\n",
    "        )\r\n",
    "    ):\r\n",
    "        ways.append(way)\r\n",
    "allTypes.append(ways)"
   ]
  },
  {
   "cell_type": "markdown",
   "metadata": {},
   "source": [
    "## 7 - [Ganzjährige \"Bitte um Nichtbefahrung\" der Fläche außerhalb der Wege](https://wiki.openstreetmap.org/wiki/DE:Betretungsverbote_f%C3%BCr_Gebiete_im_Winter#Ganzj.C3.A4hrige_.22Bitte_um_Nichtbefahrung.22_der_Fl.C3.A4che_au.C3.9Ferhalb_der_Wege)"
   ]
  },
  {
   "cell_type": "code",
   "execution_count": null,
   "metadata": {},
   "outputs": [],
   "source": [
    "ways = []\r\n",
    "for way in result.ways:\r\n",
    "    seasonal, ski, ski_conditional, access, access_conditional, access_offroad, access_offroad_conditional = get_tags(way.tags)\r\n",
    "\r\n",
    "    if ( \r\n",
    "        seasonal is None \r\n",
    "        or seasonal == 'no'\r\n",
    "    ) and (\r\n",
    "        access_offroad == 'discouraged' and (\r\n",
    "            ski is None\r\n",
    "            or not ski in ['yes','designated','permissive']\r\n",
    "        )\r\n",
    "    ):\r\n",
    "        ways.append(way)\r\n",
    "allTypes.append(ways)"
   ]
  },
  {
   "cell_type": "markdown",
   "metadata": {},
   "source": [
    "## 8 - [Monatsabhängige oder saisonale \"Bitte um Nichtbefahrung\" auf der Fläche außerhalb der Wege](https://wiki.openstreetmap.org/wiki/DE:Betretungsverbote_f%C3%BCr_Gebiete_im_Winter#Monatsabh.C3.A4ngige_oder_saisonale_.22Bitte_um_Nichtbefahrung.22_auf_der_Fl.C3.A4che_au.C3.9Ferhalb_der_Wege)"
   ]
  },
  {
   "cell_type": "code",
   "execution_count": null,
   "metadata": {},
   "outputs": [],
   "source": [
    "ways = []\r\n",
    "for way in result.ways:\r\n",
    "    seasonal, ski, ski_conditional, access, access_conditional, access_offroad, access_offroad_conditional = get_tags(way.tags)\r\n",
    "\r\n",
    "    if (\r\n",
    "        (\r\n",
    "            (\r\n",
    "                not (seasonal is None or seasonal == 'no')\r\n",
    "            ) and (\r\n",
    "                access_offroad == 'discouraged' \r\n",
    "                or re.match('(discouraged) *@ *\\(?(Jan|Feb|Mar|Apr|May|Jun|Jul|Aug|Sep|Oct|Nov|Dec) *[0-9]* *[-,\\,]? *(Jan|Feb|Mar|Apr|May|Jun|Jul|Aug|Sep|Oct|Nov|Dec)* *[0-9]*\\)?', access_offroad_conditional)\r\n",
    "            ) and (\r\n",
    "                ski is None\r\n",
    "                or not ski in ['yes','designated','permissive']\r\n",
    "            )\r\n",
    "        )\r\n",
    "    ) or (\r\n",
    "        re.match('(discouraged) *@ *\\(?(Jan|Feb|Mar|Apr|May|Jun|Jul|Aug|Sep|Oct|Nov|Dec) *[0-9]* *[-,\\,]? *(Jan|Feb|Mar|Apr|May|Jun|Jul|Aug|Sep|Oct|Nov|Dec)* *[0-9]*\\)?', access_offroad_conditional)\r\n",
    "        and (\r\n",
    "            ski is None\r\n",
    "        )\r\n",
    "    ):\r\n",
    "        ways.append(way)\r\n",
    "allTypes.append(ways)"
   ]
  },
  {
   "cell_type": "markdown",
   "metadata": {},
   "source": [
    "## Ergebnisse:"
   ]
  },
  {
   "cell_type": "code",
   "execution_count": null,
   "metadata": {},
   "outputs": [],
   "source": [
    "if not silent:\r\n",
    "    def href(id):\r\n",
    "        return f\"<a href='https://www.openstreetmap.org/way/{id}'>{id}</a>\"\r\n",
    "\r\n",
    "    subSum = 0\r\n",
    "    for i in range(0, 7):\r\n",
    "        subSum += len(allTypes[i])\r\n",
    "\r\n",
    "    # if subSum != len(result.ways):\r\n",
    "    #     print(f\"Total no of ways={len(result.ways)}, sum of types={subSum}\")\r\n",
    "\r\n",
    "    multiClassifiedWays = []\r\n",
    "    unclassifiedWays = []\r\n",
    "    for way in result.ways:\r\n",
    "        types = []\r\n",
    "        for i in range(0, 7):\r\n",
    "            if way in allTypes[i]:\r\n",
    "                types.append(f\"type{i+1}\")\r\n",
    "        way.tags['classification'] = types\r\n",
    "        if len(types) == 0:\r\n",
    "            unclassifiedWays.append(way)\r\n",
    "        if len(types) > 1:\r\n",
    "            multiClassifiedWays.append(way)\r\n",
    "\r\n",
    "    html = f\"<h3>Multiple Classifications [{len(multiClassifiedWays)}]</h3><ul>\"\r\n",
    "    for way in multiClassifiedWays:\r\n",
    "        wayId = href(way.id)\r\n",
    "        html += f\"<li>{wayId} -> {way.tags['classification']}</li>\"\r\n",
    "    display(HTML(f\"{html}</u>\"))\r\n",
    "\r\n",
    "    html = f\"<h3>Unclassified [{len(unclassifiedWays)}]</h3><ul>\"\r\n",
    "    for way in unclassifiedWays:\r\n",
    "        wayId = href(way.id)\r\n",
    "        html += f\"<li>{wayId} -> {way.tags}</li>\"\r\n",
    "    display(HTML(f\"{html}</u>\"))"
   ]
  },
  {
   "cell_type": "code",
   "execution_count": null,
   "metadata": {},
   "outputs": [],
   "source": [
    "# https://github.com/jazzband/geojson\r\n",
    "import geojson\r\n",
    "\r\n",
    "from geojson import FeatureCollection, Feature, Polygon\r\n",
    "features = []\r\n",
    "\r\n",
    "styles = {\"stroke\": \"#555555\", \"stroke-width\": 2, \"stroke-opacity\": 1, \"fill\": \"#ffff80\", \"fill-opacity\": 0.4}\r\n",
    "\r\n",
    "for i in range(0, 7):\r\n",
    "    for way in allTypes[i]:\r\n",
    "        lonLats = []\r\n",
    "        for node in way.nodes:\r\n",
    "            lonLats.append((float(node.lon),float(node.lat)))\r\n",
    "        way.tags['s_type'] = f\"type{i+1}\"\r\n",
    "        way.tags.update(styles)\r\n",
    "        features.append(Feature(geometry=Polygon([lonLats]),properties=way.tags))\r\n",
    "\r\n",
    "feature_collection = FeatureCollection(features)\r\n",
    "\r\n",
    "with open(f\"data/Schongebiete.geojson\", \"w\") as gFile:\r\n",
    "    geojson.dump(feature_collection, gFile)\r\n"
   ]
  }
 ],
 "metadata": {
  "kernelspec": {
   "display_name": "Python 3",
   "language": "python",
   "name": "python3"
  },
  "language_info": {
   "codemirror_mode": {
    "name": "ipython",
    "version": 3
   },
   "file_extension": ".py",
   "mimetype": "text/x-python",
   "name": "python",
   "nbconvert_exporter": "python",
   "pygments_lexer": "ipython3",
   "version": "3.8.2-final"
  },
  "orig_nbformat": 2
 },
 "nbformat": 4,
 "nbformat_minor": 2
}