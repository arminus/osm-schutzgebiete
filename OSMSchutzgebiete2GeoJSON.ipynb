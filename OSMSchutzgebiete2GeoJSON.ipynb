{
 "cells": [
  {
   "cell_type": "markdown",
   "metadata": {},
   "source": [
    "# [DE:Betretungsverbote für Gebiete im Winter](https://wiki.openstreetmap.org/wiki/DE:Betretungsverbote_für_Gebiete_im_Winter)\r\n",
    "\r\n",
    "* Extracts all ways via Overpass and filter/analyze further based on the definition above\r\n",
    "* perform some basic analyis (multiple types, untyped)\r\n",
    "* create a GeoJSON with feature properties set to type<1-8> for direct rendering\r\n",
    "  * style properties are set for https://geojson.io\r\n",
    "\r\n",
    "## ToDo:\r\n",
    "\r\n",
    "* investigate reports on multi types and unclassified (cross-check with query defnition)\r\n",
    "* adjust style properties for type (within limits of both https://geojson.io and leaflet)\r\n",
    "* visualize geojsons in Notebook\r\n"
   ]
  },
  {
   "cell_type": "markdown",
   "metadata": {},
   "source": [
    "## Overpass Basis-Query"
   ]
  },
  {
   "cell_type": "code",
   "execution_count": 1,
   "metadata": {},
   "outputs": [
    {
     "name": "stdout",
     "output_type": "stream",
     "text": [
      "retrieved 234 ways\n"
     ]
    }
   ],
   "source": [
    "import sys, re\r\n",
    "from IPython.core.display import display, HTML\r\n",
    "\r\n",
    "silent = False\r\n",
    "if sys.argv[1] == \"silent\":\r\n",
    "    silent = True\r\n",
    "\r\n",
    "# https://python-overpy.readthedocs.io/en/latest/index.html\r\n",
    "import overpy\r\n",
    "\r\n",
    "api = overpy.Overpass()\r\n",
    "\r\n",
    "# http://norbertrenner.de/osm/bbox.html\r\n",
    "bbox = \"47.378,11.078,47.768,13.111\"\r\n",
    "# [bbox:{bbox}];\r\n",
    "query = f\"\"\"\r\n",
    "way[\"boundary\"=\"protected_area\"][\"protect_class\"=\"14\"];\r\n",
    "(._;>;);\r\n",
    "out body;\r\n",
    "\"\"\"\r\n",
    "\r\n",
    "result = api.query(query)\r\n",
    "if not silent:\r\n",
    "    print (f\"retrieved {len(result.ways)} ways\")"
   ]
  },
  {
   "cell_type": "code",
   "execution_count": 2,
   "metadata": {},
   "outputs": [],
   "source": [
    "# transform all tags into the names used in the \"SQL-like\" queries in the Wiki\r\n",
    "def get_tags(tags):\r\n",
    "    seasonal = way.tags.get(\"seasonal\")\r\n",
    "    ski = way.tags.get(\"ski\")\r\n",
    "    ski_conditional = way.tags.get(\"ski:conditional\") or \"\"\r\n",
    "    access = way.tags.get(\"access\")\r\n",
    "    access_conditional = way.tags.get(\"access:conditional\") or \"\"\r\n",
    "    access_offroad = way.tags.get(\"access:offroad\") or \"\"\r\n",
    "    access_offroad_conditional = way.tags.get(\"access:offroad:conditional\") or \"\"\r\n",
    "    \r\n",
    "    return seasonal, ski, ski_conditional, access, access_conditional, access_offroad, access_offroad_conditional"
   ]
  },
  {
   "cell_type": "markdown",
   "metadata": {},
   "source": [
    "## 1 - [Ganzjähriges Befahrungsverbot für Skifahrer](https://wiki.openstreetmap.org/wiki/DE:Betretungsverbote_f%C3%BCr_Gebiete_im_Winter#Ganzj.C3.A4hriges_Befahrungsverbot_f.C3.BCr_Skifahrer)\r\n"
   ]
  },
  {
   "cell_type": "code",
   "execution_count": 3,
   "metadata": {},
   "outputs": [],
   "source": [
    "allTypes= []\r\n",
    "ways = []\r\n",
    "for way in result.ways:\r\n",
    "    seasonal, ski, ski_conditional, access, access_conditional, access_offroad, access_offroad_conditional = get_tags(way.tags)\r\n",
    "    \r\n",
    "    if (\r\n",
    "        seasonal is None\r\n",
    "        or seasonal == 'no'\r\n",
    "    ) and (\r\n",
    "        ski in ['no', 'private'] or (\r\n",
    "            access in ['no','private'] and (\r\n",
    "                ski is None\r\n",
    "                or not ski in ['yes','designated','permissive']\r\n",
    "            )\r\n",
    "        )\r\n",
    "    ):\r\n",
    "        ways.append(way)\r\n",
    "allTypes.append(ways)"
   ]
  },
  {
   "cell_type": "markdown",
   "metadata": {},
   "source": [
    "## 2 - [Monatsabhängiges oder saisonales Befahrungsverbot für Skifahrer](https://wiki.openstreetmap.org/wiki/DE:Betretungsverbote_f%C3%BCr_Gebiete_im_Winter#Monatsabh.C3.A4ngiges_oder_saisonales_Befahrungsverbot_f.C3.BCr_Skifahrer)"
   ]
  },
  {
   "cell_type": "code",
   "execution_count": 4,
   "metadata": {},
   "outputs": [],
   "source": [
    "ways = []\r\n",
    "for way in result.ways:\r\n",
    "    seasonal, ski, ski_conditional, access, access_conditional, access_offroad, access_offroad_conditional = get_tags(way.tags)\r\n",
    "\r\n",
    "    if (\r\n",
    "        (\r\n",
    "            (\r\n",
    "                not (seasonal is None or seasonal == 'no')\r\n",
    "            ) and (\r\n",
    "                ski in ['no', 'private']\r\n",
    "                or re.match('(no|private) *@ *\\(?(Jan|Feb|Mar|Apr|May|Jun|Jul|Aug|Sep|Oct|Nov|Dec) *[0-9]* *[-,\\,]? *(Jan|Feb|Mar|Apr|May|Jun|Jul|Aug|Sep|Oct|Nov|Dec)* *[0-9]*\\)?', ski_conditional)\r\n",
    "                or (\r\n",
    "                    (\r\n",
    "                        access in ['no','private']\r\n",
    "                        or re.match('(no|private) *@ *\\(?(Jan|Feb|Mar|Apr|May|Jun|Jul|Aug|Sep|Oct|Nov|Dec) *[0-9]* *[-,\\,]? *(Jan|Feb|Mar|Apr|May|Jun|Jul|Aug|Sep|Oct|Nov|Dec)* *[0-9]*\\)?', access_conditional)\r\n",
    "                    ) and (\r\n",
    "                        ski is None\r\n",
    "                        or not ski in ['yes','designated','permissive']\r\n",
    "                    )\r\n",
    "                )\r\n",
    "            )\r\n",
    "            ) or (\r\n",
    "                re.match('(no|private) *@ *\\(?(Jan|Feb|Mar|Apr|May|Jun|Jul|Aug|Sep|Oct|Nov|Dec) *[0-9]* *[-,\\,]? *(Jan|Feb|Mar|Apr|May|Jun|Jul|Aug|Sep|Oct|Nov|Dec)* *[0-9]*\\)?', ski_conditional)\r\n",
    "                or (\r\n",
    "                    (\r\n",
    "                        re.match('(no|private) *@ *\\(?(Jan|Feb|Mar|Apr|May|Jun|Jul|Aug|Sep|Oct|Nov|Dec) *[0-9]* *[-,\\,]? *(Jan|Feb|Mar|Apr|May|Jun|Jul|Aug|Sep|Oct|Nov|Dec)* *[0-9]*\\)?', access_conditional)\r\n",
    "                    ) and (\r\n",
    "                        ski is None\r\n",
    "                    )\r\n",
    "                )\r\n",
    "            )\r\n",
    "        ):\r\n",
    "        ways.append(way)\r\n",
    "allTypes.append(ways)"
   ]
  },
  {
   "cell_type": "markdown",
   "metadata": {},
   "source": [
    "## 3 - [Ganzjährige \"Bitte um Nichtbefahrung\" für Skifahrer](https://wiki.openstreetmap.org/wiki/DE:Betretungsverbote_f%C3%BCr_Gebiete_im_Winter#Ganzj.C3.A4hrige_.22Bitte_um_Nichtbefahrung.22_f.C3.BCr_Skifahrer)"
   ]
  },
  {
   "cell_type": "code",
   "execution_count": 5,
   "metadata": {},
   "outputs": [],
   "source": [
    "ways = []\r\n",
    "for way in result.ways:\r\n",
    "    seasonal, ski, ski_conditional, access, access_conditional, access_offroad, access_offroad_conditional = get_tags(way.tags)\r\n",
    "    \r\n",
    "    if ( \r\n",
    "        seasonal is None\r\n",
    "        or seasonal == 'no'\r\n",
    "    ) and (\r\n",
    "        ski == 'discouraged'\r\n",
    "        or (\r\n",
    "            access == 'discouraged' and (\r\n",
    "                ski is None\r\n",
    "                or not ski in ['yes','designated','permissive']\r\n",
    "            )\r\n",
    "        )\r\n",
    "    ):\r\n",
    "        ways.append(way)\r\n",
    "allTypes.append(ways)"
   ]
  },
  {
   "cell_type": "markdown",
   "metadata": {},
   "source": [
    "## 4 - [Monatsabhängige oder saisonale \"Bitte um Nichtbefahrung\" für Skifahrer](https://wiki.openstreetmap.org/wiki/DE:Betretungsverbote_f%C3%BCr_Gebiete_im_Winter#Monatsabh.C3.A4ngige_oder_saisonale_.22Bitte_um_Nichtbefahrung.22_f.C3.BCr_Skifahrer)"
   ]
  },
  {
   "cell_type": "code",
   "execution_count": 6,
   "metadata": {},
   "outputs": [],
   "source": [
    "ways = []\r\n",
    "for way in result.ways:\r\n",
    "    seasonal, ski, ski_conditional, access, access_conditional, access_offroad, access_offroad_conditional = get_tags(way.tags)\r\n",
    "\r\n",
    "    if (\r\n",
    "        (\r\n",
    "            (\r\n",
    "                not (seasonal is None or seasonal == 'no') \r\n",
    "            ) and (\r\n",
    "                ski == 'discouraged'\r\n",
    "                or re.match('(discouraged) *@ *\\(?(Jan|Feb|Mar|Apr|May|Jun|Jul|Aug|Sep|Oct|Nov|Dec) *[0-9]* *[-,\\,]? *(Jan|Feb|Mar|Apr|May|Jun|Jul|Aug|Sep|Oct|Nov|Dec)* *[0-9]*\\)?', ski_conditional)\r\n",
    "                or (\r\n",
    "                    (\r\n",
    "                        access == 'discouraged' \r\n",
    "                        or re.match('(discouraged) *@ *\\(?(Jan|Feb|Mar|Apr|May|Jun|Jul|Aug|Sep|Oct|Nov|Dec) *[0-9]* *[-,\\,]? *(Jan|Feb|Mar|Apr|May|Jun|Jul|Aug|Sep|Oct|Nov|Dec)* *[0-9]*\\)?', access_conditional)\r\n",
    "                    ) and (\r\n",
    "                        ski is None\r\n",
    "                        or not ski in ['yes','designated','permissive']\r\n",
    "                    )\r\n",
    "                )\r\n",
    "            )\r\n",
    "        ) or (\r\n",
    "            re.match('(discouraged) *@ *\\(?(Jan|Feb|Mar|Apr|May|Jun|Jul|Aug|Sep|Oct|Nov|Dec) *[0-9]* *[-,\\,]? *(Jan|Feb|Mar|Apr|May|Jun|Jul|Aug|Sep|Oct|Nov|Dec)* *[0-9]*\\)?', ski_conditional)\r\n",
    "            or (\r\n",
    "                (\r\n",
    "                    re.match('(discouraged) *@ *\\(?(Jan|Feb|Mar|Apr|May|Jun|Jul|Aug|Sep|Oct|Nov|Dec) *[0-9]* *[-,\\,]? *(Jan|Feb|Mar|Apr|May|Jun|Jul|Aug|Sep|Oct|Nov|Dec)* *[0-9]*\\)?', access_conditional)\r\n",
    "                ) and (\r\n",
    "                    ski is None\r\n",
    "                )\r\n",
    "            )        \r\n",
    "        )\r\n",
    "    ):\r\n",
    "        ways.append(way)\r\n",
    "allTypes.append(ways)"
   ]
  },
  {
   "cell_type": "markdown",
   "metadata": {},
   "source": [
    "## 5 - [Ganzjähriges Skibefahrungsverbot auf der Fläche außerhalb der Wege (Wegegebot)](https://wiki.openstreetmap.org/wiki/DE:Betretungsverbote_f%C3%BCr_Gebiete_im_Winter#Ganzj.C3.A4hriges_Skibefahrungsverbot_auf_der_Fl.C3.A4che_au.C3.9Ferhalb_der_Wege_.28Wegegebot.29)"
   ]
  },
  {
   "cell_type": "code",
   "execution_count": 7,
   "metadata": {},
   "outputs": [],
   "source": [
    "ways = []\r\n",
    "for way in result.ways:\r\n",
    "    seasonal, ski, ski_conditional, access, access_conditional, access_offroad, access_offroad_conditional = get_tags(way.tags)\r\n",
    "\r\n",
    "    if ( \r\n",
    "        seasonal is None \r\n",
    "        or seasonal == 'no' \r\n",
    "    ) and (\r\n",
    "        access_offroad in ['no','private'] and (\r\n",
    "            ski is None\r\n",
    "            or not ski in ['yes','designated','permissive']\r\n",
    "        )\r\n",
    "    ):\r\n",
    "        ways.append(way)\r\n",
    "allTypes.append(ways)"
   ]
  },
  {
   "cell_type": "markdown",
   "metadata": {},
   "source": [
    "## 6 - [Monatsabhängiges oder saisonales Skibefahrungsverbot auf der Fläche außerhalb der Wege (saisonales Wegegebot)](https://wiki.openstreetmap.org/wiki/DE:Betretungsverbote_f%C3%BCr_Gebiete_im_Winter#Monatsabh.C3.A4ngiges_oder_saisonales_Skibefahrungsverbot_auf_der_Fl.C3.A4che_au.C3.9Ferhalb_der_Wege_.28saisonales_Wegegebot.29)"
   ]
  },
  {
   "cell_type": "code",
   "execution_count": 8,
   "metadata": {},
   "outputs": [],
   "source": [
    "ways = []\r\n",
    "for way in result.ways:\r\n",
    "    seasonal, ski, ski_conditional, access, access_conditional, access_offroad, access_offroad_conditional = get_tags(way.tags)\r\n",
    "    if (\r\n",
    "        (\r\n",
    "            (\r\n",
    "                not (seasonal is None or seasonal == 'no')\r\n",
    "            ) and (\r\n",
    "                access_offroad in ['no','private']\r\n",
    "                or re.match('(no|private) *@ *\\(?(Jan|Feb|Mar|Apr|May|Jun|Jul|Aug|Sep|Oct|Nov|Dec) *[0-9]* *[-,\\,]? *(Jan|Feb|Mar|Apr|May|Jun|Jul|Aug|Sep|Oct|Nov|Dec)* *[0-9]*\\)?', access_offroad_conditional)\r\n",
    "            ) and (\r\n",
    "                ski is None\r\n",
    "                or not ski in ('yes','designated','permissive')\r\n",
    "            )\r\n",
    "        )\r\n",
    "    ) or (\r\n",
    "        re.match('(no|private) *@ *\\(?(Jan|Feb|Mar|Apr|May|Jun|Jul|Aug|Sep|Oct|Nov|Dec) *[0-9]* *[-,\\,]? *(Jan|Feb|Mar|Apr|May|Jun|Jul|Aug|Sep|Oct|Nov|Dec)* *[0-9]*\\)?', access_conditional)\r\n",
    "        and (\r\n",
    "            ski is None\r\n",
    "        )\r\n",
    "    ):\r\n",
    "        ways.append(way)\r\n",
    "allTypes.append(ways)"
   ]
  },
  {
   "cell_type": "markdown",
   "metadata": {},
   "source": [
    "## 7 - [Ganzjährige \"Bitte um Nichtbefahrung\" der Fläche außerhalb der Wege](https://wiki.openstreetmap.org/wiki/DE:Betretungsverbote_f%C3%BCr_Gebiete_im_Winter#Ganzj.C3.A4hrige_.22Bitte_um_Nichtbefahrung.22_der_Fl.C3.A4che_au.C3.9Ferhalb_der_Wege)"
   ]
  },
  {
   "cell_type": "code",
   "execution_count": 9,
   "metadata": {},
   "outputs": [],
   "source": [
    "ways = []\r\n",
    "for way in result.ways:\r\n",
    "    seasonal, ski, ski_conditional, access, access_conditional, access_offroad, access_offroad_conditional = get_tags(way.tags)\r\n",
    "\r\n",
    "    if ( \r\n",
    "        seasonal is None \r\n",
    "        or seasonal == 'no'\r\n",
    "    ) and (\r\n",
    "        access_offroad == 'discouraged' and (\r\n",
    "            ski is None\r\n",
    "            or not ski in ['yes','designated','permissive']\r\n",
    "        )\r\n",
    "    ):\r\n",
    "        ways.append(way)\r\n",
    "allTypes.append(ways)"
   ]
  },
  {
   "cell_type": "markdown",
   "metadata": {},
   "source": [
    "## 8 - [Monatsabhängige oder saisonale \"Bitte um Nichtbefahrung\" auf der Fläche außerhalb der Wege](https://wiki.openstreetmap.org/wiki/DE:Betretungsverbote_f%C3%BCr_Gebiete_im_Winter#Monatsabh.C3.A4ngige_oder_saisonale_.22Bitte_um_Nichtbefahrung.22_auf_der_Fl.C3.A4che_au.C3.9Ferhalb_der_Wege)"
   ]
  },
  {
   "cell_type": "code",
   "execution_count": 10,
   "metadata": {},
   "outputs": [],
   "source": [
    "ways = []\r\n",
    "for way in result.ways:\r\n",
    "    seasonal, ski, ski_conditional, access, access_conditional, access_offroad, access_offroad_conditional = get_tags(way.tags)\r\n",
    "\r\n",
    "    if (\r\n",
    "        (\r\n",
    "            (\r\n",
    "                not (seasonal is None or seasonal == 'no')\r\n",
    "            ) and (\r\n",
    "                access_offroad == 'discouraged' \r\n",
    "                or re.match('(discouraged) *@ *\\(?(Jan|Feb|Mar|Apr|May|Jun|Jul|Aug|Sep|Oct|Nov|Dec) *[0-9]* *[-,\\,]? *(Jan|Feb|Mar|Apr|May|Jun|Jul|Aug|Sep|Oct|Nov|Dec)* *[0-9]*\\)?', access_offroad_conditional)\r\n",
    "            ) and (\r\n",
    "                ski is None\r\n",
    "                or not ski in ['yes','designated','permissive']\r\n",
    "            )\r\n",
    "        )\r\n",
    "    ) or (\r\n",
    "        re.match('(discouraged) *@ *\\(?(Jan|Feb|Mar|Apr|May|Jun|Jul|Aug|Sep|Oct|Nov|Dec) *[0-9]* *[-,\\,]? *(Jan|Feb|Mar|Apr|May|Jun|Jul|Aug|Sep|Oct|Nov|Dec)* *[0-9]*\\)?', access_conditional)\r\n",
    "        and (\r\n",
    "            ski is None\r\n",
    "        )\r\n",
    "    ):\r\n",
    "        ways.append(way)\r\n",
    "allTypes.append(ways)"
   ]
  },
  {
   "cell_type": "markdown",
   "metadata": {},
   "source": [
    "## Ergebnisse:"
   ]
  },
  {
   "cell_type": "code",
   "execution_count": 11,
   "metadata": {},
   "outputs": [
    {
     "data": {
      "text/html": "<h3>Multiple Classifications [10]</h3><ul><li><a href='https://www.openstreetmap.org/way/75778869'>75778869</a> -> ['type2', 'type6']</li><li><a href='https://www.openstreetmap.org/way/106944204'>106944204</a> -> ['type2', 'type6']</li><li><a href='https://www.openstreetmap.org/way/214281060'>214281060</a> -> ['type2', 'type6']</li><li><a href='https://www.openstreetmap.org/way/382746861'>382746861</a> -> ['type2', 'type6']</li><li><a href='https://www.openstreetmap.org/way/407301531'>407301531</a> -> ['type2', 'type6']</li><li><a href='https://www.openstreetmap.org/way/409101814'>409101814</a> -> ['type2', 'type6']</li><li><a href='https://www.openstreetmap.org/way/773805726'>773805726</a> -> ['type2', 'type6']</li><li><a href='https://www.openstreetmap.org/way/773805729'>773805729</a> -> ['type2', 'type6']</li><li><a href='https://www.openstreetmap.org/way/810510743'>810510743</a> -> ['type2', 'type6']</li><li><a href='https://www.openstreetmap.org/way/901340704'>901340704</a> -> ['type2', 'type6']</li></u>",
      "text/plain": "<IPython.core.display.HTML object>"
     },
     "metadata": {
      "transient": {}
     },
     "output_type": "display_data"
    },
    {
     "data": {
      "text/html": "<h3>Unclassified [79]</h3><ul><li><a href='https://www.openstreetmap.org/way/24237438'>24237438</a> -> {'boundary': 'protected_area', 'landuse': 'forest', 'leaf_cycle': 'deciduous', 'leaf_type': 'broadleaved', 'protect_class': '14', 'protection_title': 'Wildruhezone', 'classification': []}</li><li><a href='https://www.openstreetmap.org/way/36850336'>36850336</a> -> {'boundary': 'protected_area', 'name': 'Wild-Ruhezone', 'protect_class': '14', 'protection_title': 'Wild-Ruhezone', 'source': 'https://www.ebersberger-forst.com/Freizeitipps-Ebersberger-Forst-2019.pdf', 'classification': []}</li><li><a href='https://www.openstreetmap.org/way/49225335'>49225335</a> -> {'boundary': 'protected_area', 'fixme': 'Boundary estimated', 'leisure': 'nature_reserve', 'name': 'Spineflower Habitat Protection Zone', 'protect_class': '14', 'classification': []}</li><li><a href='https://www.openstreetmap.org/way/107398878'>107398878</a> -> {'boundary': 'protected_area', 'protect_class': '14', 'protection_title': 'Wildruhezone', 'source': 'Geocaching-Handbuch.de', 'classification': []}</li><li><a href='https://www.openstreetmap.org/way/107398879'>107398879</a> -> {'boundary': 'protected_area', 'protect_class': '14', 'protection_title': 'Wildruhezone', 'source': 'Geocaching-Handbuch.de', 'classification': []}</li><li><a href='https://www.openstreetmap.org/way/107398881'>107398881</a> -> {'boundary': 'protected_area', 'protect_class': '14', 'protection_title': 'Wildruhezone', 'source': 'Geocaching-Handbuch.de', 'classification': []}</li><li><a href='https://www.openstreetmap.org/way/124322905'>124322905</a> -> {'boundary': 'protected_area', 'name': 'Wildschutzgeb.(15.11.bis30.4.)', 'protect_class': '14', 'protection_title': 'Wildschutzgebiet', 'classification': []}</li><li><a href='https://www.openstreetmap.org/way/132735443'>132735443</a> -> {'boundary': 'protected_area', 'protect_class': '14', 'protection_title': 'Wildruhezone', 'classification': []}</li><li><a href='https://www.openstreetmap.org/way/154246543'>154246543</a> -> {'boundary': 'protected_area', 'name': 'Parque Ecológico Municipal de Campo Cerrado Doutor Alfredo Usteri', 'operator': 'Prefeitura do Município de São Paulo', 'protect_class': '14', 'source': 'Decreto Municipal 51.563 de 18/06/2010', 'website': 'https://www.prefeitura.sp.gov.br/cidade/secretarias/meio_ambiente/parques/regiao_centrooeste/index.php?p=48428', 'classification': []}</li><li><a href='https://www.openstreetmap.org/way/158264685'>158264685</a> -> {'boundary': 'protected_area', 'landuse': 'forest', 'protect_class': '14', 'protection_title': 'Wildruhezone', 'classification': []}</li><li><a href='https://www.openstreetmap.org/way/158264755'>158264755</a> -> {'boundary': 'protected_area', 'natural': 'scrub', 'protect_class': '14', 'protection_title': 'Wildruhezone', 'classification': []}</li><li><a href='https://www.openstreetmap.org/way/203803289'>203803289</a> -> {'boundary': 'protected_area', 'protect_class': '14', 'protection_title': 'Wildruhezone', 'classification': []}</li><li><a href='https://www.openstreetmap.org/way/203871051'>203871051</a> -> {'boundary': 'protected_area', 'protect_class': '14', 'classification': []}</li><li><a href='https://www.openstreetmap.org/way/226885914'>226885914</a> -> {'boundary': 'protected_area', 'fixme': 'kann wood hier raus? sonst doppelt wg. Schönbuch-Forest, daher Bäume auf Lichtungen', 'note': 'kurzes Stück der Grenze ungesichert (südlich Trinkwasserbehälter)', 'protect_class': '14', 'protection_title': 'Wildruhezone', 'source': 'survey', 'classification': []}</li><li><a href='https://www.openstreetmap.org/way/228288456'>228288456</a> -> {'boundary': 'protected_area', 'end_date': '2014-12-31', 'protect_class': '14', 'seamark:name': 'Zone réglementée des récifs artificiels de la baie du Prado', 'seamark:precautionary_area:restriction': 'no_anchoring;no_fishing;no_diving', 'seamark:type': 'precautionary_area', 'source': 'Arrêté du Préfet de la Région PACA n°2012349-0001 du 14 décembre 2012 & Arrêté du du Préfet Maritime n°229/2012 du 21 décembre 2012', 'classification': []}</li><li><a href='https://www.openstreetmap.org/way/229726332'>229726332</a> -> {'boundary': 'protected_area', 'operator': 'Parc National des Calanques', 'protect_class': '14', 'protection_title': 'Zone de protection renforcée', 'seamark:name': 'Zone de protection renforcée Cassidaigne', 'seamark:precautionary_area:restriction': 'restricted_fishing', 'seamark:type': 'precautionary_area', 'classification': []}</li><li><a href='https://www.openstreetmap.org/way/229726333'>229726333</a> -> {'boundary': 'protected_area', 'operator': 'Parc National des Calanques', 'protect_class': '14', 'protection_title': 'Zone de non-prélèvement', 'seamark:name': 'Zone de non-prélèvement Cassidaigne Ouest', 'seamark:precautionary_area:restriction': 'no_fishing', 'seamark:type': 'precautionary_area', 'classification': []}</li><li><a href='https://www.openstreetmap.org/way/229726337'>229726337</a> -> {'boundary': 'protected_area', 'operator': 'Parc National des Calanques', 'protect_class': '14', 'protection_title': 'Zone de non-prélèvement', 'seamark:name': 'Zone de non-prélèvement Planier/Veyron', 'seamark:precautionary_area:restriction': 'no_fishing', 'seamark:type': 'precautionary_area', 'classification': []}</li><li><a href='https://www.openstreetmap.org/way/231688318'>231688318</a> -> {'boundary': 'protected_area', 'protect_class': '14', 'protection_title': 'Wildruhezone', 'source': 'knowledge', 'classification': []}</li><li><a href='https://www.openstreetmap.org/way/243685204'>243685204</a> -> {'boundary': 'protected_area', 'note': 'Ostkante nicht vollständig abgelaufen, kurzes Stück am Wildgatterzaun südlich unpräziese', 'protect_class': '14', 'protection_title': 'Wildruhezone', 'classification': []}</li><li><a href='https://www.openstreetmap.org/way/251114201'>251114201</a> -> {'boundary': 'protected_area', 'natural': 'wetland', 'protect_class': '14', 'source': 'DigitalGlobe, NextView', 'wetland': 'mangrove', 'classification': []}</li><li><a href='https://www.openstreetmap.org/way/251114205'>251114205</a> -> {'boundary': 'protected_area', 'natural': 'wetland', 'protect_class': '14', 'source': 'DigitalGlobe, NextView', 'wetland': 'mangrove', 'classification': []}</li><li><a href='https://www.openstreetmap.org/way/251114207'>251114207</a> -> {'boundary': 'protected_area', 'natural': 'wetland', 'protect_class': '14', 'source': 'DigitalGlobe, NextView', 'wetland': 'mangrove', 'classification': []}</li><li><a href='https://www.openstreetmap.org/way/251114209'>251114209</a> -> {'boundary': 'protected_area', 'natural': 'wetland', 'protect_class': '14', 'source': 'DigitalGlobe, NextView', 'wetland': 'mangrove', 'classification': []}</li><li><a href='https://www.openstreetmap.org/way/257270789'>257270789</a> -> {'boundary': 'protected_area', 'natural': 'wood', 'protect_class': '14', 'protection_title': 'Wildruhezone', 'classification': []}</li><li><a href='https://www.openstreetmap.org/way/301937424'>301937424</a> -> {'boundary': 'protected_area', 'description': 'Von 1. November bis 15. Mai ist das Verlassen der öffentlichen Wege verboten.', 'note': 'Lage nur geschätzt', 'protect_class': '14', 'protection_title': 'Wildschutzgebiet', 'classification': []}</li><li><a href='https://www.openstreetmap.org/way/326367407'>326367407</a> -> {'boundary': 'protected_area', 'fixme': 'protect_class und protection_title fehlen..', 'leisure': 'nature_reserve', 'protect_class': '14', 'classification': []}</li><li><a href='https://www.openstreetmap.org/way/335288462'>335288462</a> -> {'boundary': 'protected_area', 'name': 'Maple River State Game Area', 'operator': 'Michigan Department of Natural Resources', 'protect_class': '14', 'classification': []}</li><li><a href='https://www.openstreetmap.org/way/356751716'>356751716</a> -> {'boundary': 'protected_area', 'name': 'Fischschonbezirk Meldorfer Hafen', 'protect_class': '14', 'protection_title': 'Fischschonbezirk', 'seamark:information': '01.10.-31.12. Fischschonbezirk Meldorfer Hafen', 'seamark:name': 'Fischschonbezirk Meldorfer Hafen', 'seamark:restricted_area:restriction': 'restricted_fishing', 'seamark:type': 'restricted_area', 'source': 'KüFO', 'classification': []}</li><li><a href='https://www.openstreetmap.org/way/356757464'>356757464</a> -> {'boundary': 'protected_area', 'protect_class': '14', 'protection_title': 'Fischschonbezirk', 'seamark:information': '01.10.-31.12. Fischschonbezirk Holmersiel', 'seamark:name': 'Fischschonbezirk Holmersiel', 'seamark:restricted_area:restriction': 'restricted_fishing', 'seamark:type': 'restricted_area', 'source': 'KüFO', 'classification': []}</li><li><a href='https://www.openstreetmap.org/way/365968478'>365968478</a> -> {'FIXME': 'teilweise ungenau', 'boundary': 'protected_area', 'description': 'Wildruhezone nach §38 LWaldG', 'protect_class': '14', 'protection_title': 'Wildruhezone', 'classification': []}</li><li><a href='https://www.openstreetmap.org/way/404867928'>404867928</a> -> {'access:conditional': 'no', 'area': 'yes', 'boundary': 'protected_area', 'description': 'Bereich mit Edelstahlbojen markiert, die nach dem Winter aufgesteckte, grüne Schilder \"Ruhezone für Vögel und Fische - Befahren + Schwimmen verboten 1.3-31.7\" haben. Laut Landratsamt Traunstein gilt das Verbot von 1. März bis 31. Juli (SG 16', 'name': 'Ruhezone für Vögel und Fische', 'protect_class': '14', 'protection_title': 'Gebietsverbot', 'seamark:restricted_area:category': 'nature_reserve', 'seamark:restricted_area:restriction': 'no_entry', 'seamark:type': 'restricted_area', 'source': 'survey', 'classification': []}</li><li><a href='https://www.openstreetmap.org/way/405270171'>405270171</a> -> {'access:conditional': 'no', 'area': 'yes', 'boundary': 'protected_area', 'description': 'Bereich mit Edelstahlbojen markiert, die nach dem Winter aufgesteckte, grüne Schilder \"Ruhezone für Vögel und Fische - Befahren + Schwimmen verboten 1.3-31.7\" haben. Laut Landratsamt Traunstein gilt das Verbot von 1. März bis 31. Juli (SG 16', 'name': 'Ruhezone für Vögel und Fische', 'protect_class': '14', 'protection_title': 'Gebietsverbot', 'seamark:restricted_area:category': 'nature_reserve', 'seamark:restricted_area:restriction': 'no_entry', 'seamark:type': 'restricted_area', 'source': 'survey', 'classification': []}</li><li><a href='https://www.openstreetmap.org/way/421653995'>421653995</a> -> {'boundary': 'protected_area', 'description': 'Uferschutzzone des Landschaftsschutzgebietes Tüttensee', 'operator': 'Landkreis Traunstein', 'protect_class': '14', 'protection_title': 'Gebietsverbot', 'classification': []}</li><li><a href='https://www.openstreetmap.org/way/434363711'>434363711</a> -> {'boundary': 'protected_area', 'name': 'Luyongbaybay Marine Sanctuary', 'note': '10 hectares', 'protect_class': '14', 'protection_title': 'marine sanctuary', 'classification': []}</li><li><a href='https://www.openstreetmap.org/way/436327656'>436327656</a> -> {'area': 'yes', 'boundary': 'protected_area', 'name': 'Area 31A ( Bow Hunting Only )', 'protect_class': '14', 'classification': []}</li><li><a href='https://www.openstreetmap.org/way/436488911'>436488911</a> -> {'area': 'yes', 'boundary': 'protected_area', 'name': 'c', 'protect_class': '14', 'classification': []}</li><li><a href='https://www.openstreetmap.org/way/436490849'>436490849</a> -> {'area': 'yes', 'boundary': 'protected_area', 'name': 'Area 31B ( Bow Hunting Only )', 'protect_class': '14', 'classification': []}</li><li><a href='https://www.openstreetmap.org/way/463491903'>463491903</a> -> {'boundary': 'protected_area', 'leisure': 'nature_reserve', 'name': 'Bird Island Marine Protected Area', 'protect_class': '14', 'protection_ban': 'No fishing;No taking', 'protection_title': 'Marine Protected Area', 'classification': []}</li><li><a href='https://www.openstreetmap.org/way/466421960'>466421960</a> -> {'boundary': 'protected_area', 'name': 'Burunge Wildlife Management Area', 'protect_class': '14', 'protection_title': 'Wildlife Management Area', 'classification': []}</li><li><a href='https://www.openstreetmap.org/way/467615318'>467615318</a> -> {'boundary': 'protected_area', 'leisure': 'nature_reserve', 'name': 'Brut- und Rastgebiet Kniephaken', 'protect_class': '14', 'classification': []}</li><li><a href='https://www.openstreetmap.org/way/493503953'>493503953</a> -> {'boundary': 'protected_area', 'leisure': 'nature_reserve', 'name': 'Parque Marinho Luiz Saldanha - Zona Protecção Parcial', 'protect_class': '14', 'protection_object': 'habitat, wildlife', 'protection_title': 'sealife sanctuary', 'related_law': 'Decreto Regulamentar n.º 23/98de 14 de Outubro com asalterações introduzidas peloDecreto Regulamentar n.º11/2003de 8 de Maio (Reclassificação doParque Natural da Arrábida /Criação do Parque MarinhoProfessor Luiz Saldanha).', 'classification': []}</li><li><a href='https://www.openstreetmap.org/way/499682840'>499682840</a> -> {'access:offroad:conditional': 'no @ (Nov 01-Jun 30)', 'boundary': 'protected_area', 'name': 'Wildschutzgebiet für Auerwild „Arber“', 'protect_class': '14', 'protection_instruction': 'Striktes Wegegebot von 1. November bis 30. Juni. Das Gebiet darf nur auf markierten Wander- Radwegen und Loipen betreten oder befahren werden. Hunde dürfen ganzjährig nur angeleint mitgeführt werden.', 'protection_title': 'Wildschutzgebiet', 'website': 'https://www.naturpark-bayer-wald.de/files/upload/05_Naturschutz/Gebietsbetreuung/Arber/Verordnung_Auerwildschutzgebiet%20Arber_2015.pdf', 'classification': []}</li><li><a href='https://www.openstreetmap.org/way/538863045'>538863045</a> -> {'boundary': 'protected_area', 'name': 'Parque Marinho Luiz Saldanha - Zona Protecção Complementar', 'note': 'DO NOT Erase', 'protect_class': '14', 'protection_object': 'habitat, wildlife', 'protection_title': 'sealife sanctuary', 'classification': []}</li><li><a href='https://www.openstreetmap.org/way/539442616'>539442616</a> -> {'area': 'yes', 'boundary': 'protected_area', 'name': 'Parque Marinho Luiz Saldanha - Zona de Protecção Parcial', 'note': 'Do Not Erase', 'protect_class': '14', 'protection_object': 'habitat, wildlife', 'protection_title': 'sealife sanctuary', 'classification': []}</li><li><a href='https://www.openstreetmap.org/way/539442618'>539442618</a> -> {'area': 'yes', 'boundary': 'protected_area', 'name': 'Parque Marinho Luiz Saldanha - Zona de Protecção Parcial', 'note': 'Do Not Erase', 'protect_class': '14', 'protection_object': 'habitat, wildlife', 'protection_title': 'sealife sanctuary', 'classification': []}</li><li><a href='https://www.openstreetmap.org/way/539448845'>539448845</a> -> {'area': 'yes', 'boundary': 'protected_area', 'name': 'Parque Marinho Luiz Saldanha - Zona de Protecção Complementar', 'note': 'Do Not Erase', 'protect_class': '14', 'protection_object': 'habitat, wildlife', 'protection_title': 'sealife sanctuary', 'classification': []}</li><li><a href='https://www.openstreetmap.org/way/552902983'>552902983</a> -> {'boundary': 'protected_area', 'leisure': 'nature_reserve', 'name': 'Zona de caça turística da Quinta da Marinha', 'operator': 'Cabo Raso - Sociedade de Empreendimentos Turísticos, S. A.', 'protect_class': '14', 'classification': []}</li><li><a href='https://www.openstreetmap.org/way/570790229'>570790229</a> -> {'boundary': 'protected_area', 'protect_class': '14', 'protection_title': 'Wildruhegebiet', 'classification': []}</li><li><a href='https://www.openstreetmap.org/way/570790230'>570790230</a> -> {'boundary': 'protected_area', 'protect_class': '14', 'protection_title': 'Wildruhegebiet', 'classification': []}</li><li><a href='https://www.openstreetmap.org/way/572131081'>572131081</a> -> {'boundary': 'protected_area', 'name': 'Rhino Sanctuary', 'operator': 'African Parks Network', 'protect_class': '14', 'protection_title': 'wildlife sanctuary', 'classification': []}</li><li><a href='https://www.openstreetmap.org/way/576485170'>576485170</a> -> {'boundary': 'protected_area', 'protect_class': '14', 'protection_title': 'Wildruhegebiet', 'classification': []}</li><li><a href='https://www.openstreetmap.org/way/586429634'>586429634</a> -> {'area': 'yes', 'boundary': 'protected_area', 'name': 'Parque Marinho Luiz Saldanha - Proteccção Complementar', 'note': 'DO NOT Erase', 'protect_class': '14', 'protection_object': 'habitat, wildlife', 'protection_title': 'sealife sanctuary', 'classification': []}</li><li><a href='https://www.openstreetmap.org/way/586973092'>586973092</a> -> {'area': 'yes', 'boundary': 'protected_area', 'name': 'Parque Marinho Luiz Saldanha - Zona de Protecção Total', 'note': 'Do Not Ersae', 'protect_class': '14', 'protection_object': 'habitat, wildlife', 'protection_title': 'sealife sanctuary', 'classification': []}</li><li><a href='https://www.openstreetmap.org/way/600171481'>600171481</a> -> {'boundary': 'protected_area', 'denotation': 'natural_monument', 'description': 'Trockenrasen mit ua. Iris pumila, Amelanchier ovalis, Stpa pennata, Muscari racemosum, Allium flavum, Sempervivum, Polygonatum officinalis, Convulvulus cantabrica, Doricnium herbaceum,, Quercus cerris, Prunus mahaleb, Pulsatilla sp.', 'fixme': 'genaue Lage der Grenzen', 'image': 'https://de.wikipedia.org/wiki/Liste_der_Naturdenkmäler_im_Bezirk_Baden#/media/Datei:ND_Iriswiese_Pfaffstätten_01.jpg', 'name': 'Iriswiese', 'protect_class': '14', 'protection_title': 'Naturdenkmal', 'source': 'survey', 'start_date': '1979-12-06', 'website': 'http://www.noe.gv.at/natural_monuments/f336b13c-7e02-4997-88f8-0e1c03790373.pdf', 'wikipedia': 'de:Liste der Naturdenkmäler im Bezirk Baden', 'classification': []}</li><li><a href='https://www.openstreetmap.org/way/651867747'>651867747</a> -> {'boundary': 'protected_area', 'name': 'Onkaparinga River Sanctuary Zone', 'protect_class': '14', 'protection_title': 'Sanctuary Zone', 'source': 'survey/sign', 'classification': []}</li><li><a href='https://www.openstreetmap.org/way/651867750'>651867750</a> -> {'boundary': 'protected_area', 'leisure': 'nature_reserve', 'name': 'Port Noarlunga Reef Sanctuary Zone', 'protect_class': '14', 'protection_title': 'Sanctuary Zone', 'source': 'survey/sign', 'classification': []}</li><li><a href='https://www.openstreetmap.org/way/652141882'>652141882</a> -> {'boundary': 'protected_area', 'leisure': 'nature_reserve', 'name': 'Coobowie Aquatic Reserve', 'note': 'coastline boundaries are Mean High Water Mark from DEWNR, they can be glued to the OSM mean high water mark coastline', 'operator': 'PIRSA Fisheries & Aquaculture', 'operator_type': 'government', 'protect_class': '14', 'protection_title': 'Aquatic Reserve', 'wikidata': 'Q28428314', 'wikipedia': 'en:Coobowie Aquatic Reserve', 'classification': []}</li><li><a href='https://www.openstreetmap.org/way/652141885'>652141885</a> -> {'boundary': 'protected_area', 'leisure': 'nature_reserve', 'name': 'Troubridge Hill Aquatic Reserve', 'note': 'coastline boundaries are Mean High Water Mark from DEWNR, they can be glued to the OSM mean high water mark coastline', 'operator': 'PIRSA Fisheries & Aquaculture', 'operator_type': 'government', 'protect_class': '14', 'protection_title': 'Aquatic Reserve', 'wikidata': 'Q28224287', 'wikipedia': 'en:Troubridge Hill Aquatic Reserve', 'classification': []}</li><li><a href='https://www.openstreetmap.org/way/652141886'>652141886</a> -> {'boundary': 'protected_area', 'leisure': 'nature_reserve', 'name': 'St Kilda-Chapman Creek Aquatic Reserve', 'note': 'coastline boundaries are Mean High Water Mark from DEWNR, they can be glued to the OSM mean high water mark coastline', 'operator': 'PIRSA Fisheries & Aquaculture', 'operator_type': 'government', 'protect_class': '14', 'protection_title': 'Aquatic Reserve', 'wikidata': 'Q28224333', 'wikipedia': 'en:St Kilda – Chapman Creek Aquatic Reserve', 'classification': []}</li><li><a href='https://www.openstreetmap.org/way/668170699'>668170699</a> -> {'boundary': 'protected_area', 'email': 'wfsc@frontiernet.net', 'landuse': 'recreation_ground', 'name': 'Woodbury Field & Stream Club', 'natural': 'wood', 'phone': '845-928-3477', 'protect_class': '14', 'website': 'http://www.wfsclub.com', 'classification': []}</li><li><a href='https://www.openstreetmap.org/way/694694910'>694694910</a> -> {'area': 'yes', 'boundary': 'protected_area', 'name': 'Wildruhezone Fischerholz', 'protect_class': '14', 'source': 'Beschilderung vor Ort', 'title': 'Wildruhezone Fischerholz', 'classification': []}</li><li><a href='https://www.openstreetmap.org/way/721707445'>721707445</a> -> {'boundary': 'protected_area', 'name': 'Угодья Кыштымского охотхозяйства', 'protect_class': '14', 'protection_title': 'охотугодья', 'classification': []}</li><li><a href='https://www.openstreetmap.org/way/765721926'>765721926</a> -> {'alt_name': 'Karopani Natural Deer Park', 'boundary': 'protected_area', 'name': 'Karopani Blackbuck Conservation Area', 'natural': 'grassland', 'protect_class': '14', 'classification': []}</li><li><a href='https://www.openstreetmap.org/way/770278010'>770278010</a> -> {'boundary': 'protected_area', 'leisure': 'nature_reserve', 'name': 'Howard Springs Hunting Reserve', 'protect_class': '14', 'classification': []}</li><li><a href='https://www.openstreetmap.org/way/772513431'>772513431</a> -> {'access:offroad:conditional': 'no @ (Mar 1 - Jun 30)', 'boundary': 'protected_area', 'description': 'Teilfläche des Wiesenbrütergebiets \"Lachsgang\", in dem vom 1.3. bis 30.6. die Fläche außerhalb der Wege nicht betreten werden darf. In dieser Zeit dürfen nur bestimmte Wege betreten werden.', 'protect_class': '14', 'protection_title': 'Wegegebot', 'source': 'Beschilderung vor Ort; Landratsamtverordnung', 'classification': []}</li><li><a href='https://www.openstreetmap.org/way/772513433'>772513433</a> -> {'boundary': 'protected_area', 'name': 'Lachsgang', 'protect_class': '14', 'protection_title': 'Wiesenbrütergebiet', 'source': 'Landratsamtverordnung', 'url': 'https://www.traunstein.com/sites/default/files/wiesenbruetergebiet_lachsgang.pdf', 'classification': []}</li><li><a href='https://www.openstreetmap.org/way/786302189'>786302189</a> -> {'access:offroad:conditional': 'no @ (Mar 1 - Jun 30)', 'boundary': 'protected_area', 'description': 'Teilfläche des Wiesenbrütergebiets \"Grabenstätter Moos\", in dem vom 1.3. bis 30.6. die Fläche außerhalb der Wege nicht betreten werden darf. In dieser Zeit dürfen nur bestimmte Wege betreten werden.', 'protect_class': '14', 'protection_title': 'Wegegebot', 'source': 'Landratsamtverordnung', 'classification': []}</li><li><a href='https://www.openstreetmap.org/way/786302190'>786302190</a> -> {'boundary': 'protected_area', 'name': 'Grabenstätter Moos', 'protect_class': '14', 'protection_title': 'Wiesenbrütergebiet', 'source': 'Landratsamtverordnung', 'url': 'https://www.traunstein.com/sites/default/files/wiesenbruetergebiet_grabenstaetter_moos.pdf', 'classification': []}</li><li><a href='https://www.openstreetmap.org/way/813054513'>813054513</a> -> {'boundary': 'protected_area', 'protect_class': '14', 'protection_title': 'Fågelskyddområde', 'classification': []}</li><li><a href='https://www.openstreetmap.org/way/817610691'>817610691</a> -> {'boundary': 'protected_area', 'landuse': 'forest', 'name': 'Pole Bridge Hunting Club Inc', 'protect_class': '14', 'protection_title': 'hunting_preserve', 'classification': []}</li><li><a href='https://www.openstreetmap.org/way/820359283'>820359283</a> -> {'alt_name': 'Zone natürlicher Entwicklung', 'boundary': 'protected_area', 'leisure': 'nature_reserve', 'name': 'Biosphärenreservat Pfälzerwald - Kernzone - Enkenbachtal', 'note': 'Grenzen des Gebietes anhand von Schildern grob umrissen', 'protect_class': '14', 'ref': 'NTP-073-094', 'source': 'Landesverordnung über den “Naturpark Pfälzerwald” als deutscher Teil des Biosphärenreservats Pfälzerwald-Nordvogesen Vom 22. Januar 2007; Grenzen der Zonen für die natürliche Entwicklung (Kernzonen); Schilder vor Ort', 'classification': []}</li><li><a href='https://www.openstreetmap.org/way/827095060'>827095060</a> -> {'boundary': 'protected_area', 'name': 'Canton WMA Waterfowl Refuge Portion', 'protect_class': '14', 'protection_title': 'Waterfowl Refuge', 'site_ownership': 'state', 'website': 'https://www.wildlifedepartment.com/hunting/wma/northwest/canton', 'classification': []}</li><li><a href='https://www.openstreetmap.org/way/871923914'>871923914</a> -> {'boundary': 'protected_area', 'name': 'Black Meadow Club Inc', 'protect_class': '14', 'protection_title': 'hunting', 'classification': []}</li><li><a href='https://www.openstreetmap.org/way/874727345'>874727345</a> -> {'boundary': 'protected_area', 'club': 'hunting', 'landuse': 'recreation_ground', 'name': 'RockTavern Rod & Gun Club', 'note': '26-1-16', 'protect_class': '14', 'source': 'ocgis.orangecountygov.com OC_PARCELS_2.zip retrieved 10/21/20', 'sport': 'shooting', 'classification': []}</li><li><a href='https://www.openstreetmap.org/way/878450136'>878450136</a> -> {'boundary': 'protected_area', 'name': \"Monroe-Chester Sportsmen's Club\", 'note': '15-1-52', 'protect_class': '14', 'protection_title': 'hunting', 'source': 'ocgis.orangecountygov.com OC_PARCELS_2.zip retrieved 10/21/20', 'classification': []}</li><li><a href='https://www.openstreetmap.org/way/878755624'>878755624</a> -> {'boundary': 'protected_area', 'name': \"Walker Valley Sportsman's Association\", 'natural': 'wood', 'note': '98.4-2-20.110', 'protect_class': '14', 'protection_title': 'hunting', 'classification': []}</li><li><a href='https://www.openstreetmap.org/way/879581935'>879581935</a> -> {'alt_name': 'Kernzone Neue Letzbach', 'boundary': 'protected_area', 'fixme': 'protect_class unsicher', 'leisure': 'nature_reserve', 'name': 'Naturpark Pfälzerwald - Kernzone - Humberg', 'name:source': 'Datum der Rechtsverordnung 20.01.2007', 'note': 'Grenzen des Gebietes anhand von Schildern grob umrissen', 'protect_class': '14', 'ref': 'NTP-073-083', 'classification': []}</li><li><a href='https://www.openstreetmap.org/way/900438639'>900438639</a> -> {'boundary': 'protected_area', 'description': 'Bitte in den Wintermonaten nicht betreten oder befahren!', 'name': 'Wald-Wild-Schongebiet', 'protect_class': '14', 'protection_title': 'Schongebiet', 'seasonal': 'winter', 'source': 'LRA Miesbach/ATS', 'classification': []}</li></u>",
      "text/plain": "<IPython.core.display.HTML object>"
     },
     "metadata": {
      "transient": {}
     },
     "output_type": "display_data"
    }
   ],
   "source": [
    "if not silent:\r\n",
    "    def href(id):\r\n",
    "        return f\"<a href='https://www.openstreetmap.org/way/{id}'>{id}</a>\"\r\n",
    "\r\n",
    "    subSum = 0\r\n",
    "    for i in range(0, 7):\r\n",
    "        subSum += len(allTypes[i])\r\n",
    "\r\n",
    "    # if subSum != len(result.ways):\r\n",
    "    #     print(f\"Total no of ways={len(result.ways)}, sum of types={subSum}\")\r\n",
    "\r\n",
    "    multiClassifiedWays = []\r\n",
    "    unclassifiedWays = []\r\n",
    "    for way in result.ways:\r\n",
    "        types = []\r\n",
    "        for i in range(0, 7):\r\n",
    "            if way in allTypes[i]:\r\n",
    "                types.append(f\"type{i+1}\")\r\n",
    "        way.tags['classification'] = types\r\n",
    "        if len(types) == 0:\r\n",
    "            unclassifiedWays.append(way)\r\n",
    "        if len(types) > 1:\r\n",
    "            multiClassifiedWays.append(way)\r\n",
    "\r\n",
    "    html = f\"<h3>Multiple Classifications [{len(multiClassifiedWays)}]</h3><ul>\"\r\n",
    "    for way in multiClassifiedWays:\r\n",
    "        wayId = href(way.id)\r\n",
    "        html += f\"<li>{wayId} -> {way.tags['classification']}</li>\"\r\n",
    "    display(HTML(f\"{html}</u>\"))\r\n",
    "\r\n",
    "    html = f\"<h3>Unclassified [{len(unclassifiedWays)}]</h3><ul>\"\r\n",
    "    for way in unclassifiedWays:\r\n",
    "        wayId = href(way.id)\r\n",
    "        html += f\"<li>{wayId} -> {way.tags}</li>\"\r\n",
    "    display(HTML(f\"{html}</u>\"))"
   ]
  },
  {
   "cell_type": "code",
   "execution_count": 12,
   "metadata": {},
   "outputs": [],
   "source": [
    "# https://github.com/jazzband/geojson\r\n",
    "import geojson\r\n",
    "\r\n",
    "from geojson import FeatureCollection, Feature, Polygon\r\n",
    "features = []\r\n",
    "\r\n",
    "styles = {\"stroke\": \"#555555\", \"stroke-width\": 2, \"stroke-opacity\": 1, \"fill\": \"#ffff80\", \"fill-opacity\": 0.4}\r\n",
    "\r\n",
    "for i in range(0, 7):\r\n",
    "    for way in allTypes[i]:\r\n",
    "        lonLats = []\r\n",
    "        for node in way.nodes:\r\n",
    "            lonLats.append((float(node.lon),float(node.lat)))\r\n",
    "        way.tags['s_type'] = f\"type{i+1}\"\r\n",
    "        way.tags.update(styles)\r\n",
    "        features.append(Feature(geometry=Polygon([lonLats]),properties=way.tags))\r\n",
    "\r\n",
    "feature_collection = FeatureCollection(features)\r\n",
    "\r\n",
    "with open(f\"data/Schongebiete.geojson\", \"w\") as gFile:\r\n",
    "    geojson.dump(feature_collection, gFile)\r\n"
   ]
  }
 ],
 "metadata": {
  "kernelspec": {
   "display_name": "Python 3",
   "language": "python",
   "name": "python3"
  },
  "language_info": {
   "codemirror_mode": {
    "name": "ipython",
    "version": 3
   },
   "file_extension": ".py",
   "mimetype": "text/x-python",
   "name": "python",
   "nbconvert_exporter": "python",
   "pygments_lexer": "ipython3",
   "version": "3.8.2"
  },
  "orig_nbformat": 2
 },
 "nbformat": 4,
 "nbformat_minor": 2
}