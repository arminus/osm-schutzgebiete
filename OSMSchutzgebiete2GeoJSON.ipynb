{
 "cells": [
  {
   "cell_type": "markdown",
   "metadata": {},
   "source": [
    "# [DE:Betretungsverbote für Gebiete im Winter](https://wiki.openstreetmap.org/wiki/DE:Betretungsverbote_für_Gebiete_im_Winter)\r\n",
    "\r\n",
    "* Extracts all ways via Overpass and filter/analyze further based on the definition above\r\n",
    "* perform some basic analyis (multiple types, untyped)\r\n",
    "* create a GeoJSON with feature properties **classification** tag set to type<1-8> for direct rendering\r\n",
    "  * style properties are set for https://geojson.io - only color due to limits of geojson.io styling capabilities\r\n",
    "  * ![](images/legend.png)\r\n",
    "\r\n",
    "Limitations:\r\n",
    "* Relation of relations are presently not supported"
   ]
  },
  {
   "cell_type": "markdown",
   "metadata": {},
   "source": [
    "## Overpass Basis-Query"
   ]
  },
  {
   "cell_type": "code",
   "execution_count": null,
   "metadata": {},
   "outputs": [],
   "source": [
    "import sys, re, os\r\n",
    "# https://github.com/jazzband/geojson\r\n",
    "import geojson\r\n",
    "# https://python-overpy.readthedocs.io/en/latest/index.html\r\n",
    "import overpy\r\n",
    "from IPython.core.display import display, HTML\r\n",
    "\r\n",
    "silent = False\r\n",
    "if sys.argv[1] == \"silent\":\r\n",
    "    silent = True\r\n",
    "\r\n",
    "api = overpy.Overpass()\r\n",
    "\r\n",
    "# http://norbertrenner.de/osm/bbox.html\r\n",
    "bbox = \"47.378,11.078,47.768,13.111\"\r\n",
    "# [bbox:{bbox}];\r\n",
    "query = f\"\"\"\r\n",
    "(\r\n",
    "way[\"boundary\"=\"protected_area\"][\"protect_class\"=\"14\"];\r\n",
    "relation[\"boundary\"=\"protected_area\"][\"protect_class\"=\"14\"];\r\n",
    ");\r\n",
    "(._;>;);\r\n",
    "out body;\r\n",
    "\"\"\"\r\n",
    "\r\n",
    "result = api.query(query)\r\n",
    "\r\n",
    "allResults = []         # this will be a list of relations and ways which are not part of a relation - i.e. the list we want to check\r\n",
    "allRelationWayIds = []  # list of wayIds which are part of a relation (which can be skipped form result.ways here)\r\n",
    "\r\n",
    "for rel in result.relations:\r\n",
    "    allResults.append(rel)\r\n",
    "    for member in rel.members:\r\n",
    "        if (type(member) == overpy.RelationWay):\r\n",
    "            way = result.get_way(member.ref, resolve_missing=True)\r\n",
    "            allRelationWayIds.append(way.id)\r\n",
    "\r\n",
    "for way in result.ways:\r\n",
    "    if not way.id in allRelationWayIds:\r\n",
    "        allResults.append(way)\r\n",
    "\r\n",
    "if not silent:\r\n",
    "    print (f\"retrieved {len(allResults)} ways and relations\")"
   ]
  },
  {
   "cell_type": "code",
   "execution_count": null,
   "metadata": {},
   "outputs": [],
   "source": [
    "# transform all tags into the names used in the \"SQL-like\" queries in the Wiki\r\n",
    "def get_tags(tags):\r\n",
    "    seasonal = tags.get(\"seasonal\")\r\n",
    "    ski = tags.get(\"ski\")\r\n",
    "    ski_conditional = tags.get(\"ski:conditional\") or \"\"\r\n",
    "    access = tags.get(\"access\")\r\n",
    "    access_conditional = tags.get(\"access:conditional\") or \"\"\r\n",
    "    access_offroad = tags.get(\"access:offroad\") or \"\"\r\n",
    "    access_offroad_conditional = tags.get(\"access:offroad:conditional\") or \"\"\r\n",
    "    \r\n",
    "    return seasonal, ski, ski_conditional, access, access_conditional, access_offroad, access_offroad_conditional"
   ]
  },
  {
   "cell_type": "markdown",
   "metadata": {},
   "source": [
    "## 1 - [Ganzjähriges Befahrungsverbot für Skifahrer](https://wiki.openstreetmap.org/wiki/DE:Betretungsverbote_f%C3%BCr_Gebiete_im_Winter#Ganzj.C3.A4hriges_Befahrungsverbot_f.C3.BCr_Skifahrer)\r\n"
   ]
  },
  {
   "cell_type": "code",
   "execution_count": null,
   "metadata": {},
   "outputs": [],
   "source": [
    "# Note: in a non-notebook script, all queries should be done in a single loop\r\n",
    "allTypes= [] # this will be a list[0-7][], i.e. 8 lists, grouped by types\r\n",
    "wayRels = []\r\n",
    "for wayRel in allResults:\r\n",
    "    seasonal, ski, ski_conditional, access, access_conditional, access_offroad, access_offroad_conditional = get_tags(wayRel.tags)\r\n",
    "    \r\n",
    "    if (\r\n",
    "        seasonal is None\r\n",
    "        or seasonal == 'no'\r\n",
    "    ) and (\r\n",
    "        ski in ['no', 'private'] or (\r\n",
    "            access in ['no','private'] and (\r\n",
    "                ski is None\r\n",
    "                or not ski in ['yes','designated','permissive']\r\n",
    "            )\r\n",
    "        )\r\n",
    "    ):\r\n",
    "        wayRels.append(wayRel)\r\n",
    "if not silent:        \r\n",
    "    print(f\"type1 = {len(wayRels)}\")\r\n",
    "allTypes.append(wayRels)"
   ]
  },
  {
   "cell_type": "markdown",
   "metadata": {},
   "source": [
    "## 2 - [Monatsabhängiges oder saisonales Befahrungsverbot für Skifahrer](https://wiki.openstreetmap.org/wiki/DE:Betretungsverbote_f%C3%BCr_Gebiete_im_Winter#Monatsabh.C3.A4ngiges_oder_saisonales_Befahrungsverbot_f.C3.BCr_Skifahrer)"
   ]
  },
  {
   "cell_type": "code",
   "execution_count": null,
   "metadata": {},
   "outputs": [],
   "source": [
    "wayRels = []\r\n",
    "for wayRel in allResults:\r\n",
    "    seasonal, ski, ski_conditional, access, access_conditional, access_offroad, access_offroad_conditional = get_tags(wayRel.tags)\r\n",
    "\r\n",
    "    if (\r\n",
    "        (\r\n",
    "            (\r\n",
    "                not (seasonal is None or seasonal == 'no')\r\n",
    "            ) and (\r\n",
    "                ski in ['no', 'private']\r\n",
    "                or re.match('(no|private) *@ *\\(?(Jan|Feb|Mar|Apr|May|Jun|Jul|Aug|Sep|Oct|Nov|Dec) *[0-9]* *[-,\\,]? *(Jan|Feb|Mar|Apr|May|Jun|Jul|Aug|Sep|Oct|Nov|Dec)* *[0-9]*\\)?', ski_conditional)\r\n",
    "                or (\r\n",
    "                    (\r\n",
    "                        access in ['no','private']\r\n",
    "                        or re.match('(no|private) *@ *\\(?(Jan|Feb|Mar|Apr|May|Jun|Jul|Aug|Sep|Oct|Nov|Dec) *[0-9]* *[-,\\,]? *(Jan|Feb|Mar|Apr|May|Jun|Jul|Aug|Sep|Oct|Nov|Dec)* *[0-9]*\\)?', access_conditional)\r\n",
    "                    ) and (\r\n",
    "                        ski is None\r\n",
    "                        or not ski in ['yes','designated','permissive']\r\n",
    "                    )\r\n",
    "                )\r\n",
    "            )\r\n",
    "            ) or (\r\n",
    "                re.match('(no|private) *@ *\\(?(Jan|Feb|Mar|Apr|May|Jun|Jul|Aug|Sep|Oct|Nov|Dec) *[0-9]* *[-,\\,]? *(Jan|Feb|Mar|Apr|May|Jun|Jul|Aug|Sep|Oct|Nov|Dec)* *[0-9]*\\)?', ski_conditional)\r\n",
    "                or (\r\n",
    "                    (\r\n",
    "                        re.match('(no|private) *@ *\\(?(Jan|Feb|Mar|Apr|May|Jun|Jul|Aug|Sep|Oct|Nov|Dec) *[0-9]* *[-,\\,]? *(Jan|Feb|Mar|Apr|May|Jun|Jul|Aug|Sep|Oct|Nov|Dec)* *[0-9]*\\)?', access_conditional)\r\n",
    "                    ) and (\r\n",
    "                        ski is None\r\n",
    "                    )\r\n",
    "                )\r\n",
    "            )\r\n",
    "        ):\r\n",
    "        wayRels.append(wayRel)\r\n",
    "if not silent:        \r\n",
    "    print(f\"type2 = {len(wayRels)}\")        \r\n",
    "allTypes.append(wayRels)"
   ]
  },
  {
   "cell_type": "markdown",
   "metadata": {},
   "source": [
    "## 3 - [Ganzjährige \"Bitte um Nichtbefahrung\" für Skifahrer](https://wiki.openstreetmap.org/wiki/DE:Betretungsverbote_f%C3%BCr_Gebiete_im_Winter#Ganzj.C3.A4hrige_.22Bitte_um_Nichtbefahrung.22_f.C3.BCr_Skifahrer)"
   ]
  },
  {
   "cell_type": "code",
   "execution_count": null,
   "metadata": {},
   "outputs": [],
   "source": [
    "wayRels = []\r\n",
    "for wayRel in allResults:\r\n",
    "    seasonal, ski, ski_conditional, access, access_conditional, access_offroad, access_offroad_conditional = get_tags(wayRel.tags)\r\n",
    "    \r\n",
    "    if ( \r\n",
    "        seasonal is None\r\n",
    "        or seasonal == 'no'\r\n",
    "    ) and (\r\n",
    "        ski == 'discouraged'\r\n",
    "        or (\r\n",
    "            access == 'discouraged' and (\r\n",
    "                ski is None\r\n",
    "                or not ski in ['yes','designated','permissive']\r\n",
    "            )\r\n",
    "        )\r\n",
    "    ):\r\n",
    "        wayRels.append(wayRel)\r\n",
    "if not silent:\r\n",
    "    print(f\"type3 = {len(wayRels)}\")\r\n",
    "allTypes.append(wayRels)"
   ]
  },
  {
   "cell_type": "markdown",
   "metadata": {},
   "source": [
    "## 4 - [Monatsabhängige oder saisonale \"Bitte um Nichtbefahrung\" für Skifahrer](https://wiki.openstreetmap.org/wiki/DE:Betretungsverbote_f%C3%BCr_Gebiete_im_Winter#Monatsabh.C3.A4ngige_oder_saisonale_.22Bitte_um_Nichtbefahrung.22_f.C3.BCr_Skifahrer)"
   ]
  },
  {
   "cell_type": "code",
   "execution_count": null,
   "metadata": {},
   "outputs": [],
   "source": [
    "wayRels = []\r\n",
    "for wayRel in allResults:\r\n",
    "    seasonal, ski, ski_conditional, access, access_conditional, access_offroad, access_offroad_conditional = get_tags(wayRel.tags)\r\n",
    "\r\n",
    "    if (\r\n",
    "        (\r\n",
    "            (\r\n",
    "                not (seasonal is None or seasonal == 'no') \r\n",
    "            ) and (\r\n",
    "                ski == 'discouraged'\r\n",
    "                or re.match('(discouraged) *@ *\\(?(Jan|Feb|Mar|Apr|May|Jun|Jul|Aug|Sep|Oct|Nov|Dec) *[0-9]* *[-,\\,]? *(Jan|Feb|Mar|Apr|May|Jun|Jul|Aug|Sep|Oct|Nov|Dec)* *[0-9]*\\)?', ski_conditional)\r\n",
    "                or (\r\n",
    "                    (\r\n",
    "                        access == 'discouraged' \r\n",
    "                        or re.match('(discouraged) *@ *\\(?(Jan|Feb|Mar|Apr|May|Jun|Jul|Aug|Sep|Oct|Nov|Dec) *[0-9]* *[-,\\,]? *(Jan|Feb|Mar|Apr|May|Jun|Jul|Aug|Sep|Oct|Nov|Dec)* *[0-9]*\\)?', access_conditional)\r\n",
    "                    ) and (\r\n",
    "                        ski is None\r\n",
    "                        or not ski in ['yes','designated','permissive']\r\n",
    "                    )\r\n",
    "                )\r\n",
    "            )\r\n",
    "        ) or (\r\n",
    "            re.match('(discouraged) *@ *\\(?(Jan|Feb|Mar|Apr|May|Jun|Jul|Aug|Sep|Oct|Nov|Dec) *[0-9]* *[-,\\,]? *(Jan|Feb|Mar|Apr|May|Jun|Jul|Aug|Sep|Oct|Nov|Dec)* *[0-9]*\\)?', ski_conditional)\r\n",
    "            or (\r\n",
    "                (\r\n",
    "                    re.match('(discouraged) *@ *\\(?(Jan|Feb|Mar|Apr|May|Jun|Jul|Aug|Sep|Oct|Nov|Dec) *[0-9]* *[-,\\,]? *(Jan|Feb|Mar|Apr|May|Jun|Jul|Aug|Sep|Oct|Nov|Dec)* *[0-9]*\\)?', access_conditional)\r\n",
    "                ) and (\r\n",
    "                    ski is None\r\n",
    "                )\r\n",
    "            )        \r\n",
    "        )\r\n",
    "    ):\r\n",
    "        wayRels.append(wayRel)\r\n",
    "if not silent:\r\n",
    "    print(f\"type4 = {len(wayRels)}\")\r\n",
    "allTypes.append(wayRels)"
   ]
  },
  {
   "cell_type": "markdown",
   "metadata": {},
   "source": [
    "## 5 - [Ganzjähriges Skibefahrungsverbot auf der Fläche außerhalb der Wege (Wegegebot)](https://wiki.openstreetmap.org/wiki/DE:Betretungsverbote_f%C3%BCr_Gebiete_im_Winter#Ganzj.C3.A4hriges_Skibefahrungsverbot_auf_der_Fl.C3.A4che_au.C3.9Ferhalb_der_Wege_.28Wegegebot.29)"
   ]
  },
  {
   "cell_type": "code",
   "execution_count": null,
   "metadata": {},
   "outputs": [],
   "source": [
    "wayRels = []\r\n",
    "for wayRel in allResults:\r\n",
    "    seasonal, ski, ski_conditional, access, access_conditional, access_offroad, access_offroad_conditional = get_tags(wayRel.tags)\r\n",
    "\r\n",
    "    if ( \r\n",
    "        seasonal is None \r\n",
    "        or seasonal == 'no' \r\n",
    "    ) and (\r\n",
    "        access_offroad in ['no','private'] and (\r\n",
    "            ski is None\r\n",
    "            or not ski in ['yes','designated','permissive']\r\n",
    "        )\r\n",
    "    ):\r\n",
    "        wayRels.append(wayRel)\r\n",
    "if not silent:\r\n",
    "    print(f\"type5 = {len(wayRels)}\")\r\n",
    "allTypes.append(wayRels)"
   ]
  },
  {
   "cell_type": "markdown",
   "metadata": {},
   "source": [
    "## 6 - [Monatsabhängiges oder saisonales Skibefahrungsverbot auf der Fläche außerhalb der Wege (saisonales Wegegebot)](https://wiki.openstreetmap.org/wiki/DE:Betretungsverbote_f%C3%BCr_Gebiete_im_Winter#Monatsabh.C3.A4ngiges_oder_saisonales_Skibefahrungsverbot_auf_der_Fl.C3.A4che_au.C3.9Ferhalb_der_Wege_.28saisonales_Wegegebot.29)"
   ]
  },
  {
   "cell_type": "code",
   "execution_count": null,
   "metadata": {},
   "outputs": [],
   "source": [
    "wayRels = []\r\n",
    "for wayRel in allResults:\r\n",
    "    seasonal, ski, ski_conditional, access, access_conditional, access_offroad, access_offroad_conditional = get_tags(wayRel.tags)\r\n",
    "    if (\r\n",
    "        (\r\n",
    "            (\r\n",
    "                not (seasonal is None or seasonal == 'no')\r\n",
    "            ) and (\r\n",
    "                access_offroad in ['no','private']\r\n",
    "                or re.match('(no|private) *@ *\\(?(Jan|Feb|Mar|Apr|May|Jun|Jul|Aug|Sep|Oct|Nov|Dec) *[0-9]* *[-,\\,]? *(Jan|Feb|Mar|Apr|May|Jun|Jul|Aug|Sep|Oct|Nov|Dec)* *[0-9]*\\)?', access_offroad_conditional)\r\n",
    "            ) and (\r\n",
    "                ski is None\r\n",
    "                or not ski in ('yes','designated','permissive')\r\n",
    "            )\r\n",
    "        )\r\n",
    "    ) or (\r\n",
    "        re.match('(no|private) *@ *\\(?(Jan|Feb|Mar|Apr|May|Jun|Jul|Aug|Sep|Oct|Nov|Dec) *[0-9]* *[-,\\,]? *(Jan|Feb|Mar|Apr|May|Jun|Jul|Aug|Sep|Oct|Nov|Dec)* *[0-9]*\\)?', access_offroad_conditional)\r\n",
    "        and (\r\n",
    "            ski is None\r\n",
    "        )\r\n",
    "    ):\r\n",
    "        wayRels.append(wayRel)\r\n",
    "if not silent:\r\n",
    "    print(f\"type6 = {len(wayRels)}\")\r\n",
    "allTypes.append(wayRels)"
   ]
  },
  {
   "cell_type": "markdown",
   "metadata": {},
   "source": [
    "## 7 - [Ganzjährige \"Bitte um Nichtbefahrung\" der Fläche außerhalb der Wege](https://wiki.openstreetmap.org/wiki/DE:Betretungsverbote_f%C3%BCr_Gebiete_im_Winter#Ganzj.C3.A4hrige_.22Bitte_um_Nichtbefahrung.22_der_Fl.C3.A4che_au.C3.9Ferhalb_der_Wege)"
   ]
  },
  {
   "cell_type": "code",
   "execution_count": null,
   "metadata": {},
   "outputs": [],
   "source": [
    "wayRels = []\r\n",
    "for wayRel in allResults:\r\n",
    "    seasonal, ski, ski_conditional, access, access_conditional, access_offroad, access_offroad_conditional = get_tags(wayRel.tags)\r\n",
    "\r\n",
    "    if ( \r\n",
    "        seasonal is None \r\n",
    "        or seasonal == 'no'\r\n",
    "    ) and (\r\n",
    "        access_offroad == 'discouraged' and (\r\n",
    "            ski is None\r\n",
    "            or not ski in ['yes','designated','permissive']\r\n",
    "        )\r\n",
    "    ):\r\n",
    "        wayRels.append(wayRel)\r\n",
    "if not silent:\r\n",
    "    print(f\"type7 = {len(wayRels)}\")\r\n",
    "allTypes.append(wayRels)"
   ]
  },
  {
   "cell_type": "markdown",
   "metadata": {},
   "source": [
    "## 8 - [Monatsabhängige oder saisonale \"Bitte um Nichtbefahrung\" auf der Fläche außerhalb der Wege](https://wiki.openstreetmap.org/wiki/DE:Betretungsverbote_f%C3%BCr_Gebiete_im_Winter#Monatsabh.C3.A4ngige_oder_saisonale_.22Bitte_um_Nichtbefahrung.22_auf_der_Fl.C3.A4che_au.C3.9Ferhalb_der_Wege)"
   ]
  },
  {
   "cell_type": "code",
   "execution_count": null,
   "metadata": {},
   "outputs": [],
   "source": [
    "wayRels = []\r\n",
    "for wayRel in allResults:\r\n",
    "    seasonal, ski, ski_conditional, access, access_conditional, access_offroad, access_offroad_conditional = get_tags(wayRel.tags)\r\n",
    "\r\n",
    "    if (\r\n",
    "        (\r\n",
    "            (\r\n",
    "                not (seasonal is None or seasonal == 'no')\r\n",
    "            ) and (\r\n",
    "                access_offroad == 'discouraged' \r\n",
    "                or re.match('(discouraged) *@ *\\(?(Jan|Feb|Mar|Apr|May|Jun|Jul|Aug|Sep|Oct|Nov|Dec) *[0-9]* *[-,\\,]? *(Jan|Feb|Mar|Apr|May|Jun|Jul|Aug|Sep|Oct|Nov|Dec)* *[0-9]*\\)?', access_offroad_conditional)\r\n",
    "            ) and (\r\n",
    "                ski is None\r\n",
    "                or not ski in ['yes','designated','permissive']\r\n",
    "            )\r\n",
    "        )\r\n",
    "    ) or (\r\n",
    "        re.match('(discouraged) *@ *\\(?(Jan|Feb|Mar|Apr|May|Jun|Jul|Aug|Sep|Oct|Nov|Dec) *[0-9]* *[-,\\,]? *(Jan|Feb|Mar|Apr|May|Jun|Jul|Aug|Sep|Oct|Nov|Dec)* *[0-9]*\\)?', access_offroad_conditional)\r\n",
    "        and (\r\n",
    "            ski is None\r\n",
    "        )\r\n",
    "    ):\r\n",
    "        wayRels.append(wayRel)\r\n",
    "if not silent:\r\n",
    "    print(f\"type8 = {len(wayRels)}\")\r\n",
    "allTypes.append(wayRels)"
   ]
  },
  {
   "cell_type": "markdown",
   "metadata": {},
   "source": [
    "## Tags af Basis der einzelnen Listen setzen"
   ]
  },
  {
   "cell_type": "code",
   "execution_count": null,
   "metadata": {},
   "outputs": [],
   "source": [
    "multiClassifieds = []\r\n",
    "unclassifieds = []\r\n",
    "typeCount = [0,0,0,0,0,0,0,0]\r\n",
    "\r\n",
    "for wayRel in allResults:\r\n",
    "    types = []\r\n",
    "    for i in range(0, 7):\r\n",
    "        if wayRel in allTypes[i]:\r\n",
    "            types.append(f\"type{i+1}\")\r\n",
    "            typeCount[i] += 1\r\n",
    "    if len(types) == 1:\r\n",
    "        wayRel.tags['classification'] = types[0]\r\n",
    "    else:\r\n",
    "        wayRel.tags['classification'] = ','.join(types)\r\n",
    "    if type(wayRel) == overpy.Relation:\r\n",
    "        wayRel.tags[\"@id\"] = f\"relation/{wayRel.id}\"\r\n",
    "    else:\r\n",
    "        wayRel.tags[\"@id\"] = f\"way/{wayRel.id}\"\r\n",
    "\r\n",
    "    if len(types) > 1:\r\n",
    "        multiClassifieds.append(wayRel)\r\n",
    "\r\n",
    "    if len(types) == 0:\r\n",
    "        unclassifieds.append(wayRel)"
   ]
  },
  {
   "cell_type": "markdown",
   "metadata": {},
   "source": [
    "## Ergebnisse:"
   ]
  },
  {
   "cell_type": "code",
   "execution_count": null,
   "metadata": {},
   "outputs": [],
   "source": [
    "def href(id):\r\n",
    "    return f\"<a href='https://www.openstreetmap.org/way/{id}'>{id}</a>\"\r\n",
    "\r\n",
    "coverage = sum(typeCount) + len(unclassifieds)\r\n",
    "if coverage != len(allResults):\r\n",
    "    display(HTML(f\"Coverage {coverage} != {len(allResults)} - only ok if Multiple Classifications != 0 !!!\"))\r\n",
    "\r\n",
    "html = f\"<h3>Type overview [{sum(typeCount)}]</h3><ul>\"\r\n",
    "for i in range(0, 7):\r\n",
    "    html += f\"<li>{i+1}: {typeCount[i]}</li>\"\r\n",
    "display(HTML(f\"{html}</u>\"))\r\n",
    "\r\n",
    "if len(multiClassifieds) > 0:\r\n",
    "    html = f\"<h3>Multiple Classifications [{len(multiClassifieds)}]</h3><ul>\"\r\n",
    "    for way in multiClassifieds:\r\n",
    "        wayId = href(way.id)\r\n",
    "        html += f\"<li>{wayId} -> {way.tags['classification']}</li>\"\r\n",
    "    display(HTML(f\"{html}</u>\"))\r\n",
    "\r\n",
    "html = f\"<h3>Unclassified [{len(unclassifieds)}]</h3><ul>\"\r\n",
    "for way in unclassifieds:\r\n",
    "    wayId = href(way.id)\r\n",
    "    html += f\"<li>{wayId} -> {way.tags}</li>\"\r\n",
    "display(HTML(f\"{html}</u>\"))"
   ]
  },
  {
   "cell_type": "markdown",
   "metadata": {},
   "source": [
    "## Create a geojson with explicit tags for the 8 types\r\n",
    "* tag of the property is **classification**, values are type1 ... type8\r\n",
    "* style tags for http://geojson.io - limited to fill color"
   ]
  },
  {
   "cell_type": "code",
   "execution_count": null,
   "metadata": {},
   "outputs": [],
   "source": [
    "import utils.ovp2geojson as o2p\r\n",
    "\r\n",
    "if not os.path.isdir('data'):\r\n",
    "    os.mkdir('data')\r\n",
    "\r\n",
    "# beware: changing this file requires a jupyter kernel restart!\r\n",
    "o2p.create(result, allResults, f\"data/Schongebiete.geojson\")"
   ]
  }
 ],
 "metadata": {
  "kernelspec": {
   "display_name": "Python 3",
   "language": "python",
   "name": "python3"
  },
  "language_info": {
   "codemirror_mode": {
    "name": "ipython",
    "version": 3
   },
   "file_extension": ".py",
   "mimetype": "text/x-python",
   "name": "python",
   "nbconvert_exporter": "python",
   "pygments_lexer": "ipython3",
   "version": "3.8.2"
  },
  "orig_nbformat": 2
 },
 "nbformat": 4,
 "nbformat_minor": 2
}