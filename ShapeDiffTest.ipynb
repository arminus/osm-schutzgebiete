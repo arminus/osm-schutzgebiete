{
 "cells": [
  {
   "cell_type": "markdown",
   "metadata": {},
   "source": [
    "Read existing OSM Schutzgebiete from geojson export\r\n",
    "Read (updated) DAV Shapefile\r\n",
    "\r\n",
    "compare to find new or changed polygons and create an epsg:4326 shape file only with changed/new polygons for import in JOSM\r\n",
    "\r\n",
    "Note: due to some epsg:4326 <-> epsg:31468 reprojection issue the geojson slightly (~ 2 meters) deviates from the DAV shapes\r\n",
    "-> fuzzy matching with intersection over union approach is taken\r\n",
    "\r\n",
    "Deleted polygons are not yet detected"
   ]
  },
  {
   "cell_type": "code",
   "execution_count": 84,
   "metadata": {},
   "outputs": [
    {
     "name": "stdout",
     "output_type": "stream",
     "text": [
      "57\n",
      "54\n",
      "OSM-Gebiete in E:/OSM/Schutzgebiete/Test/Soinwand-XC.geojson: 1 / epsg:4326\n"
     ]
    }
   ],
   "source": [
    "import fiona\r\n",
    "import pyproj\r\n",
    "from shapely.geometry import shape, mapping\r\n",
    "from shapely.ops import transform\r\n",
    "from shapely.geometry import Polygon\r\n",
    "\r\n",
    "import gpxpy\r\n",
    "import gpxpy.gpx\r\n",
    "from rdp import rdp\r\n",
    "\r\n",
    "import copy\r\n",
    "\r\n",
    "def dpr(poly,epsilon=0.000007):\r\n",
    "    coords = []\r\n",
    "    for x,y in poly.exterior.coords:\r\n",
    "        coords.append([x,y])\r\n",
    "    print(len(coords))\r\n",
    "    coords = rdp(coords, epsilon=epsilon)\r\n",
    "    print(len(coords))\r\n",
    "    return Polygon(coords)\r\n",
    "\r\n",
    "# for tests\r\n",
    "origShapeFile = 'E:/OSM/Schutzgebiete/Test/Soinwand-XC.geojson' # epsg:4326\r\n",
    "newShapeFile = 'E:/OSM/Schutzgebiete/Test/Soinwand-DAV.shp' # epsg:31468\r\n",
    "\r\n",
    "shapesUpdateFile = 'E:/OSM/Schutzgebiete/New/new-shapes-test.shp'\r\n",
    "\r\n",
    "# project = pyproj.Transformer.from_proj(\r\n",
    "#     pyproj.Proj(init='epsg:4326'), # source coordinate system\r\n",
    "#     pyproj.Proj(init='epsg:31468')) # destination coordinate system\r\n",
    "\r\n",
    "oldFeatures = []\r\n",
    "with fiona.open(origShapeFile) as input:\r\n",
    "    oldCrs = input.crs\r\n",
    "    schema = input.schema\r\n",
    "    for feat in input:\r\n",
    "        if feat['geometry'] != None and len(feat['geometry']['coordinates'][0]) > 2:\r\n",
    "            poly = shape(feat['geometry'])\r\n",
    "            poly = dpr(poly)\r\n",
    "            feat['geometry'] = mapping(poly)\r\n",
    "            oldFeatures.append(feat)\r\n",
    "size = len(oldFeatures);          \r\n",
    "print(f\"OSM-Gebiete in {origShapeFile}: {size} / {oldCrs['init']}\")"
   ]
  },
  {
   "cell_type": "code",
   "execution_count": 85,
   "metadata": {},
   "outputs": [],
   "source": [
    "def dump_gpx(filename, poly):\r\n",
    "    gpx = gpxpy.gpx.GPX()\r\n",
    "    gpx_track = gpxpy.gpx.GPXTrack()\r\n",
    "    gpx.tracks.append(gpx_track)\r\n",
    "    gpx_segment = gpxpy.gpx.GPXTrackSegment()\r\n",
    "    gpx_track.segments.append(gpx_segment)\r\n",
    "    for x,y in poly.exterior.coords:\r\n",
    "        gpx_segment.points.append(gpxpy.gpx.GPXTrackPoint(y, x))\r\n",
    "    with open(filename, \"w\") as out:    \r\n",
    "        out.write(gpx.to_xml())"
   ]
  },
  {
   "cell_type": "code",
   "execution_count": 86,
   "metadata": {},
   "outputs": [],
   "source": [
    "# poly = dpr(shape(oldFeatures[0]['geometry']), 0.000005)\r\n",
    "dump_gpx(origShapeFile+\".gpx\", shape(oldFeatures[0]['geometry']))"
   ]
  },
  {
   "cell_type": "code",
   "execution_count": 87,
   "metadata": {},
   "outputs": [],
   "source": [
    "# import matplotlib.pyplot as plt\r\n",
    "# poly = shape(oldFeatures[0]['geometry'])\r\n",
    "# x,y = poly.exterior.xy\r\n",
    "# plt.plot(x,y)"
   ]
  },
  {
   "cell_type": "code",
   "execution_count": 88,
   "metadata": {},
   "outputs": [
    {
     "name": "stdout",
     "output_type": "stream",
     "text": [
      "58\n",
      "54\n",
      "Gebiete in E:/OSM/Schutzgebiete/Test/Soinwand-DAV.shp: 1\n"
     ]
    }
   ],
   "source": [
    "# read and 3D to 2D convert abnd reproject DAV shapefile\r\n",
    "\r\n",
    "project = pyproj.Transformer.from_proj(\r\n",
    "    pyproj.Proj(init='epsg:31468'), # source coordinate system\r\n",
    "    pyproj.Proj(init='epsg:4326')) # destination coordinate system\r\n",
    "\r\n",
    "newFeatures = []\r\n",
    "with fiona.open(newShapeFile) as input:\r\n",
    "    schema = input.schema\r\n",
    "    crs = input.crs\r\n",
    "    if crs['init'] != \"epsg:31468\":\r\n",
    "        print(f\"Bad CRS {crs['init']} in {newShapeFile}\")\r\n",
    "        exit\r\n",
    "\r\n",
    "    driver = input.driver\r\n",
    "    for feat in input:\r\n",
    "        if feat['geometry'] != None:\r\n",
    "            if len(feat['geometry']['coordinates']) > 1:\r\n",
    "                # multipolygons - code to be improved...\r\n",
    "                for pfeat in feat['geometry']['coordinates']:\r\n",
    "                    try: # some are len(1) lists, some aren't ?!\r\n",
    "                        poly = Polygon(pfeat[0])\r\n",
    "                    except:\r\n",
    "                        poly = Polygon(pfeat)\r\n",
    "                    poly = transform(lambda x, y, z=None: (x, y), poly)\r\n",
    "                    poly = transform(project.transform, poly)\r\n",
    "                    feat2 = copy.deepcopy(feat)\r\n",
    "                    feat2['geometry'] = mapping(dpr(poly))\r\n",
    "                    newFeatures.append(feat2)\r\n",
    "                continue\r\n",
    "            if len(feat['geometry']['coordinates'][0]) < 3:\r\n",
    "                print(\"Skipping 2-point line\")\r\n",
    "                continue\r\n",
    "            # transform 3D to 2D\r\n",
    "            poly = shape(feat['geometry'])\r\n",
    "            poly = transform(lambda x, y, z=None: (x, y), poly)\r\n",
    "            poly = transform(project.transform, poly)\r\n",
    "            feat['geometry'] = mapping(dpr(poly))\r\n",
    "            newFeatures.append(feat)\r\n",
    "\r\n",
    "size = len(newFeatures);          \r\n",
    "print(f\"Gebiete in {newShapeFile}: {size}\")"
   ]
  },
  {
   "cell_type": "code",
   "execution_count": 89,
   "metadata": {},
   "outputs": [],
   "source": [
    "# poly = dpr(shape(newFeatures[0]['geometry']), 0.000005)\r\n",
    "dump_gpx(newShapeFile+\".gpx\", shape(newFeatures[0]['geometry']))"
   ]
  },
  {
   "cell_type": "code",
   "execution_count": 90,
   "metadata": {},
   "outputs": [],
   "source": [
    "# import matplotlib.pyplot as plt\r\n",
    "# poly = shape(newFeatures[0]['geometry'])\r\n",
    "# x,y = poly.exterior.xy\r\n",
    "# plt.plot(x,y)"
   ]
  },
  {
   "cell_type": "code",
   "execution_count": 91,
   "metadata": {},
   "outputs": [],
   "source": [
    "from shapely.geometry.polygon import orient\r\n",
    "\r\n",
    "def normalize(polygon):\r\n",
    "    \r\n",
    "    def normalize_ring(ring):\r\n",
    "        coords = ring.coords[:-1]\r\n",
    "        start_index = min(range(len(coords)), key=coords.__getitem__)\r\n",
    "        return coords[start_index:] + coords[:start_index]\r\n",
    "\r\n",
    "    polygon = orient(polygon)\r\n",
    "    normalized_exterior = normalize_ring(polygon.exterior)\r\n",
    "    normalized_interiors = list(map(normalize_ring, polygon.interiors))\r\n",
    "    return Polygon(normalized_exterior, normalized_interiors)\r\n"
   ]
  },
  {
   "cell_type": "code",
   "execution_count": 92,
   "metadata": {},
   "outputs": [],
   "source": [
    "geod = pyproj.Geod(ellps='WGS84')\r\n",
    "import statistics\r\n",
    "\r\n",
    "# both polygons need to be in epsg:4326\r\n",
    "def is_shifted(poly1, poly2):\r\n",
    "    # poly1 = normalize(poly1)\r\n",
    "    # poly2 = normalize(poly2)\r\n",
    "    p1c = []\r\n",
    "    p2c = []\r\n",
    "    for x,y in poly1.exterior.coords:\r\n",
    "        p1c.append([x,y])\r\n",
    "    for x,y in poly2.exterior.coords:\r\n",
    "        p2c.append([x,y])\r\n",
    "\r\n",
    "    if len(p1c) != len(p2c):\r\n",
    "        print(str(len(p1c))+\" != \"+str(len(p2c)))\r\n",
    "        return False\r\n",
    "\r\n",
    "    dists = []\r\n",
    "    maxDist = 0\r\n",
    "    for i in range(0,len(p2c)):\r\n",
    "        azimuth1, azimuth2, distance = geod.inv(p1c[i][0], p1c[i][1], p2c[i][0], p2c[i][1])\r\n",
    "        # print(i, p1c[i][0], p1c[i][1], p2c[i][0], p2c[i][1], distance)\r\n",
    "        if distance > maxDist:\r\n",
    "            maxDist = distance;\r\n",
    "        dists.append(distance)\r\n",
    "\r\n",
    "    print(f\"maxDist={maxDist}\")\r\n",
    "    print(\"stdev=\"+str(statistics.stdev(dists)))\r\n",
    "    print(\"var=\"+str(statistics.pvariance(dists)))\r\n",
    "\r\n",
    "    if maxDist < 3.5 and statistics.stdev(dists) < 0.1 and statistics.pvariance(dists) < 0.005:\r\n",
    "        print(\"shifted\")\r\n",
    "        return True\r\n",
    "    else:\r\n",
    "        return False"
   ]
  },
  {
   "cell_type": "code",
   "execution_count": 93,
   "metadata": {},
   "outputs": [
    {
     "name": "stdout",
     "output_type": "stream",
     "text": [
      "maxDist=2.439906648536636\n",
      "stdev=0.03267865758435603\n",
      "var=0.0010481188344504864\n",
      "shifted\n",
      "Gefundene Gebiete = 1\n",
      "Shifted Gebiete = 1\n",
      "Neue/Geänderte Gebiete = 0 -> in E:/OSM/Schutzgebiete/New/new-shapes-test.shp\n"
     ]
    }
   ],
   "source": [
    "# https://www.reddit.com/r/gis/comments/mcw0y0/comparing_two_linestrings_with_shapely/\r\n",
    "\r\n",
    "# from collections import OrderedDict\r\n",
    "# dummyProps = OrderedDict([('Id', None),('Name', ''),('Regelung', '')])\r\n",
    "\r\n",
    "newCount = 0 \r\n",
    "foundCount = 0\r\n",
    "shiftCount = 0\r\n",
    "with fiona.open(shapesUpdateFile, 'w', crs={'init':'epsg:31468'}, driver='ESRI Shapefile', schema=schema) as out:\r\n",
    "    for newFeature in newFeatures:\r\n",
    "        # apply a buffer to avoid TopologyException: Input geom 1 is invalid: Self-intersection at or near point\r\n",
    "        # https://www.programmersought.com/article/69515213493/\r\n",
    "        newGeom = Polygon(shape(newFeature['geometry']).exterior)# .buffer(0.0001)\r\n",
    "        found = False\r\n",
    "        shifted = False\r\n",
    "        for oldFeature in oldFeatures:\r\n",
    "            try:\r\n",
    "                oldGeom = Polygon(shape(oldFeature['geometry']))# .buffer(0.0001)\r\n",
    "                shifted = is_shifted(newGeom, oldGeom)\r\n",
    "                if shifted:\r\n",
    "                    shiftCount += 1\r\n",
    "            except Exception as ex:\r\n",
    "                print(ex)\r\n",
    "                print(oldFeature['geometry'])\r\n",
    "                continue\r\n",
    "            if not shifted:\r\n",
    "                try:\r\n",
    "                    # https://www.pyimagesearch.com/2016/11/07/intersection-over-union-iou-for-object-detection/\r\n",
    "                    iou = newGeom.intersection(oldGeom).area / newGeom.union(oldGeom).area\r\n",
    "                    print(iou)\r\n",
    "                except Exception as ex:\r\n",
    "                    print(ex)\r\n",
    "                    print(newGeom)\r\n",
    "                    print(oldGeom)\r\n",
    "            if iou > 0.985 or shifted:\r\n",
    "                found = True\r\n",
    "                foundCount +=1\r\n",
    "        if not found:\r\n",
    "            newCount += 1\r\n",
    "            out.write(newFeature)\r\n",
    "print(f\"Gefundene Gebiete = {foundCount}\")\r\n",
    "print(f\"Shifted Gebiete = {shiftCount}\")\r\n",
    "print(f\"Neue/Geänderte Gebiete = {newCount} -> in {shapesUpdateFile}\")"
   ]
  }
 ],
 "metadata": {
  "kernelspec": {
   "display_name": "geopandas",
   "language": "python",
   "name": "geopandas"
  },
  "language_info": {
   "codemirror_mode": {
    "name": "ipython",
    "version": 3
   },
   "file_extension": ".py",
   "mimetype": "text/x-python",
   "name": "python",
   "nbconvert_exporter": "python",
   "pygments_lexer": "ipython3",
   "version": "3.8.2"
  },
  "orig_nbformat": 2
 },
 "nbformat": 4,
 "nbformat_minor": 2
}