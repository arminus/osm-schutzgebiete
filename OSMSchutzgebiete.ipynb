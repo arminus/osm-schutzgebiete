{
 "cells": [
  {
   "cell_type": "markdown",
   "metadata": {},
   "source": [
    "# Create a map of all protected_areas with a given protect_class and show contained ways (access set green, no access set red)"
   ]
  },
  {
   "cell_type": "code",
   "execution_count": null,
   "metadata": {},
   "outputs": [],
   "source": [
    "import requests, os, re, sys\r\n",
    "from datetime import datetime\r\n",
    "\r\n",
    "from IPython.core.display import display\r\n",
    "\r\n",
    "import json\r\n",
    "import osm2geojson\r\n",
    "import folium\r\n",
    "\r\n",
    "from utils.mapfolium import add_map_legend\r\n",
    "\r\n",
    "read_overpass = True\r\n",
    "include_ways = True\r\n",
    "silent = False\r\n",
    "\r\n",
    "if len(sys.argv)>1 and sys.argv[1] == \"skipways\":\r\n",
    "    include_ways = False\r\n",
    "if (len(sys.argv)>1 and sys.argv[1] == \"silent\") or (len(sys.argv)>2 and sys.argv[2] == \"silent\"):\r\n",
    "    silent = True\r\n",
    "    \r\n",
    "dataFile = \"data/overpass.json\"\r\n",
    "outHtml = \"html-out/Schongebiete-Alpenrand-BY.html\"\r\n",
    "\r\n",
    "if not os.path.isdir('data'):\r\n",
    "    os.mkdir('data')\r\n",
    "if not os.path.isdir('html-out'):\r\n",
    "    os.mkdir('html-out')"
   ]
  },
  {
   "cell_type": "markdown",
   "metadata": {},
   "source": [
    "## Read data from overpass (or cached .json file)"
   ]
  },
  {
   "cell_type": "code",
   "execution_count": null,
   "metadata": {},
   "outputs": [],
   "source": [
    "if read_overpass:\r\n",
    "    # TODO: use overpy instead\r\n",
    "    # https://wiki.openstreetmap.org/wiki/Overpass_API/Overpass_API_by_Example\r\n",
    "\r\n",
    "    overpass_url = \"http://overpass-api.de/api/interpreter\"\r\n",
    "    bbox = \"47.3,9.8,47.8,13.1\"\r\n",
    "    pclass = \"14\"\r\n",
    "\r\n",
    "    # way[\"highway\"][!\"access:conditional\"][!\"access\"](area); -> get all contained ways but color them differently below\r\n",
    "    # bbox: http://norbertrenner.de/osm/bbox.html\r\n",
    "    # [bbox:{bbox}];\r\n",
    "    overpass_query = f\"\"\"\r\n",
    "    [out:json][bbox:{bbox}];\r\n",
    "    (\r\n",
    "    way[\"boundary\"=\"protected_area\"][\"protect_class\"=\"{pclass}\"];\r\n",
    "    relation[\"boundary\"=\"protected_area\"][\"protect_class\"=\"{pclass}\"];\r\n",
    "    );\r\n",
    "    \"\"\"\r\n",
    "    if include_ways:\r\n",
    "        dataFile = \"data/overpass_ways.json\"\r\n",
    "        outHtml = \"html-out/Schongebiete-Alpenrand-BY-Wege.html\"\r\n",
    "        overpass_query += f\"\"\"\r\n",
    "    map_to_area;(\r\n",
    "    way[\"highway\"](area);\r\n",
    "    way[\"boundary\"=\"protected_area\"][\"protect_class\"=\"{pclass}\"];\r\n",
    "    relation[\"boundary\"=\"protected_area\"][\"protect_class\"=\"{pclass}\"];\r\n",
    "    );\r\n",
    "    \"\"\"\r\n",
    "    overpass_query += f\"\"\"\r\n",
    "    out body;\r\n",
    "    >;\r\n",
    "    out skel qt;\r\n",
    "    \"\"\"\r\n",
    "    response = requests.get(overpass_url, params={'data': overpass_query})\r\n",
    "    data = response.json()\r\n",
    "\r\n",
    "    with open(f\"{dataFile}\", \"w\") as text_file:\r\n",
    "        text_file.write(json.dumps(data))\r\n",
    "else:\r\n",
    "    with open(f\"{dataFile}\", \"r\") as text_file:\r\n",
    "        data = json.loads(text_file.read())"
   ]
  },
  {
   "cell_type": "markdown",
   "metadata": {},
   "source": [
    "## Postprocess the geojson\r\n",
    "- create a geojson with only the ways contained in our areas\r\n",
    "- build a feature.properties.tagsStr which can be picked up from folium.GeoJsonPopup"
   ]
  },
  {
   "cell_type": "code",
   "execution_count": null,
   "metadata": {},
   "outputs": [],
   "source": [
    "# https://pypi.org/project/osm2geojson/\r\n",
    "geojson = osm2geojson.json2geojson(data)"
   ]
  },
  {
   "cell_type": "code",
   "execution_count": null,
   "metadata": {},
   "outputs": [],
   "source": [
    "# -> this is done in OSMSchutzgebiete2GeoJSON\r\n",
    "# from copy import deepcopy\r\n",
    "\r\n",
    "# waysGeoJson = { 'type': \"FeatureCollection\", 'features': []}\r\n",
    "# for feat in geojson['features']:\r\n",
    "#     if not \"boundary\" in feat['properties']['tags']:\r\n",
    "#         # this is a contained way\r\n",
    "#         for tag in feat['properties']['tags']:\r\n",
    "#             # put the tags directly into properties so that we can pick them up in geoserver\r\n",
    "#             feat['properties'][tag] = feat['properties']['tags'][tag]\r\n",
    "#         newFeat = deepcopy(feat) # if we don't deepcopy here, we'd delete the ['tags'] from the original !!\r\n",
    "#         del newFeat['properties']['tags']    \r\n",
    "#         waysGeoJson['features'].append(deepcopy(newFeat)) \r\n",
    "\r\n",
    "# with open(\"data/SchongebieteWays.geojson\", \"w\") as gFile:\r\n",
    "#     json.dump(waysGeoJson, gFile)"
   ]
  },
  {
   "cell_type": "code",
   "execution_count": null,
   "metadata": {},
   "outputs": [],
   "source": [
    "for feat in geojson['features']:\r\n",
    "    id = feat['properties']['id']\r\n",
    "    type = feat['properties']['type'] # \r\n",
    "    tagsStr = [f'<td><b>OSM ID:</b></td><td><a target=\"osm\" href=\"https://www.openstreetmap.org/{type}/{id}\"><b>{id}</b></a> / ' +\r\n",
    "        f'<a target=\"josm\" href=\"http://localhost:8111/load_object?new_layer=false&objects=w{id}\"><b>JOSM</b></a></td>']\r\n",
    "    tags = feat['properties']['tags']\r\n",
    "    for tag in tags.keys():\r\n",
    "        tagsStr.append(f\"<tr><td>{tag}:</td><td>{tags[tag]}</td></tr>\")\r\n",
    "    feat['properties']['tagsStr'] = '<table border=all>'+''.join(tagsStr)+'</table>'"
   ]
  },
  {
   "cell_type": "markdown",
   "metadata": {},
   "source": [
    "## sort the geojson \r\n",
    "- so that all Polygons come first\r\n",
    "- so that folion creates higher z-indexes for the LineString\r\n",
    "- so that they are clickable"
   ]
  },
  {
   "cell_type": "code",
   "execution_count": null,
   "metadata": {},
   "outputs": [],
   "source": [
    "def get_ftype(json): \r\n",
    "    try:\r\n",
    "        return ord(json['geometry']['type'][0])\r\n",
    "    except KeyError:\r\n",
    "        return 0\r\n",
    "list.sort(geojson['features'], key=get_ftype, reverse=True)"
   ]
  },
  {
   "cell_type": "markdown",
   "metadata": {},
   "source": [
    "## Create the map"
   ]
  },
  {
   "cell_type": "code",
   "execution_count": null,
   "metadata": {},
   "outputs": [],
   "source": [
    "def style_function(feature):\r\n",
    "    if feature ['geometry']['type'] == 'Polygon':\r\n",
    "        if ( ( 'access' in feature['properties']['tags'].keys() and re.match(r\"^no.*\", feature['properties']['tags']['access']) ) or\r\n",
    "            ('access:conditional' in feature['properties']['tags'].keys() and re.match(r\"^no.*\", feature['properties']['tags']['access:conditional']) ) ):\r\n",
    "            return {\r\n",
    "                \"fillOpacity\": 0.5,\r\n",
    "                \"fillColor\": \"orange\"\r\n",
    "            }\r\n",
    "        else:\r\n",
    "            return {\r\n",
    "                \"fillOpacity\": 0.5,\r\n",
    "                \"fillColor\": \"yellow\"\r\n",
    "            }\r\n",
    "    elif feature['geometry']['type'] == \"LineString\":\r\n",
    "        color = \"red\"\r\n",
    "        if 'access:conditional' in feature['properties']['tags'].keys():\r\n",
    "            color = \"green\"\r\n",
    "        # if 'access' in feature['properties']['tags'].keys():\r\n",
    "        #     pass            \r\n",
    "        return {\r\n",
    "            \"color\": color\r\n",
    "        }\r\n",
    "    else:\r\n",
    "        return {}\r\n",
    "\r\n",
    "m = folium.Map(\r\n",
    "    location=[47.68, 11.93],\r\n",
    "    zoom_start=12\r\n",
    ")\r\n",
    "\r\n",
    "folium.GeoJson(\r\n",
    "    geojson, \r\n",
    "    name=\"geojson\", \r\n",
    "    style_function = style_function,\r\n",
    "    popup = folium.GeoJsonPopup(\r\n",
    "        fields=['tagsStr'],\r\n",
    "        aliases=['']\r\n",
    "    )    \r\n",
    ").add_to(m)\r\n",
    "\r\n",
    "colors = ['orange','yellow']\r\n",
    "categories = [\"Betretungs-Verbot\", \"Bitte um Nichtbetretung\"]\r\n",
    "\r\n",
    "if include_ways:\r\n",
    "    colors += ['red','green']\r\n",
    "    categories += [\"Weg noch zu sperren\", \"Weg gesperrt\"]\r\n",
    "\r\n",
    "date_time = datetime.now().strftime(\"%d.%m.%Y, %H:%M:%S\")\r\n",
    "m = add_map_legend(m, f\"<b>OSM Wald- und Wild-Schongebiete<br/>Bayerischer Alpenrand</b><br/><i>Stand: {date_time}</i><br/><br/>Kategorie\", colors, categories)\r\n",
    "\r\n",
    "m.save(outHtml)\r\n",
    "\r\n",
    "if not silent:\r\n",
    "    display(m)"
   ]
  }
 ],
 "metadata": {
  "kernelspec": {
   "display_name": "Python 3.8.2 64-bit ('.env')",
   "metadata": {
    "interpreter": {
     "hash": "c1583a91ba8d9042e6938cef4a38a2659d1132ba00553427a7e20d2e070e8f70"
    }
   },
   "name": "python3"
  },
  "language_info": {
   "codemirror_mode": {
    "name": "ipython",
    "version": 3
   },
   "file_extension": ".py",
   "mimetype": "text/x-python",
   "name": "python",
   "nbconvert_exporter": "python",
   "pygments_lexer": "ipython3",
   "version": "3.8.2-final"
  },
  "orig_nbformat": 2
 },
 "nbformat": 4,
 "nbformat_minor": 2
}