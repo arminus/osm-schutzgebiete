{
 "cells": [
  {
   "cell_type": "markdown",
   "metadata": {},
   "source": [
    "Read existing OSM Schutzgebiete from geojson export\r\n",
    "Read (updated) DAV Shapefile\r\n",
    "\r\n",
    "compare to find new or changed polygons and create an epsg:4326 shape file only with changed/new polygons for import in JOSM\r\n",
    "\r\n",
    "Note: due to some epsg:4326 <-> epsg:31468 reprojection issue the geojson slightly (~ 2 meters) deviates from the DAV shapes\r\n",
    "-> fuzzy matching with intersection over union approach is taken\r\n",
    "\r\n",
    "Deleted polygons are not yet detected"
   ]
  },
  {
   "cell_type": "code",
   "execution_count": 1,
   "metadata": {},
   "outputs": [
    {
     "name": "stdout",
     "output_type": "stream",
     "text": [
      "OSM-Gebiete in E:/OSM/Schutzgebiete/Schongebiete.geojson: 651 / epsg:4326\n"
     ]
    }
   ],
   "source": [
    "import fiona\r\n",
    "import pyproj\r\n",
    "from shapely.geometry import shape, mapping\r\n",
    "from shapely.ops import transform\r\n",
    "from shapely.geometry import Polygon\r\n",
    "from rdp import rdp\r\n",
    "\r\n",
    "import copy\r\n",
    "\r\n",
    "# for tests\r\n",
    "# origShapeFile = 'E:/OSM/Schutzgebiete/Rauhkopf.geojson' # epsg:4326\r\n",
    "# newShapeFile = 'E:/OSM/Schutzgebiete/Rauhkopf/Rauhkopf.shp' # epsg:31468\r\n",
    "\r\n",
    "# real files\r\n",
    "origShapeFile = 'E:/OSM/Schutzgebiete/Schongebiete.geojson' # epsg:4326\r\n",
    "newShapeFile = 'E:/OSM/Schutzgebiete/200126_Schutzgebiete_By-Karten/Schutzgebiete_BY-Karten-epsg4326.shp' # epsg:4326\r\n",
    "# newShapeFile = 'E:/OSM/Schutzgebiete/200126_Schutzgebiete_By-Karten/Schutzgebiete_BY-Karten.shp' # epsg:31468\r\n",
    "# newShapeFile = 'E:/OSM/Schutzgebiete/Schongebiete-Alt/Schongebiete.shp' # epsg:31468\r\n",
    "\r\n",
    "shapesUpdateFile = 'E:/OSM/Schutzgebiete/New/new-shapes.shp'\r\n",
    "shapesIdenticalFile = 'E:/OSM/Schutzgebiete/New/same-shapes.shp'\r\n",
    "\r\n",
    "# project = pyproj.Transformer.from_proj(\r\n",
    "#     pyproj.Proj(init='epsg:4326'),\r\n",
    "#     pyproj.Proj(init='epsg:31468'))\r\n",
    "\r\n",
    "oldFeatures = []\r\n",
    "with fiona.open(origShapeFile) as input:\r\n",
    "    oldCrs = input.crs\r\n",
    "    for feat in input:\r\n",
    "        if feat['geometry'] != None and len(feat['geometry']['coordinates'][0]) > 2:\r\n",
    "            # poly = shape(feat['geometry'])\r\n",
    "            # poly = transform(project.transform, poly)\r\n",
    "            # feat['geometry'] = mapping(poly)\r\n",
    "            oldFeatures.append(feat)\r\n",
    "size = len(oldFeatures)\r\n",
    "print(f\"OSM-Gebiete in {origShapeFile}: {size} / {oldCrs['init']}\")"
   ]
  },
  {
   "cell_type": "code",
   "execution_count": 2,
   "metadata": {},
   "outputs": [],
   "source": [
    "# import matplotlib.pyplot as plt\r\n",
    "# poly = shape(oldFeatures[300]['geometry'])\r\n",
    "# x,y = poly.exterior.xy\r\n",
    "# plt.plot(x,y)"
   ]
  },
  {
   "cell_type": "code",
   "execution_count": 3,
   "metadata": {},
   "outputs": [
    {
     "name": "stdout",
     "output_type": "stream",
     "text": [
      "Ignoring FFH-Gebiet (A)\n",
      "Ignoring FFH-Gebiet (A)\n",
      "Ignoring FFH-Gebiet (A)\n",
      "Ignoring FFH-Gebiet (A)\n",
      "Ignoring FFH-Gebiet (A)\n",
      "Gebiete in E:/OSM/Schutzgebiete/200126_Schutzgebiete_By-Karten/Schutzgebiete_BY-Karten-epsg4326.shp: 410\n"
     ]
    }
   ],
   "source": [
    "# read and 3D to 2D convert and reproject DAV shapefile\r\n",
    "\r\n",
    "newFeatures = []\r\n",
    "with fiona.open(newShapeFile) as input:\r\n",
    "    schema = input.schema\r\n",
    "    crs = input.crs\r\n",
    "    # if crs['init'] != \"epsg:31468\":\r\n",
    "    #     print(f\"Bad CRS {crs['init']} in {newShapeFile}\")\r\n",
    "    #     exit\r\n",
    "\r\n",
    "    driver = input.driver\r\n",
    "    for feat in input:\r\n",
    "        if 'Kategorie' in feat['properties'] and feat['properties']['Kategorie'] != None and feat['properties']['Kategorie'] == \"FFH-Gebiet (A)\":\r\n",
    "            print(\"Ignoring FFH-Gebiet (A)\")\r\n",
    "            continue\r\n",
    "        if feat['geometry'] != None:\r\n",
    "            if len(feat['geometry']['coordinates']) > 1:\r\n",
    "                # multipolygons - code to be improved...\r\n",
    "                for pfeat in feat['geometry']['coordinates']:\r\n",
    "                    try: # some are len(1) lists, some aren't ?!\r\n",
    "                        poly = Polygon(pfeat[0])\r\n",
    "                    except:\r\n",
    "                        poly = Polygon(pfeat)\r\n",
    "                    poly = transform(lambda x, y, z=None: (x, y), poly)\r\n",
    "                    feat2 = copy.deepcopy(feat)\r\n",
    "                    feat2['geometry'] = mapping(poly)\r\n",
    "                    newFeatures.append(feat2)\r\n",
    "                continue\r\n",
    "            if len(feat['geometry']['coordinates'][0]) < 3:\r\n",
    "                print(\"Skipping 2-point line\")\r\n",
    "                continue\r\n",
    "            # transform 3D to 2D\r\n",
    "            poly = shape(feat['geometry'])\r\n",
    "            poly = transform(lambda x, y, z=None: (x, y), poly)\r\n",
    "            feat['geometry'] = mapping(poly)\r\n",
    "            newFeatures.append(feat)\r\n",
    "\r\n",
    "size = len(newFeatures);          \r\n",
    "print(f\"Gebiete in {newShapeFile}: {size}\")"
   ]
  },
  {
   "cell_type": "code",
   "execution_count": 4,
   "metadata": {},
   "outputs": [
    {
     "name": "stdout",
     "output_type": "stream",
     "text": [
      "Gefundene Gebiete = 368\n",
      "Neue/Geänderte Gebiete = 42 -> in E:/OSM/Schutzgebiete/New/new-shapes.shp\n"
     ]
    }
   ],
   "source": [
    "# https://www.reddit.com/r/gis/comments/mcw0y0/comparing_two_linestrings_with_shapely/\r\n",
    "\r\n",
    "# from collections import OrderedDict\r\n",
    "# dummyProps = OrderedDict([('Id', None),('Name', ''),('Regelung', '')])\r\n",
    "\r\n",
    "newCount = 0 \r\n",
    "foundCount = 0\r\n",
    "newFeaturesOut = []\r\n",
    "sameFeatures = []\r\n",
    "\r\n",
    "for newFeature in newFeatures:\r\n",
    "    # apply a buffer to avoid TopologyException: Input geom 1 is invalid: Self-intersection at or near point\r\n",
    "    # https://www.programmersought.com/article/69515213493/\r\n",
    "    newGeom = Polygon(shape(newFeature['geometry']).exterior)\r\n",
    "    newGeomB = newGeom.buffer(0.0001)\r\n",
    "    found = False\r\n",
    "    for oldFeature in oldFeatures:\r\n",
    "        try:\r\n",
    "            oldGeom = Polygon(shape(oldFeature['geometry']))\r\n",
    "            oldGeomB = oldGeom.buffer(0.0001)\r\n",
    "        except Exception as ex:\r\n",
    "            # FIXME: 'MultiPolygon' object has no attribute 'exterior' - why ?!?! - MultiPolygons get removed above?!\r\n",
    "            # print(ex)\r\n",
    "            # print(oldFeature['geometry'])\r\n",
    "            continue\r\n",
    "        try:\r\n",
    "            # this doesn't work on epsg:31468 coordinates\r\n",
    "            # if oldGeom.almost_equals(newGeom, decimal=0):\r\n",
    "            #     iou = 1\r\n",
    "            # else:\r\n",
    "            #     iou = 0\r\n",
    "            # https://www.pyimagesearch.com/2016/11/07/intersection-over-union-iou-for-object-detection/\r\n",
    "            iou = newGeomB.intersection(oldGeomB).area / newGeomB.union(oldGeomB).area\r\n",
    "        except Exception as ex:\r\n",
    "            print(ex)\r\n",
    "            print(newGeom)\r\n",
    "            print(oldGeom)\r\n",
    "        if iou > 0.995: # baseline 0.985\r\n",
    "            found = True\r\n",
    "            foundCount +=1\r\n",
    "            sameFeatures.append(newFeature)\r\n",
    "    if not found:\r\n",
    "        newCount += 1\r\n",
    "        newFeaturesOut.append(newFeature)\r\n",
    "\r\n",
    "with fiona.open(shapesUpdateFile, 'w', crs={'init':'epsg:4326'}, driver='ESRI Shapefile', schema=schema) as out:\r\n",
    "    for f in newFeaturesOut:\r\n",
    "        out.write(f)\r\n",
    "\r\n",
    "with fiona.open(shapesIdenticalFile, 'w', crs={'init':'epsg:4326'}, driver='ESRI Shapefile', schema=schema) as out:\r\n",
    "    for f in sameFeatures:\r\n",
    "        out.write(f)\r\n",
    "\r\n",
    "print(f\"Gefundene Gebiete = {foundCount}\") # 368\r\n",
    "print(f\"Neue/Geänderte Gebiete = {newCount} -> in {shapesUpdateFile}\") # 42"
   ]
  }
 ],
 "metadata": {
  "kernelspec": {
   "display_name": "geopandas",
   "language": "python",
   "name": "geopandas"
  },
  "language_info": {
   "codemirror_mode": {
    "name": "ipython",
    "version": 3
   },
   "file_extension": ".py",
   "mimetype": "text/x-python",
   "name": "python",
   "nbconvert_exporter": "python",
   "pygments_lexer": "ipython3",
   "version": "3.8.2"
  },
  "orig_nbformat": 2
 },
 "nbformat": 4,
 "nbformat_minor": 2
}