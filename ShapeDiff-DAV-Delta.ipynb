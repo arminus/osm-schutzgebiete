{
 "cells": [
  {
   "cell_type": "code",
   "execution_count": 7,
   "metadata": {},
   "outputs": [],
   "source": [
    "import fiona\r\n",
    "from shapely.geometry import shape, mapping\r\n",
    "from shapely.ops import transform\r\n",
    "from shapely.geometry import Polygon\r\n",
    "import copy\r\n",
    "\r\n",
    "origShapeFile = 'E:/OSM/Schutzgebiete/Schongebiete-Alt/Schongebiete-4326.shp' # epsg:4326\r\n",
    "newShapeFile = 'E:/OSM/Schutzgebiete/200126_Schutzgebiete_By-Karten/Schutzgebiete_BY-Karten-epsg4326.shp' # epsg:4326\r\n",
    "\r\n",
    "shapesUpdateFile = 'E:/OSM/Schutzgebiete/New/new-shapes-dav.shp'\r\n",
    "shapesIdenticalFile = 'E:/OSM/Schutzgebiete/New/same-shapes-dav.shp'\r\n",
    "shapesDeletedFile = 'E:/OSM/Schutzgebiete/New/deleted-shapes-dav.shp'"
   ]
  },
  {
   "cell_type": "code",
   "execution_count": 13,
   "metadata": {},
   "outputs": [],
   "source": [
    "# read and 3D to 2D convert DAV shapefile\r\n",
    "def read_dav(shapeFile):\r\n",
    "    newFeatures = []\r\n",
    "    with fiona.open(shapeFile) as input:\r\n",
    "        schema = input.schema\r\n",
    "        crs = input.crs\r\n",
    "        driver = input.driver\r\n",
    "        for feat in input:\r\n",
    "            if 'Kategorie' in feat['properties'] and feat['properties']['Kategorie'] != None and feat['properties']['Kategorie'] == \"FFH-Gebiet (A)\":\r\n",
    "                print(\"Ignoring FFH-Gebiet (A)\")\r\n",
    "                continue\r\n",
    "            if feat['geometry'] != None:\r\n",
    "                if len(feat['geometry']['coordinates']) > 1:\r\n",
    "                    # multipolygons - code to be improved...\r\n",
    "                    for pfeat in feat['geometry']['coordinates']:\r\n",
    "                        try: # some are len(1) lists, some aren't ?!\r\n",
    "                            poly = Polygon(pfeat[0])\r\n",
    "                        except:\r\n",
    "                            poly = Polygon(pfeat)\r\n",
    "                        poly = transform(lambda x, y, z=None: (x, y), poly)\r\n",
    "                        feat2 = copy.deepcopy(feat)\r\n",
    "                        feat2['geometry'] = mapping(poly)\r\n",
    "                        newFeatures.append(feat2)\r\n",
    "                    continue\r\n",
    "                if len(feat['geometry']['coordinates'][0]) < 3:\r\n",
    "                    print(\"Skipping 2-point line\")\r\n",
    "                    continue\r\n",
    "                # transform 3D to 2D\r\n",
    "                poly = shape(feat['geometry'])\r\n",
    "                poly = transform(lambda x, y, z=None: (x, y), poly)\r\n",
    "                feat['geometry'] = mapping(poly)\r\n",
    "                newFeatures.append(feat)\r\n",
    "\r\n",
    "    size = len(newFeatures);          \r\n",
    "    print(f\"Gebiete in {shapeFile}: {size}\")\r\n",
    "    return newFeatures, schema"
   ]
  },
  {
   "cell_type": "code",
   "execution_count": 14,
   "metadata": {},
   "outputs": [
    {
     "name": "stdout",
     "output_type": "stream",
     "text": [
      "Gebiete in E:/OSM/Schutzgebiete/Schongebiete-Alt/Schongebiete-4326.shp: 235\n",
      "Ignoring FFH-Gebiet (A)\n",
      "Ignoring FFH-Gebiet (A)\n",
      "Ignoring FFH-Gebiet (A)\n",
      "Ignoring FFH-Gebiet (A)\n",
      "Ignoring FFH-Gebiet (A)\n",
      "Gebiete in E:/OSM/Schutzgebiete/200126_Schutzgebiete_By-Karten/Schutzgebiete_BY-Karten-epsg4326.shp: 410\n"
     ]
    }
   ],
   "source": [
    "oldFeatures, schema = read_dav(origShapeFile)\r\n",
    "newFeatures, schema = read_dav(newShapeFile)"
   ]
  },
  {
   "cell_type": "code",
   "execution_count": 15,
   "metadata": {},
   "outputs": [
    {
     "name": "stdout",
     "output_type": "stream",
     "text": [
      "Not found: OrderedDict([('Id', 0), ('Name', None), ('Regelung', 'Skitouren- und Schneeschuhgeher: Bitte nicht betreten oder befahren!')])\n",
      "Not found: OrderedDict([('Id', 2), ('Name', None), ('Regelung', 'Skitouren- und Schneeschuhgeher: Bitte nicht betreten oder befahren!')])\n",
      "Not found: OrderedDict([('Id', 3), ('Name', None), ('Regelung', 'Skitouren- und Schneeschuhgeher: Bitte nicht betreten oder befahren!')])\n",
      "Not found: OrderedDict([('Id', 12), ('Name', None), ('Regelung', 'Skitouren- und Schneeschuhgeher: Bitte nicht betreten oder befahren!')])\n",
      "Not found: OrderedDict([('Id', 18), ('Name', None), ('Regelung', 'Skitouren- und Schneeschuhgeher: Bitte nicht betreten oder befahren!')])\n",
      "Not found: OrderedDict([('Id', 19), ('Name', None), ('Regelung', 'Skitouren- und Schneeschuhgeher: Bitte nicht betreten oder befahren!')])\n",
      "Not found: OrderedDict([('Id', 20), ('Name', None), ('Regelung', 'Skitouren- und Schneeschuhgeher: Bitte nicht betreten oder befahren!')])\n",
      "Not found: OrderedDict([('Id', 22), ('Name', 'Tagweidkopf-Lacherspitz'), ('Regelung', 'Skitouren- und Schneeschuhgeher: Bitte nicht betreten oder befahren!')])\n",
      "Not found: OrderedDict([('Id', 33), ('Name', 'Hochmiesing-Steilenberg'), ('Regelung', 'Skitouren- und Schneeschuhgeher: Bitte nicht betreten oder befahren!')])\n",
      "Not found: OrderedDict([('Id', 37), ('Name', 'Kleiner Brünnberg'), ('Regelung', 'Skitouren- und Schneeschuhgeher: Bitte nicht betreten oder befahren!')])\n",
      "Not found: OrderedDict([('Id', 48), ('Name', None), ('Regelung', 'Skitouren- und Schneeschuhgeher: Bitte nicht betreten oder befahren!')])\n",
      "Not found: OrderedDict([('Id', 52), ('Name', None), ('Regelung', 'Skitouren- und Schneeschuhgeher: Bitte nicht betreten oder befahren!')])\n"
     ]
    },
    {
     "ename": "KeyboardInterrupt",
     "evalue": "",
     "output_type": "error",
     "traceback": [
      "\u001b[1;31m---------------------------------------------------------------------------\u001b[0m",
      "\u001b[1;31mKeyboardInterrupt\u001b[0m                         Traceback (most recent call last)",
      "\u001b[1;32m<ipython-input-15-b2db7035f59e>\u001b[0m in \u001b[0;36m<module>\u001b[1;34m\u001b[0m\n\u001b[0;32m     13\u001b[0m         \u001b[1;32mtry\u001b[0m\u001b[1;33m:\u001b[0m\u001b[1;33m\u001b[0m\u001b[1;33m\u001b[0m\u001b[0m\n\u001b[0;32m     14\u001b[0m             \u001b[0mnewGeom\u001b[0m \u001b[1;33m=\u001b[0m \u001b[0mPolygon\u001b[0m\u001b[1;33m(\u001b[0m\u001b[0mshape\u001b[0m\u001b[1;33m(\u001b[0m\u001b[0mnewFeature\u001b[0m\u001b[1;33m[\u001b[0m\u001b[1;34m'geometry'\u001b[0m\u001b[1;33m]\u001b[0m\u001b[1;33m)\u001b[0m\u001b[1;33m)\u001b[0m\u001b[1;33m\u001b[0m\u001b[1;33m\u001b[0m\u001b[0m\n\u001b[1;32m---> 15\u001b[1;33m             \u001b[0mnewGeomB\u001b[0m \u001b[1;33m=\u001b[0m \u001b[0mnewGeom\u001b[0m\u001b[1;33m.\u001b[0m\u001b[0mbuffer\u001b[0m\u001b[1;33m(\u001b[0m\u001b[1;36m0.0001\u001b[0m\u001b[1;33m)\u001b[0m\u001b[1;33m\u001b[0m\u001b[1;33m\u001b[0m\u001b[0m\n\u001b[0m\u001b[0;32m     16\u001b[0m         \u001b[1;32mexcept\u001b[0m \u001b[0mException\u001b[0m \u001b[1;32mas\u001b[0m \u001b[0mex\u001b[0m\u001b[1;33m:\u001b[0m\u001b[1;33m\u001b[0m\u001b[1;33m\u001b[0m\u001b[0m\n\u001b[0;32m     17\u001b[0m             \u001b[1;32mcontinue\u001b[0m\u001b[1;33m\u001b[0m\u001b[1;33m\u001b[0m\u001b[0m\n",
      "\u001b[1;32mc:\\Data\\Development\\Python\\Geopandas\\.env\\lib\\site-packages\\shapely\\geometry\\base.py\u001b[0m in \u001b[0;36mbuffer\u001b[1;34m(self, distance, resolution, quadsegs, cap_style, join_style, mitre_limit, single_sided)\u001b[0m\n\u001b[0;32m    635\u001b[0m             \u001b[0mself\u001b[0m\u001b[1;33m.\u001b[0m\u001b[0m_lgeos\u001b[0m\u001b[1;33m.\u001b[0m\u001b[0mGEOSBufferParams_setQuadrantSegments\u001b[0m\u001b[1;33m(\u001b[0m\u001b[0mparams\u001b[0m\u001b[1;33m,\u001b[0m \u001b[0mres\u001b[0m\u001b[1;33m)\u001b[0m\u001b[1;33m\u001b[0m\u001b[1;33m\u001b[0m\u001b[0m\n\u001b[0;32m    636\u001b[0m             \u001b[0mself\u001b[0m\u001b[1;33m.\u001b[0m\u001b[0m_lgeos\u001b[0m\u001b[1;33m.\u001b[0m\u001b[0mGEOSBufferParams_setSingleSided\u001b[0m\u001b[1;33m(\u001b[0m\u001b[0mparams\u001b[0m\u001b[1;33m,\u001b[0m \u001b[0msingle_sided\u001b[0m\u001b[1;33m)\u001b[0m\u001b[1;33m\u001b[0m\u001b[1;33m\u001b[0m\u001b[0m\n\u001b[1;32m--> 637\u001b[1;33m             \u001b[1;32mreturn\u001b[0m \u001b[0mgeom_factory\u001b[0m\u001b[1;33m(\u001b[0m\u001b[0mself\u001b[0m\u001b[1;33m.\u001b[0m\u001b[0mimpl\u001b[0m\u001b[1;33m[\u001b[0m\u001b[1;34m'buffer_with_params'\u001b[0m\u001b[1;33m]\u001b[0m\u001b[1;33m(\u001b[0m\u001b[0mself\u001b[0m\u001b[1;33m,\u001b[0m \u001b[0mparams\u001b[0m\u001b[1;33m,\u001b[0m \u001b[0mdistance\u001b[0m\u001b[1;33m)\u001b[0m\u001b[1;33m)\u001b[0m\u001b[1;33m\u001b[0m\u001b[1;33m\u001b[0m\u001b[0m\n\u001b[0m\u001b[0;32m    638\u001b[0m \u001b[1;33m\u001b[0m\u001b[0m\n\u001b[0;32m    639\u001b[0m         \u001b[1;32mif\u001b[0m \u001b[0mcap_style\u001b[0m \u001b[1;33m==\u001b[0m \u001b[0mCAP_STYLE\u001b[0m\u001b[1;33m.\u001b[0m\u001b[0mround\u001b[0m \u001b[1;32mand\u001b[0m \u001b[0mjoin_style\u001b[0m \u001b[1;33m==\u001b[0m \u001b[0mJOIN_STYLE\u001b[0m\u001b[1;33m.\u001b[0m\u001b[0mround\u001b[0m\u001b[1;33m:\u001b[0m\u001b[1;33m\u001b[0m\u001b[1;33m\u001b[0m\u001b[0m\n",
      "\u001b[1;32mc:\\Data\\Development\\Python\\Geopandas\\.env\\lib\\site-packages\\shapely\\topology.py\u001b[0m in \u001b[0;36m__call__\u001b[1;34m(self, this, *args)\u001b[0m\n\u001b[0;32m     76\u001b[0m     \u001b[1;32mdef\u001b[0m \u001b[0m__call__\u001b[0m\u001b[1;33m(\u001b[0m\u001b[0mself\u001b[0m\u001b[1;33m,\u001b[0m \u001b[0mthis\u001b[0m\u001b[1;33m,\u001b[0m \u001b[1;33m*\u001b[0m\u001b[0margs\u001b[0m\u001b[1;33m)\u001b[0m\u001b[1;33m:\u001b[0m\u001b[1;33m\u001b[0m\u001b[1;33m\u001b[0m\u001b[0m\n\u001b[0;32m     77\u001b[0m         \u001b[0mself\u001b[0m\u001b[1;33m.\u001b[0m\u001b[0m_validate\u001b[0m\u001b[1;33m(\u001b[0m\u001b[0mthis\u001b[0m\u001b[1;33m)\u001b[0m\u001b[1;33m\u001b[0m\u001b[1;33m\u001b[0m\u001b[0m\n\u001b[1;32m---> 78\u001b[1;33m         \u001b[1;32mreturn\u001b[0m \u001b[0mself\u001b[0m\u001b[1;33m.\u001b[0m\u001b[0mfn\u001b[0m\u001b[1;33m(\u001b[0m\u001b[0mthis\u001b[0m\u001b[1;33m.\u001b[0m\u001b[0m_geom\u001b[0m\u001b[1;33m,\u001b[0m \u001b[1;33m*\u001b[0m\u001b[0margs\u001b[0m\u001b[1;33m)\u001b[0m\u001b[1;33m\u001b[0m\u001b[1;33m\u001b[0m\u001b[0m\n\u001b[0m",
      "\u001b[1;31mKeyboardInterrupt\u001b[0m: "
     ]
    }
   ],
   "source": [
    "# iterate old shapes and check if they still exist in new shapes\r\n",
    "# not working because it also writes signifcantly changed shapes\r\n",
    "# -> writes shapesDeletedFile\r\n",
    "delCount = 0 \r\n",
    "foundCount = 0\r\n",
    "missingFeaturesOut = []\r\n",
    "sameFeatures = []\r\n",
    "\r\n",
    "for oldFeature in oldFeatures:\r\n",
    "    oldGeom = Polygon(shape(oldFeature['geometry']).exterior)\r\n",
    "    oldGeomB = oldGeom.buffer(0.0001)\r\n",
    "    found = False\r\n",
    "    for newFeature in newFeatures:\r\n",
    "        try:\r\n",
    "            newGeom = Polygon(shape(newFeature['geometry']))\r\n",
    "            newGeomB = newGeom.buffer(0.0001)\r\n",
    "        except Exception as ex:\r\n",
    "            continue\r\n",
    "        try:\r\n",
    "            iou = oldGeomB.intersection(newGeomB).area / oldGeomB.union(newGeomB).area\r\n",
    "        except Exception as ex:\r\n",
    "            print(ex)\r\n",
    "            print(newGeom)\r\n",
    "            print(oldGeom)\r\n",
    "        if iou > 0.995:\r\n",
    "            found = True\r\n",
    "            foundCount +=1\r\n",
    "            sameFeatures.append(oldFeature)\r\n",
    "    if not found:\r\n",
    "        delCount += 1\r\n",
    "        missingFeaturesOut.append(oldFeature)\r\n",
    "        print(f\"Not found: {oldFeature['properties']}\")\r\n",
    "\r\n",
    "with fiona.open(shapesDeletedFile, 'w', crs={'init':'epsg:4326'}, driver='ESRI Shapefile', schema=schema) as out:\r\n",
    "    for f in missingFeaturesOut:\r\n",
    "        out.write(f)\r\n",
    "\r\n",
    "print(f\"Gefundene Gebiete = {foundCount}\")\r\n",
    "print(f\"Gelöschte Gebiete = {delCount} -> in {shapesUpdateFile}\")"
   ]
  },
  {
   "cell_type": "code",
   "execution_count": 22,
   "metadata": {},
   "outputs": [
    {
     "name": "stdout",
     "output_type": "stream",
     "text": [
      "Gefundene Gebiete = 359\n",
      "Neue/Geänderte Gebiete = 51 -> in E:/OSM/Schutzgebiete/New/new-shapes.shp\n"
     ]
    }
   ],
   "source": [
    "newCount = 0 \r\n",
    "foundCount = 0\r\n",
    "newFeaturesOut = []\r\n",
    "sameFeatures = []\r\n",
    "\r\n",
    "for newFeature in newFeatures:\r\n",
    "    newGeom = Polygon(shape(newFeature['geometry']).exterior)\r\n",
    "    newGeomB = newGeom.buffer(0.0001)\r\n",
    "    found = False\r\n",
    "    for oldFeature in oldFeatures:\r\n",
    "        try:\r\n",
    "            oldGeom = Polygon(shape(oldFeature['geometry']))\r\n",
    "            oldGeomB = oldGeom.buffer(0.0001)\r\n",
    "        except Exception as ex:\r\n",
    "            continue\r\n",
    "        try:\r\n",
    "            iou = newGeomB.intersection(oldGeomB).area / newGeomB.union(oldGeomB).area\r\n",
    "        except Exception as ex:\r\n",
    "            print(ex)\r\n",
    "            print(newGeom)\r\n",
    "            print(oldGeom)\r\n",
    "        if iou > 0.995:\r\n",
    "            found = True\r\n",
    "            foundCount +=1\r\n",
    "            sameFeatures.append(newFeature)\r\n",
    "    if not found:\r\n",
    "        newCount += 1\r\n",
    "        newFeaturesOut.append(newFeature)\r\n",
    "\r\n",
    "with fiona.open(shapesUpdateFile, 'w', crs={'init':'epsg:4326'}, driver='ESRI Shapefile', schema=schema) as out:\r\n",
    "    for f in newFeaturesOut:\r\n",
    "        out.write(f)\r\n",
    "\r\n",
    "with fiona.open(shapesIdenticalFile, 'w', crs={'init':'epsg:4326'}, driver='ESRI Shapefile', schema=schema) as out:\r\n",
    "    for f in sameFeatures:\r\n",
    "        out.write(f)\r\n",
    "\r\n",
    "print(f\"Gefundene Gebiete = {foundCount}\")\r\n",
    "print(f\"Neue/Geänderte Gebiete = {newCount} -> in {shapesUpdateFile}\")"
   ]
  }
 ],
 "metadata": {
  "kernelspec": {
   "display_name": "geopandas",
   "language": "python",
   "name": "geopandas"
  },
  "language_info": {
   "codemirror_mode": {
    "name": "ipython",
    "version": 3
   },
   "file_extension": ".py",
   "mimetype": "text/x-python",
   "name": "python",
   "nbconvert_exporter": "python",
   "pygments_lexer": "ipython3",
   "version": "3.8.2"
  },
  "orig_nbformat": 2
 },
 "nbformat": 4,
 "nbformat_minor": 2
}