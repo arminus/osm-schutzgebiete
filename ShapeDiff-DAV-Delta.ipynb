{
 "cells": [
  {
   "cell_type": "code",
   "execution_count": 32,
   "metadata": {},
   "outputs": [],
   "source": [
    "import fiona\r\n",
    "from shapely.geometry import shape, mapping\r\n",
    "from shapely.ops import transform\r\n",
    "from shapely.geometry import Polygon\r\n",
    "import copy\r\n",
    "\r\n",
    "# origShapeFile = 'E:/OSM/Schutzgebiete/Schongebiete-Alt/Schongebiete-4326.shp' # epsg:4326\r\n",
    "origShapeFile = 'E:/OSM/Schutzgebiete/Schongebiete.geojson' # epsg:4326\r\n",
    "newShapeFile = 'E:/OSM/Schutzgebiete/200126_Schutzgebiete_By-Karten/Schutzgebiete_BY-Karten-epsg4326.shp' # epsg:4326\r\n",
    "\r\n",
    "shapesUpdateFile = 'E:/OSM/Schutzgebiete/New/new-shapes-dav.shp'\r\n",
    "shapesIdenticalFile = 'E:/OSM/Schutzgebiete/New/same-shapes-dav.shp'\r\n",
    "shapesDeletedFile = 'E:/OSM/Schutzgebiete/New/deleted-shapes-dav.shp'\r\n",
    "shapesDeletedGeoJson = 'E:/OSM/Schutzgebiete/deleted-shapes-dav.geojson'"
   ]
  },
  {
   "cell_type": "code",
   "execution_count": 27,
   "metadata": {},
   "outputs": [],
   "source": [
    "def read_geojson(geojsonFile):\r\n",
    "    oldFeatures = []\r\n",
    "    with fiona.open(geojsonFile) as input:\r\n",
    "        schema = input.schema\r\n",
    "        for feat in input:\r\n",
    "            if 'classification' in feat['properties'] and feat['properties']['classification'] != '':\r\n",
    "                if feat['geometry'] != None and len(feat['geometry']['coordinates'][0]) > 2:\r\n",
    "                    oldFeatures.append(feat)\r\n",
    "    size = len(oldFeatures)\r\n",
    "    print(f\"OSM-Gebiete in {geojsonFile}: {size}\")\r\n",
    "    return oldFeatures, schema\r\n",
    "\r\n",
    "# read and 3D to 2D convert DAV shapefile\r\n",
    "def read_dav(shapeFile):\r\n",
    "    newFeatures = []\r\n",
    "    with fiona.open(shapeFile) as input:\r\n",
    "        schema = input.schema\r\n",
    "        # crs = input.crs\r\n",
    "        # driver = input.driver\r\n",
    "        for feat in input:\r\n",
    "            if 'Kategorie' in feat['properties'] and feat['properties']['Kategorie'] != None and feat['properties']['Kategorie'] == \"FFH-Gebiet (A)\":\r\n",
    "                print(\"Ignoring FFH-Gebiet (A)\")\r\n",
    "                continue\r\n",
    "            if feat['geometry'] != None:\r\n",
    "                if len(feat['geometry']['coordinates']) > 1:\r\n",
    "                    # multipolygons - code to be improved...\r\n",
    "                    for pfeat in feat['geometry']['coordinates']:\r\n",
    "                        try: # some are len(1) lists, some aren't ?!\r\n",
    "                            poly = Polygon(pfeat[0])\r\n",
    "                        except:\r\n",
    "                            poly = Polygon(pfeat)\r\n",
    "                        poly = transform(lambda x, y, z=None: (x, y), poly)\r\n",
    "                        feat2 = copy.deepcopy(feat)\r\n",
    "                        feat2['geometry'] = mapping(poly)\r\n",
    "                        newFeatures.append(feat2)\r\n",
    "                    continue\r\n",
    "                if len(feat['geometry']['coordinates'][0]) < 3:\r\n",
    "                    print(\"Skipping 2-point line\")\r\n",
    "                    continue\r\n",
    "                # transform 3D to 2D\r\n",
    "                poly = shape(feat['geometry'])\r\n",
    "                poly = transform(lambda x, y, z=None: (x, y), poly)\r\n",
    "                feat['geometry'] = mapping(poly)\r\n",
    "                newFeatures.append(feat)\r\n",
    "\r\n",
    "    size = len(newFeatures);          \r\n",
    "    print(f\"Gebiete in {shapeFile}: {size}\")\r\n",
    "    return newFeatures, schema"
   ]
  },
  {
   "cell_type": "code",
   "execution_count": 28,
   "metadata": {},
   "outputs": [
    {
     "name": "stdout",
     "output_type": "stream",
     "text": [
      "OSM-Gebiete in E:/OSM/Schutzgebiete/Schongebiete.geojson: 430\n",
      "Ignoring FFH-Gebiet (A)\n",
      "Ignoring FFH-Gebiet (A)\n",
      "Ignoring FFH-Gebiet (A)\n",
      "Ignoring FFH-Gebiet (A)\n",
      "Ignoring FFH-Gebiet (A)\n",
      "Gebiete in E:/OSM/Schutzgebiete/200126_Schutzgebiete_By-Karten/Schutzgebiete_BY-Karten-epsg4326.shp: 410\n"
     ]
    }
   ],
   "source": [
    "oldFeatures, schemaGJ = read_geojson(origShapeFile)\r\n",
    "newFeatures, schemaShp = read_dav(newShapeFile)"
   ]
  },
  {
   "cell_type": "code",
   "execution_count": 29,
   "metadata": {},
   "outputs": [
    {
     "name": "stdout",
     "output_type": "stream",
     "text": [
      "Gefundene Gebiete = 344\n",
      "Gelöschte Gebiete = 86 -> in E:/OSM/Schutzgebiete/New/deleted-shapes-dav.shp\n"
     ]
    }
   ],
   "source": [
    "# iterate old shapes and check if they still exist in new shapes\r\n",
    "# -> writes shapesDeletedFile\r\n",
    "delCount = 0 \r\n",
    "foundCount = 0\r\n",
    "missingFeaturesOut = []\r\n",
    "sameFeatures = []\r\n",
    "\r\n",
    "for oldFeature in oldFeatures:\r\n",
    "    oldGeom = Polygon(shape(oldFeature['geometry']).exterior)\r\n",
    "    oldGeomB = oldGeom.buffer(0.0001)\r\n",
    "    found = False\r\n",
    "    for newFeature in newFeatures:\r\n",
    "        try:\r\n",
    "            newGeom = Polygon(shape(newFeature['geometry']))\r\n",
    "            newGeomB = newGeom.buffer(0.0001)\r\n",
    "        except Exception as ex:\r\n",
    "            continue\r\n",
    "        try:\r\n",
    "            iou = oldGeomB.intersection(newGeomB).area / oldGeomB.union(newGeomB).area\r\n",
    "        except Exception as ex:\r\n",
    "            print(ex)\r\n",
    "            print(newGeom)\r\n",
    "            print(oldGeom)\r\n",
    "        if iou > 0.995:\r\n",
    "            found = True\r\n",
    "            foundCount +=1\r\n",
    "            sameFeatures.append(oldFeature)\r\n",
    "    if not found:\r\n",
    "        delCount += 1\r\n",
    "        missingFeaturesOut.append(oldFeature)\r\n",
    "        # print(f\"Not found: {oldFeature['properties']}\")\r\n",
    "\r\n",
    "print(f\"Gefundene Gebiete = {foundCount}\")\r\n",
    "print(f\"Gelöschte Gebiete = {delCount} -> in {shapesDeletedFile}\")"
   ]
  },
  {
   "cell_type": "code",
   "execution_count": 30,
   "metadata": {},
   "outputs": [],
   "source": [
    "with fiona.open(shapesDeletedFile, 'w', crs={'init':'epsg:4326'}, driver='ESRI Shapefile', schema=schemaGJ) as out:\r\n",
    "    for f in missingFeaturesOut:\r\n",
    "        out.write(f)"
   ]
  },
  {
   "cell_type": "code",
   "execution_count": 33,
   "metadata": {},
   "outputs": [],
   "source": [
    "with fiona.open(shapesDeletedGeoJson, 'w', crs={'init':'epsg:4326'}, driver='GeoJSON', schema=schemaGJ) as out:\r\n",
    "    for f in missingFeaturesOut:\r\n",
    "        out.write(f)"
   ]
  }
 ],
 "metadata": {
  "kernelspec": {
   "display_name": "geopandas",
   "language": "python",
   "name": "geopandas"
  },
  "language_info": {
   "codemirror_mode": {
    "name": "ipython",
    "version": 3
   },
   "file_extension": ".py",
   "mimetype": "text/x-python",
   "name": "python",
   "nbconvert_exporter": "python",
   "pygments_lexer": "ipython3",
   "version": "3.8.2"
  },
  "orig_nbformat": 2
 },
 "nbformat": 4,
 "nbformat_minor": 2
}