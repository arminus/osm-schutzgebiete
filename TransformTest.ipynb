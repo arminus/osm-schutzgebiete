{
 "cells": [
  {
   "cell_type": "code",
   "execution_count": 22,
   "metadata": {},
   "outputs": [],
   "source": [
    "import fiona\r\n",
    "import pyproj\r\n",
    "import copy\r\n",
    "\r\n",
    "from shapely.geometry import shape, mapping\r\n",
    "from shapely.ops import transform\r\n",
    "\r\n",
    "\r\n",
    "shapeFile = 'E:/OSM/Schutzgebiete/Test/Bruennstein-DAV.shp' # epsg:31468\r\n",
    "shapeFile31468  = 'E:/OSM/Schutzgebiete/Test/Bruennstein-DAV-31468.shp'\r\n",
    "shapeFile4326  = 'E:/OSM/Schutzgebiete/Test/Bruennstein-DAV-4326.shp'\r\n",
    "\r\n",
    "project1 = pyproj.Transformer.from_proj(\r\n",
    "    pyproj.Proj(init='epsg:31468',proj='tmerc',lat_0=0,lon_0=12,x_0=4500000,y_0=0,ellps='bessel',towgs=[598.1,73.7,418.2,0.202,0.045,-2.455,6.7]),\r\n",
    "    pyproj.Proj(init='epsg:4326'))\r\n",
    "\r\n",
    "project2 = pyproj.Transformer.from_proj(\r\n",
    "    pyproj.Proj(init='epsg:4326'),\r\n",
    "    pyproj.Proj(init='epsg:31468'))\r\n",
    "\r\n",
    "features31468 = []\r\n",
    "features4326 = []\r\n",
    "\r\n",
    "with fiona.open(shapeFile) as input:\r\n",
    "    schema = input.schema\r\n",
    "    for feat in input:\r\n",
    "        feat2 = copy.deepcopy(feat)\r\n",
    "\r\n",
    "        poly = shape(feat['geometry'])\r\n",
    "        poly = transform(lambda x, y, z=None: (x, y), poly)\r\n",
    "        poly = transform(project1.transform, poly)\r\n",
    "        feat['geometry'] = mapping(poly)\r\n",
    "        features4326.append(feat)\r\n",
    "\r\n",
    "        poly2 = shape(feat2['geometry'])\r\n",
    "        poly2 = transform(lambda x, y, z=None: (x, y), poly2)\r\n",
    "        poly2 = transform(project1.transform, poly2)\r\n",
    "        poly2 = transform(project2.transform, poly2)\r\n",
    "        feat2['geometry'] = mapping(poly2)\r\n",
    "        features31468.append(feat2)\r\n",
    "\r\n",
    "with fiona.open(shapeFile4326, 'w', crs={'init':'epsg:4326'}, driver='ESRI Shapefile', schema=schema) as out:\r\n",
    "    for f in features4326:\r\n",
    "        out.write(f)\r\n",
    "\r\n",
    "with fiona.open(shapeFile31468, 'w', crs={'init':'epsg:31468'}, driver='ESRI Shapefile', schema=schema) as out:\r\n",
    "    for f in features31468:\r\n",
    "        out.write(f)\r\n"
   ]
  }
 ],
 "metadata": {
  "kernelspec": {
   "display_name": "Python 3.8.2 64-bit ('.env': venv)",
   "metadata": {
    "interpreter": {
     "hash": "c1583a91ba8d9042e6938cef4a38a2659d1132ba00553427a7e20d2e070e8f70"
    }
   },
   "name": "python3"
  },
  "language_info": {
   "codemirror_mode": {
    "name": "ipython",
    "version": 3
   },
   "file_extension": ".py",
   "mimetype": "text/x-python",
   "name": "python",
   "nbconvert_exporter": "python",
   "pygments_lexer": "ipython3",
   "version": "3.8.2"
  },
  "orig_nbformat": 2
 },
 "nbformat": 4,
 "nbformat_minor": 2
}